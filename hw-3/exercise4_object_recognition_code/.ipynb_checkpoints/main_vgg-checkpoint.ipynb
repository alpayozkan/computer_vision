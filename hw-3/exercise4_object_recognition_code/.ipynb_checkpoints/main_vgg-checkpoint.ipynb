{
 "cells": [
  {
   "cell_type": "code",
   "execution_count": 1,
   "id": "2a97994b-0b68-4259-b234-6213f30914ae",
   "metadata": {},
   "outputs": [],
   "source": [
    "import torch\n",
    "import time\n",
    "from tqdm import tqdm\n",
    "import argparse\n",
    "from loader.dataloader_cifar10 import DataloaderCifar10\n",
    "# from models.vgg_simplified import Vgg\n",
    "from utils import *\n",
    "import torch.nn.functional as F\n",
    "\n",
    "\n"
   ]
  },
  {
   "cell_type": "code",
   "execution_count": null,
   "id": "f0bbada8-2b02-4612-9e42-2012dc172e17",
   "metadata": {},
   "outputs": [],
   "source": []
  },
  {
   "cell_type": "code",
   "execution_count": 2,
   "id": "3225663d-6372-42f5-9e03-603c1e044ff6",
   "metadata": {},
   "outputs": [],
   "source": [
    "import torch\n",
    "import torch.nn as nn\n",
    "import math"
   ]
  },
  {
   "cell_type": "code",
   "execution_count": null,
   "id": "c9a1cc56-6d94-48e3-be67-86c14e4e9bfd",
   "metadata": {},
   "outputs": [],
   "source": []
  },
  {
   "cell_type": "code",
   "execution_count": 10,
   "id": "a1e29a8f-3ded-4079-b8a8-c3c1daabd629",
   "metadata": {},
   "outputs": [],
   "source": [
    "# input shape: [bs, 3, 32, 32]\n",
    "bs = 128\n",
    "inp = torch.randn((bs, 3, 32, 32))"
   ]
  },
  {
   "cell_type": "code",
   "execution_count": 15,
   "id": "8fe65337-a1f7-4e03-b739-ea3ab9c7f47a",
   "metadata": {},
   "outputs": [
    {
     "data": {
      "text/plain": [
       "torch.Size([128, 64, 32, 32])"
      ]
     },
     "execution_count": 15,
     "metadata": {},
     "output_type": "execute_result"
    }
   ],
   "source": [
    "x = nn.Conv2d(3, 64, kernel_size=3, padding=1)(inp)\n",
    "x.shape"
   ]
  },
  {
   "cell_type": "code",
   "execution_count": 16,
   "id": "07814343-731f-4804-9eeb-66ec8ee6f22b",
   "metadata": {},
   "outputs": [
    {
     "data": {
      "text/plain": [
       "torch.Size([128, 64, 16, 16])"
      ]
     },
     "execution_count": 16,
     "metadata": {},
     "output_type": "execute_result"
    }
   ],
   "source": [
    "nn.MaxPool2d(kernel_size=2)(x).shape"
   ]
  },
  {
   "cell_type": "code",
   "execution_count": 18,
   "id": "87d9dbff-d116-4adb-8944-7d6bb4c835d4",
   "metadata": {},
   "outputs": [],
   "source": [
    "conv_block1  = nn.Sequential(\n",
    "            nn.Conv2d(3, 64, kernel_size=3, padding=1),\n",
    "            nn.ReLU(),\n",
    "            nn.MaxPool2d(kernel_size=2),\n",
    "        )\n",
    "\n",
    "conv_block2  = nn.Sequential(\n",
    "            nn.Conv2d(64, 128, kernel_size=3, padding=1),\n",
    "            nn.ReLU(),\n",
    "            nn.MaxPool2d(kernel_size=2),\n",
    "        )"
   ]
  },
  {
   "cell_type": "code",
   "execution_count": 20,
   "id": "22eb7771-166b-4d1e-9e95-4bb64f94d0f9",
   "metadata": {},
   "outputs": [],
   "source": [
    "tmp_net = \\\n",
    "nn.Sequential(\n",
    "    conv_block1,\n",
    "    conv_block2\n",
    ")"
   ]
  },
  {
   "cell_type": "code",
   "execution_count": 22,
   "id": "ac2729ce-7492-4436-a8b8-3629de334d72",
   "metadata": {},
   "outputs": [
    {
     "data": {
      "text/plain": [
       "torch.Size([128, 128, 8, 8])"
      ]
     },
     "execution_count": 22,
     "metadata": {},
     "output_type": "execute_result"
    }
   ],
   "source": [
    "tmp_net(inp).shape"
   ]
  },
  {
   "cell_type": "code",
   "execution_count": 25,
   "id": "9ec2f9f9-3d06-4232-b0b3-23399a61c2db",
   "metadata": {},
   "outputs": [],
   "source": [
    "fc_layer = 512"
   ]
  },
  {
   "cell_type": "code",
   "execution_count": null,
   "id": "7567faaa-4006-4e36-90f3-957be496a840",
   "metadata": {},
   "outputs": [],
   "source": []
  },
  {
   "cell_type": "code",
   "execution_count": 28,
   "id": "43138fbf-7963-404d-b8ef-e114b9bc6d84",
   "metadata": {},
   "outputs": [],
   "source": [
    "conv_block1  = nn.Sequential(\n",
    "    nn.Conv2d(3, 64, kernel_size=3, padding=1),\n",
    "    nn.ReLU(),\n",
    "    nn.MaxPool2d(kernel_size=2),\n",
    ")\n",
    "\n",
    "conv_block2  = nn.Sequential(\n",
    "    nn.Conv2d(64, 128, kernel_size=3, padding=1),\n",
    "    nn.ReLU(),\n",
    "    nn.MaxPool2d(kernel_size=2),\n",
    ")\n",
    "\n",
    "conv_block3  = nn.Sequential(\n",
    "    nn.Conv2d(128, 256, kernel_size=3, padding=1),\n",
    "    nn.ReLU(),\n",
    "    nn.MaxPool2d(kernel_size=2),\n",
    ")\n",
    "\n",
    "conv_block4  = nn.Sequential(\n",
    "    nn.Conv2d(256, 512, kernel_size=3, padding=1),\n",
    "    nn.ReLU(),\n",
    "    nn.MaxPool2d(kernel_size=2),\n",
    ")\n",
    "\n",
    "conv_block5  = nn.Sequential(\n",
    "    nn.Conv2d(fc_layer, 512, kernel_size=3, padding=1),\n",
    "    nn.ReLU(),\n",
    "    nn.MaxPool2d(kernel_size=2),\n",
    ")\n",
    "\n",
    "conv_net = nn.Sequential(\n",
    "    conv_block1,\n",
    "    conv_block2,\n",
    "    conv_block3,\n",
    "    conv_block4,\n",
    "    conv_block5\n",
    ")"
   ]
  },
  {
   "cell_type": "code",
   "execution_count": null,
   "id": "30ab8cf1-fd41-43a9-aece-a32ebc0495e4",
   "metadata": {},
   "outputs": [],
   "source": []
  },
  {
   "cell_type": "code",
   "execution_count": 27,
   "id": "445ad9f5-32cc-403a-8a65-1a2523e68eb6",
   "metadata": {},
   "outputs": [],
   "source": [
    "cls = nn.Sequential(\n",
    "    nn.Linear(fc_layer, fc_layer),\n",
    "    nn.ReLU(),\n",
    "    nn.Dropout(p=0.75),\n",
    "    nn.Linear(fc_layer, 10),\n",
    ")"
   ]
  },
  {
   "cell_type": "code",
   "execution_count": 32,
   "id": "2597d036-7c89-4290-92a6-b4a248ee9079",
   "metadata": {},
   "outputs": [
    {
     "data": {
      "text/plain": [
       "torch.Size([128, 512, 1, 1])"
      ]
     },
     "execution_count": 32,
     "metadata": {},
     "output_type": "execute_result"
    }
   ],
   "source": [
    "conv_net(inp).shape"
   ]
  },
  {
   "cell_type": "code",
   "execution_count": 36,
   "id": "793f25e5-1045-4cdd-bc46-be38b0b4fc2c",
   "metadata": {},
   "outputs": [
    {
     "data": {
      "text/plain": [
       "torch.Size([128, 512])"
      ]
     },
     "execution_count": 36,
     "metadata": {},
     "output_type": "execute_result"
    }
   ],
   "source": [
    "conv_net(inp).flatten(1).shape"
   ]
  },
  {
   "cell_type": "code",
   "execution_count": 38,
   "id": "bf9ad017-cbbc-4d82-88c3-3d980e06cff6",
   "metadata": {},
   "outputs": [
    {
     "data": {
      "text/plain": [
       "torch.Size([128, 10])"
      ]
     },
     "execution_count": 38,
     "metadata": {},
     "output_type": "execute_result"
    }
   ],
   "source": [
    "cls(conv_net(inp).flatten(1)).shape"
   ]
  },
  {
   "cell_type": "code",
   "execution_count": null,
   "id": "829a0107-d91d-4ad1-8fb3-44aa374cad1d",
   "metadata": {},
   "outputs": [],
   "source": []
  },
  {
   "cell_type": "code",
   "execution_count": 61,
   "id": "7db34804-c4c3-4c6c-a186-7d78e546384f",
   "metadata": {},
   "outputs": [],
   "source": [
    "class Vgg(nn.Module):\n",
    "    def __init__(self, fc_layer=512, classes=10):\n",
    "        super(Vgg, self).__init__()\n",
    "        \"\"\" Initialize VGG simplified Module\n",
    "        Args: \n",
    "            fc_layer: input feature number for the last fully MLP block\n",
    "            classes: number of image classes\n",
    "        \"\"\"\n",
    "        self.fc_layer = fc_layer\n",
    "        self.classes = classes\n",
    "\n",
    "        # todo: construct the simplified VGG network blocks\n",
    "        # input shape: [bs, 3, 32, 32]\n",
    "        # layers and output feature shape for each block:\n",
    "        # # conv_block1 (Conv2d, ReLU, MaxPool2d) --> [bs, 64, 16, 16]\n",
    "        # # conv_block2 (Conv2d, ReLU, MaxPool2d) --> [bs, 128, 8, 8]\n",
    "        # # conv_block3 (Conv2d, ReLU, MaxPool2d) --> [bs, 256, 4, 4]\n",
    "        # # conv_block4 (Conv2d, ReLU, MaxPool2d) --> [bs, 512, 2, 2]\n",
    "        # # conv_block5 (Conv2d, ReLU, MaxPool2d) --> [bs, 512, 1, 1]\n",
    "        # # classifier (Linear, ReLU, Dropout, Linear) --> [bs, 10] (final output)\n",
    "\n",
    "        # hint: stack layers in each block with nn.Sequential, e.x.:\n",
    "        # # self.conv_block1 = nn.Sequential(\n",
    "        # #     layer1,\n",
    "        # #     layer2,\n",
    "        # #     layer3,\n",
    "        # #     ...)\n",
    "        # for all conv layers, set: kernel=3, padding=1\n",
    "\n",
    "        ...\n",
    "        conv_block1  = nn.Sequential(\n",
    "            nn.Conv2d(3, 64, kernel_size=3, padding=1),\n",
    "            nn.ReLU(),\n",
    "            nn.MaxPool2d(kernel_size=2),\n",
    "        )\n",
    "\n",
    "        conv_block2  = nn.Sequential(\n",
    "            nn.Conv2d(64, 128, kernel_size=3, padding=1),\n",
    "            nn.ReLU(),\n",
    "            nn.MaxPool2d(kernel_size=2),\n",
    "        )\n",
    "\n",
    "        conv_block3  = nn.Sequential(\n",
    "            nn.Conv2d(128, 256, kernel_size=3, padding=1),\n",
    "            nn.ReLU(),\n",
    "            nn.MaxPool2d(kernel_size=2),\n",
    "        )\n",
    "\n",
    "        conv_block4  = nn.Sequential(\n",
    "            nn.Conv2d(256, 512, kernel_size=3, padding=1),\n",
    "            nn.ReLU(),\n",
    "            nn.MaxPool2d(kernel_size=2),\n",
    "        )\n",
    "\n",
    "        conv_block5  = nn.Sequential(\n",
    "            nn.Conv2d(self.fc_layer, 512, kernel_size=3, padding=1),\n",
    "            nn.ReLU(),\n",
    "            nn.MaxPool2d(kernel_size=2),\n",
    "        )\n",
    "\n",
    "        self.convnet = nn.Sequential(\n",
    "            conv_block1,\n",
    "            conv_block2,\n",
    "            conv_block3,\n",
    "            conv_block4,\n",
    "            conv_block5\n",
    "        )\n",
    "        \n",
    "        self.cls = nn.Sequential(\n",
    "            nn.Linear(self.fc_layer, self.fc_layer),\n",
    "            nn.ReLU(),\n",
    "            nn.Dropout(p=0.5),\n",
    "            nn.Linear(self.fc_layer, 10),\n",
    "        )\n",
    "\n",
    "\n",
    "        \n",
    "        for m in self.modules():\n",
    "            if isinstance(m, nn.Conv2d):\n",
    "                n = m.kernel_size[0] * m.kernel_size[1] * m.out_channels\n",
    "                m.weight.data.normal_(0, math.sqrt(2. / n))\n",
    "                m.bias.data.zero_()\n",
    "\n",
    "\n",
    "    def forward(self, x):\n",
    "        \"\"\"\n",
    "        :param x: input image batch tensor, [bs, 3, 32, 32]\n",
    "        :return: score: predicted score for each class (10 classes in total), [bs, 10]\n",
    "        \"\"\"\n",
    "        score = None\n",
    "        # todo\n",
    "        ...\n",
    "        x = self.convnet(x)\n",
    "        x = x.flatten(1)\n",
    "        x = self.cls(x)\n",
    "        score = x\n",
    "        \n",
    "        return score\n",
    "\n"
   ]
  },
  {
   "cell_type": "code",
   "execution_count": null,
   "id": "20043846-fd21-4a7a-8a4f-6c5293fd24f8",
   "metadata": {},
   "outputs": [],
   "source": []
  },
  {
   "cell_type": "code",
   "execution_count": null,
   "id": "87d85535-25dd-4d2f-83c2-521303315acc",
   "metadata": {},
   "outputs": [],
   "source": []
  },
  {
   "cell_type": "code",
   "execution_count": null,
   "id": "3398d1c0-2eeb-4d33-ae9d-b6769b520474",
   "metadata": {},
   "outputs": [],
   "source": []
  },
  {
   "cell_type": "code",
   "execution_count": null,
   "id": "f906ec10-c8e0-4bd8-ad1a-1e27ef4887a5",
   "metadata": {},
   "outputs": [],
   "source": []
  },
  {
   "cell_type": "code",
   "execution_count": null,
   "id": "2a1450f2-9fee-4c41-bfd8-2157fd77d66f",
   "metadata": {},
   "outputs": [],
   "source": []
  },
  {
   "cell_type": "code",
   "execution_count": null,
   "id": "7b4216b5-8d31-49b6-82f4-0539d9a30cee",
   "metadata": {},
   "outputs": [],
   "source": []
  },
  {
   "cell_type": "code",
   "execution_count": null,
   "id": "36422944-dbbc-4357-a16e-6dc3a3161838",
   "metadata": {},
   "outputs": [],
   "source": []
  },
  {
   "cell_type": "code",
   "execution_count": 62,
   "id": "f05bef45-2f07-4b9d-a226-8f36c00a3aa4",
   "metadata": {},
   "outputs": [],
   "source": [
    "####### training settings #########\n",
    "parser = argparse.ArgumentParser()\n",
    "parser.add_argument(\"--batch_size\", default=128, type=int)\n",
    "parser.add_argument(\"--log_step\", default=100, type=int, help='how many steps to log once')\n",
    "parser.add_argument(\"--val_step\", default=100, type=int)\n",
    "parser.add_argument(\"--num_epoch\", default=50, type=int, help='maximum num of training epochs')\n",
    "\n",
    "\n",
    "parser.add_argument(\"--fc_layer\", default=512, type=int, help='feature number the first linear layer in VGG')\n",
    "parser.add_argument(\"--lr\", default=0.0001, type=float, help='learning rate')\n",
    "\n",
    "parser.add_argument(\"--save_dir\", default='runs', type=str, help='path to save trained models and logs')\n",
    "parser.add_argument(\"--root\", default='data/data_cnn/cifar-10-batches-py', type=str, help='path to dataset folder')\n",
    "args = parser.parse_args(args=[])\n",
    "###################################\n",
    "\n",
    "\n",
    "device = torch.device(\"cuda\" if torch.cuda.is_available() else \"cpu\")\n",
    "# devide = torch.device('cpu')"
   ]
  },
  {
   "cell_type": "code",
   "execution_count": null,
   "id": "1a4f9a34-9f29-4e3b-be9a-e933c06d2c32",
   "metadata": {},
   "outputs": [],
   "source": []
  },
  {
   "cell_type": "code",
   "execution_count": 63,
   "id": "a5ec6bcc-4045-4e3a-9fcf-dc45d4f109e2",
   "metadata": {},
   "outputs": [
    {
     "data": {
      "text/plain": [
       "Namespace(batch_size=128, log_step=100, val_step=100, num_epoch=50, fc_layer=512, lr=0.0001, save_dir='runs', root='data/data_cnn/cifar-10-batches-py')"
      ]
     },
     "execution_count": 63,
     "metadata": {},
     "output_type": "execute_result"
    }
   ],
   "source": [
    "args"
   ]
  },
  {
   "cell_type": "code",
   "execution_count": null,
   "id": "cc6c23c9-96e7-4bbf-bb0c-bf650b2e2055",
   "metadata": {},
   "outputs": [],
   "source": []
  },
  {
   "cell_type": "code",
   "execution_count": null,
   "id": "6b89af55-f43b-40c0-84df-91e7751c9f25",
   "metadata": {},
   "outputs": [],
   "source": []
  },
  {
   "cell_type": "code",
   "execution_count": 64,
   "id": "0c8599e0-fca3-4cfd-9ee1-b607129bc8a1",
   "metadata": {},
   "outputs": [
    {
     "name": "stdout",
     "output_type": "stream",
     "text": [
      "[INFO] train set loaded, 45000 samples in total.\n",
      "[INFO] val set loaded, 5000 samples in total.\n"
     ]
    }
   ],
   "source": [
    "\n",
    "# def train(writer, logger):\n",
    "train_dataset = DataloaderCifar10(img_size=32, is_transform=True, split='train')\n",
    "train_dataset.load_data(args.root)\n",
    "train_dataloader = torch.utils.data.DataLoader(dataset=train_dataset, batch_size=args.batch_size, shuffle=True,\n",
    "                                               num_workers=2)\n",
    "\n",
    "val_dataset = DataloaderCifar10(img_size=32, is_transform=False, split='val')\n",
    "val_dataset.load_data(args.root)\n",
    "val_dataloader = torch.utils.data.DataLoader(dataset=val_dataset, batch_size=args.batch_size, shuffle=False,\n",
    "                                             num_workers=2)"
   ]
  },
  {
   "cell_type": "code",
   "execution_count": 65,
   "id": "6b97cc08-b975-4c45-aad5-6b90ff5cad37",
   "metadata": {},
   "outputs": [],
   "source": [
    "model = Vgg(fc_layer=args.fc_layer, classes=10).to(device)\n",
    "optimizer = torch.optim.Adam(model.parameters(), lr=args.lr)"
   ]
  },
  {
   "cell_type": "code",
   "execution_count": 66,
   "id": "e85aa5ae-061d-420d-b2cc-821e3a9d2c78",
   "metadata": {},
   "outputs": [
    {
     "data": {
      "text/plain": [
       "Vgg(\n",
       "  (convnet): Sequential(\n",
       "    (0): Sequential(\n",
       "      (0): Conv2d(3, 64, kernel_size=(3, 3), stride=(1, 1), padding=(1, 1))\n",
       "      (1): ReLU()\n",
       "      (2): MaxPool2d(kernel_size=2, stride=2, padding=0, dilation=1, ceil_mode=False)\n",
       "    )\n",
       "    (1): Sequential(\n",
       "      (0): Conv2d(64, 128, kernel_size=(3, 3), stride=(1, 1), padding=(1, 1))\n",
       "      (1): ReLU()\n",
       "      (2): MaxPool2d(kernel_size=2, stride=2, padding=0, dilation=1, ceil_mode=False)\n",
       "    )\n",
       "    (2): Sequential(\n",
       "      (0): Conv2d(128, 256, kernel_size=(3, 3), stride=(1, 1), padding=(1, 1))\n",
       "      (1): ReLU()\n",
       "      (2): MaxPool2d(kernel_size=2, stride=2, padding=0, dilation=1, ceil_mode=False)\n",
       "    )\n",
       "    (3): Sequential(\n",
       "      (0): Conv2d(256, 512, kernel_size=(3, 3), stride=(1, 1), padding=(1, 1))\n",
       "      (1): ReLU()\n",
       "      (2): MaxPool2d(kernel_size=2, stride=2, padding=0, dilation=1, ceil_mode=False)\n",
       "    )\n",
       "    (4): Sequential(\n",
       "      (0): Conv2d(512, 512, kernel_size=(3, 3), stride=(1, 1), padding=(1, 1))\n",
       "      (1): ReLU()\n",
       "      (2): MaxPool2d(kernel_size=2, stride=2, padding=0, dilation=1, ceil_mode=False)\n",
       "    )\n",
       "  )\n",
       "  (cls): Sequential(\n",
       "    (0): Linear(in_features=512, out_features=512, bias=True)\n",
       "    (1): ReLU()\n",
       "    (2): Dropout(p=0.5, inplace=False)\n",
       "    (3): Linear(in_features=512, out_features=10, bias=True)\n",
       "  )\n",
       ")"
      ]
     },
     "execution_count": 66,
     "metadata": {},
     "output_type": "execute_result"
    }
   ],
   "source": [
    "model"
   ]
  },
  {
   "cell_type": "code",
   "execution_count": null,
   "id": "4a3a2f68-4b9d-4c92-a9f6-b2c85f164bbe",
   "metadata": {},
   "outputs": [],
   "source": []
  },
  {
   "cell_type": "code",
   "execution_count": 67,
   "id": "6ff004ad-0c58-436d-adae-6c17c9c907ca",
   "metadata": {},
   "outputs": [
    {
     "name": "stdout",
     "output_type": "stream",
     "text": [
      "RUNDIR: runs/13086\n",
      "[*] PARAM path: runs/13086/params.json\n"
     ]
    }
   ],
   "source": [
    "run_id = random.randint(1, 100000)\n",
    "logdir = os.path.join(args.save_dir, str(run_id))  # create new path\n",
    "writer = SummaryWriter(log_dir=logdir)\n",
    "print('RUNDIR: {}'.format(logdir))\n",
    "\n",
    "logger = get_logger(logdir)\n",
    "logger.info('Let the games begin')  # write in log file\n",
    "save_config(logdir, args)"
   ]
  },
  {
   "cell_type": "code",
   "execution_count": null,
   "id": "a2d24d5f-d657-4ee0-aff9-74c24d250895",
   "metadata": {},
   "outputs": [],
   "source": []
  },
  {
   "cell_type": "code",
   "execution_count": null,
   "id": "f3908176-1086-49d1-8761-e56ebaf4ad62",
   "metadata": {},
   "outputs": [],
   "source": []
  },
  {
   "cell_type": "code",
   "execution_count": 68,
   "id": "1a588507-8a4a-40d9-9dde-0b5013fba5ca",
   "metadata": {},
   "outputs": [
    {
     "name": "stderr",
     "output_type": "stream",
     "text": [
      "  0%|                                                   | 0/50 [00:00<?, ?it/s]"
     ]
    },
    {
     "name": "stdout",
     "output_type": "stream",
     "text": [
      "[Step 99/ Epoch 0]  Loss: 1.9758  \n",
      "acc: 29.74\n",
      "[*] best model saved\n",
      "\n",
      "[Step 199/ Epoch 0]  Loss: 1.7470  \n",
      "acc: 33.34\n",
      "[*] best model saved\n",
      "\n",
      "[Step 299/ Epoch 0]  Loss: 1.8413  \n",
      "acc: 40.26\n",
      "[*] best model saved\n",
      "\n"
     ]
    },
    {
     "name": "stderr",
     "output_type": "stream",
     "text": [
      "  2%|▊                                       | 1/50 [04:38<3:47:49, 278.98s/it]"
     ]
    },
    {
     "name": "stdout",
     "output_type": "stream",
     "text": [
      "[Step 47/ Epoch 1]  Loss: 1.6367  \n",
      "acc: 43.02\n",
      "[*] best model saved\n",
      "\n",
      "[Step 147/ Epoch 1]  Loss: 1.6975  \n",
      "acc: 44.82\n",
      "[*] best model saved\n",
      "\n",
      "[Step 247/ Epoch 1]  Loss: 1.3984  \n",
      "acc: 46.46\n",
      "[*] best model saved\n",
      "\n",
      "[Step 347/ Epoch 1]  Loss: 1.5007  \n",
      "acc: 46.48\n",
      "[*] best model saved\n",
      "\n"
     ]
    },
    {
     "name": "stderr",
     "output_type": "stream",
     "text": [
      "  4%|█▌                                      | 2/50 [09:31<3:49:34, 286.97s/it]"
     ]
    },
    {
     "name": "stdout",
     "output_type": "stream",
     "text": [
      "[Step 95/ Epoch 2]  Loss: 1.3434  \n",
      "acc: 48.94\n",
      "[*] best model saved\n",
      "\n",
      "[Step 195/ Epoch 2]  Loss: 1.4879  \n",
      "acc: 50.58\n",
      "[*] best model saved\n",
      "\n",
      "[Step 295/ Epoch 2]  Loss: 1.4659  \n",
      "acc: 52.78\n",
      "[*] best model saved\n",
      "\n"
     ]
    },
    {
     "name": "stderr",
     "output_type": "stream",
     "text": [
      "  6%|██▍                                     | 3/50 [14:08<3:41:02, 282.18s/it]"
     ]
    },
    {
     "name": "stdout",
     "output_type": "stream",
     "text": [
      "[Step 43/ Epoch 3]  Loss: 1.5502  \n",
      "acc: 52.46\n",
      "[Step 143/ Epoch 3]  Loss: 1.2750  \n",
      "acc: 54.26\n",
      "[*] best model saved\n",
      "\n",
      "[Step 243/ Epoch 3]  Loss: 1.2140  \n",
      "acc: 55.28\n",
      "[*] best model saved\n",
      "\n",
      "[Step 343/ Epoch 3]  Loss: 1.4012  \n",
      "acc: 56.22\n",
      "[*] best model saved\n",
      "\n"
     ]
    },
    {
     "name": "stderr",
     "output_type": "stream",
     "text": [
      "  8%|███▏                                    | 4/50 [18:42<3:33:52, 278.98s/it]"
     ]
    },
    {
     "name": "stdout",
     "output_type": "stream",
     "text": [
      "[Step 91/ Epoch 4]  Loss: 1.1613  \n",
      "acc: 56.66\n",
      "[*] best model saved\n",
      "\n",
      "[Step 191/ Epoch 4]  Loss: 1.3204  \n",
      "acc: 56.24\n",
      "[Step 291/ Epoch 4]  Loss: 1.2859  \n",
      "acc: 56.2\n"
     ]
    },
    {
     "name": "stderr",
     "output_type": "stream",
     "text": [
      " 10%|████                                    | 5/50 [22:47<3:20:15, 267.00s/it]"
     ]
    },
    {
     "name": "stdout",
     "output_type": "stream",
     "text": [
      "[Step 39/ Epoch 5]  Loss: 1.2643  \n",
      "acc: 58.68\n",
      "[*] best model saved\n",
      "\n",
      "[Step 139/ Epoch 5]  Loss: 1.1617  \n",
      "acc: 60.16\n",
      "[*] best model saved\n",
      "\n",
      "[Step 239/ Epoch 5]  Loss: 0.9892  \n",
      "acc: 57.6\n",
      "[Step 339/ Epoch 5]  Loss: 1.1836  \n",
      "acc: 60.68\n",
      "[*] best model saved\n",
      "\n"
     ]
    },
    {
     "name": "stderr",
     "output_type": "stream",
     "text": [
      " 12%|████▊                                   | 6/50 [27:22<3:17:45, 269.66s/it]"
     ]
    },
    {
     "name": "stdout",
     "output_type": "stream",
     "text": [
      "[Step 87/ Epoch 6]  Loss: 1.0105  \n",
      "acc: 61.98\n",
      "[*] best model saved\n",
      "\n",
      "[Step 187/ Epoch 6]  Loss: 1.3420  \n",
      "acc: 62.6\n",
      "[*] best model saved\n",
      "\n",
      "[Step 287/ Epoch 6]  Loss: 1.1177  \n",
      "acc: 63.02\n",
      "[*] best model saved\n",
      "\n"
     ]
    },
    {
     "name": "stderr",
     "output_type": "stream",
     "text": [
      " 14%|█████▌                                  | 7/50 [31:24<3:06:49, 260.68s/it]"
     ]
    },
    {
     "name": "stdout",
     "output_type": "stream",
     "text": [
      "[Step 35/ Epoch 7]  Loss: 1.1209  \n",
      "acc: 62.0\n",
      "[Step 135/ Epoch 7]  Loss: 1.1035  \n",
      "acc: 61.58\n",
      "[Step 235/ Epoch 7]  Loss: 1.2336  \n",
      "acc: 65.04\n",
      "[*] best model saved\n",
      "\n",
      "[Step 335/ Epoch 7]  Loss: 1.0943  \n",
      "acc: 62.72\n"
     ]
    },
    {
     "name": "stderr",
     "output_type": "stream",
     "text": [
      " 16%|██████▍                                 | 8/50 [35:55<3:04:44, 263.93s/it]"
     ]
    },
    {
     "name": "stdout",
     "output_type": "stream",
     "text": [
      "[Step 83/ Epoch 8]  Loss: 1.1216  \n",
      "acc: 64.6\n",
      "[Step 183/ Epoch 8]  Loss: 0.9346  \n",
      "acc: 64.78\n",
      "[Step 283/ Epoch 8]  Loss: 1.1098  \n",
      "acc: 66.46\n",
      "[*] best model saved\n",
      "\n"
     ]
    },
    {
     "name": "stderr",
     "output_type": "stream",
     "text": [
      " 18%|███████▏                                | 9/50 [39:47<2:53:29, 253.88s/it]"
     ]
    },
    {
     "name": "stdout",
     "output_type": "stream",
     "text": [
      "[Step 31/ Epoch 9]  Loss: 0.9626  \n",
      "acc: 66.38\n",
      "[Step 131/ Epoch 9]  Loss: 1.1509  \n",
      "acc: 67.46\n",
      "[*] best model saved\n",
      "\n",
      "[Step 231/ Epoch 9]  Loss: 1.0838  \n",
      "acc: 66.88\n",
      "[Step 331/ Epoch 9]  Loss: 1.0168  \n",
      "acc: 68.72\n",
      "[*] best model saved\n",
      "\n"
     ]
    },
    {
     "name": "stderr",
     "output_type": "stream",
     "text": [
      " 20%|███████▊                               | 10/50 [44:02<2:49:32, 254.32s/it]"
     ]
    },
    {
     "name": "stdout",
     "output_type": "stream",
     "text": [
      "[Step 79/ Epoch 10]  Loss: 0.9721  \n",
      "acc: 66.02\n",
      "[Step 179/ Epoch 10]  Loss: 1.1081  \n",
      "acc: 69.58\n",
      "[*] best model saved\n",
      "\n",
      "[Step 279/ Epoch 10]  Loss: 1.0171  \n",
      "acc: 69.4\n"
     ]
    },
    {
     "name": "stderr",
     "output_type": "stream",
     "text": [
      " 22%|████████▌                              | 11/50 [47:55<2:40:55, 247.58s/it]"
     ]
    },
    {
     "name": "stdout",
     "output_type": "stream",
     "text": [
      "[Step 27/ Epoch 11]  Loss: 1.0147  \n",
      "acc: 70.2\n",
      "[*] best model saved\n",
      "\n",
      "[Step 127/ Epoch 11]  Loss: 0.9578  \n",
      "acc: 69.04\n",
      "[Step 227/ Epoch 11]  Loss: 0.8389  \n",
      "acc: 69.22\n",
      "[Step 327/ Epoch 11]  Loss: 0.9767  \n",
      "acc: 70.94\n",
      "[*] best model saved\n",
      "\n"
     ]
    },
    {
     "name": "stderr",
     "output_type": "stream",
     "text": [
      " 24%|█████████▎                             | 12/50 [52:15<2:39:13, 251.40s/it]"
     ]
    },
    {
     "name": "stdout",
     "output_type": "stream",
     "text": [
      "[Step 75/ Epoch 12]  Loss: 0.8325  \n",
      "acc: 71.4\n",
      "[*] best model saved\n",
      "\n",
      "[Step 175/ Epoch 12]  Loss: 0.8452  \n",
      "acc: 72.06\n",
      "[*] best model saved\n",
      "\n",
      "[Step 275/ Epoch 12]  Loss: 0.7944  \n",
      "acc: 71.38\n"
     ]
    },
    {
     "name": "stderr",
     "output_type": "stream",
     "text": [
      " 26%|██████████▏                            | 13/50 [56:24<2:34:32, 250.60s/it]"
     ]
    },
    {
     "name": "stdout",
     "output_type": "stream",
     "text": [
      "[Step 23/ Epoch 13]  Loss: 0.9907  \n",
      "acc: 71.28\n",
      "[Step 123/ Epoch 13]  Loss: 0.8404  \n",
      "acc: 72.06\n",
      "[Step 223/ Epoch 13]  Loss: 0.6651  \n",
      "acc: 72.02\n",
      "[Step 323/ Epoch 13]  Loss: 0.8154  \n",
      "acc: 71.88\n"
     ]
    },
    {
     "name": "stderr",
     "output_type": "stream",
     "text": [
      " 28%|██████████▎                          | 14/50 [1:01:22<2:39:02, 265.07s/it]"
     ]
    },
    {
     "name": "stdout",
     "output_type": "stream",
     "text": [
      "[Step 71/ Epoch 14]  Loss: 0.6793  \n",
      "acc: 73.16\n",
      "[*] best model saved\n",
      "\n",
      "[Step 171/ Epoch 14]  Loss: 0.8558  \n",
      "acc: 72.42\n",
      "[Step 271/ Epoch 14]  Loss: 0.8024  \n",
      "acc: 74.28\n",
      "[*] best model saved\n",
      "\n"
     ]
    },
    {
     "name": "stderr",
     "output_type": "stream",
     "text": [
      " 30%|███████████                          | 15/50 [1:05:46<2:34:28, 264.82s/it]"
     ]
    },
    {
     "name": "stdout",
     "output_type": "stream",
     "text": [
      "[Step 19/ Epoch 15]  Loss: 0.8277  \n",
      "acc: 74.04\n",
      "[Step 119/ Epoch 15]  Loss: 0.6560  \n",
      "acc: 73.66\n",
      "[Step 219/ Epoch 15]  Loss: 0.8360  \n",
      "acc: 72.34\n",
      "[Step 319/ Epoch 15]  Loss: 0.7490  \n",
      "acc: 73.16\n"
     ]
    },
    {
     "name": "stderr",
     "output_type": "stream",
     "text": [
      " 32%|███████████▊                         | 16/50 [1:10:48<2:36:18, 275.84s/it]"
     ]
    },
    {
     "name": "stdout",
     "output_type": "stream",
     "text": [
      "[Step 67/ Epoch 16]  Loss: 0.8287  \n",
      "acc: 74.3\n",
      "[*] best model saved\n",
      "\n",
      "[Step 167/ Epoch 16]  Loss: 0.7204  \n",
      "acc: 74.92\n",
      "[*] best model saved\n",
      "\n",
      "[Step 267/ Epoch 16]  Loss: 0.7104  \n",
      "acc: 75.26\n",
      "[*] best model saved\n",
      "\n"
     ]
    },
    {
     "name": "stderr",
     "output_type": "stream",
     "text": [
      " 34%|████████████▌                        | 17/50 [1:15:04<2:28:26, 269.90s/it]"
     ]
    },
    {
     "name": "stdout",
     "output_type": "stream",
     "text": [
      "[Step 15/ Epoch 17]  Loss: 0.7902  \n",
      "acc: 74.96\n",
      "[Step 115/ Epoch 17]  Loss: 0.6100  \n",
      "acc: 74.3\n",
      "[Step 215/ Epoch 17]  Loss: 0.8880  \n",
      "acc: 75.48\n",
      "[*] best model saved\n",
      "\n",
      "[Step 315/ Epoch 17]  Loss: 0.9397  \n",
      "acc: 74.9\n"
     ]
    },
    {
     "name": "stderr",
     "output_type": "stream",
     "text": [
      " 36%|█████████████▎                       | 18/50 [1:19:45<2:25:47, 273.36s/it]"
     ]
    },
    {
     "name": "stdout",
     "output_type": "stream",
     "text": [
      "[Step 63/ Epoch 18]  Loss: 0.7546  \n",
      "acc: 76.18\n",
      "[*] best model saved\n",
      "\n",
      "[Step 163/ Epoch 18]  Loss: 0.6269  \n",
      "acc: 75.76\n",
      "[Step 263/ Epoch 18]  Loss: 0.6643  \n",
      "acc: 75.98\n"
     ]
    },
    {
     "name": "stderr",
     "output_type": "stream",
     "text": [
      " 38%|██████████████                       | 19/50 [1:24:12<2:20:09, 271.27s/it]"
     ]
    },
    {
     "name": "stdout",
     "output_type": "stream",
     "text": [
      "[Step 11/ Epoch 19]  Loss: 0.6811  \n",
      "acc: 76.82\n",
      "[*] best model saved\n",
      "\n",
      "[Step 111/ Epoch 19]  Loss: 0.7229  \n",
      "acc: 76.06\n",
      "[Step 211/ Epoch 19]  Loss: 0.7228  \n",
      "acc: 75.7\n",
      "[Step 311/ Epoch 19]  Loss: 0.5350  \n",
      "acc: 74.92\n"
     ]
    },
    {
     "name": "stderr",
     "output_type": "stream",
     "text": [
      " 40%|██████████████▊                      | 20/50 [1:28:46<2:16:10, 272.34s/it]"
     ]
    },
    {
     "name": "stdout",
     "output_type": "stream",
     "text": [
      "[Step 59/ Epoch 20]  Loss: 0.7282  \n",
      "acc: 76.06\n",
      "[Step 159/ Epoch 20]  Loss: 0.7251  \n",
      "acc: 76.44\n",
      "[Step 259/ Epoch 20]  Loss: 0.6135  \n",
      "acc: 76.24\n"
     ]
    },
    {
     "name": "stderr",
     "output_type": "stream",
     "text": [
      " 42%|███████████████▌                     | 21/50 [1:32:58<2:08:32, 265.95s/it]"
     ]
    },
    {
     "name": "stdout",
     "output_type": "stream",
     "text": [
      "[Step 7/ Epoch 21]  Loss: 0.6595  \n",
      "acc: 76.84\n",
      "[*] best model saved\n",
      "\n",
      "[Step 107/ Epoch 21]  Loss: 0.6452  \n",
      "acc: 77.0\n",
      "[*] best model saved\n",
      "\n",
      "[Step 207/ Epoch 21]  Loss: 0.6400  \n",
      "acc: 77.24\n",
      "[*] best model saved\n",
      "\n",
      "[Step 307/ Epoch 21]  Loss: 0.5540  \n",
      "acc: 77.34\n",
      "[*] best model saved\n",
      "\n"
     ]
    },
    {
     "name": "stderr",
     "output_type": "stream",
     "text": [
      " 44%|████████████████▎                    | 22/50 [1:37:37<2:05:57, 269.91s/it]"
     ]
    },
    {
     "name": "stdout",
     "output_type": "stream",
     "text": [
      "[Step 55/ Epoch 22]  Loss: 0.7172  \n",
      "acc: 78.04\n",
      "[*] best model saved\n",
      "\n",
      "[Step 155/ Epoch 22]  Loss: 0.6227  \n",
      "acc: 77.66\n",
      "[Step 255/ Epoch 22]  Loss: 0.5829  \n",
      "acc: 78.62\n",
      "[*] best model saved\n",
      "\n"
     ]
    },
    {
     "name": "stderr",
     "output_type": "stream",
     "text": [
      " 46%|█████████████████                    | 23/50 [1:41:47<1:58:49, 264.04s/it]"
     ]
    },
    {
     "name": "stdout",
     "output_type": "stream",
     "text": [
      "[Step 3/ Epoch 23]  Loss: 0.5498  \n",
      "acc: 78.1\n",
      "[Step 103/ Epoch 23]  Loss: 0.6388  \n",
      "acc: 77.94\n",
      "[Step 203/ Epoch 23]  Loss: 0.7637  \n",
      "acc: 78.12\n",
      "[Step 303/ Epoch 23]  Loss: 0.5220  \n",
      "acc: 79.0\n",
      "[*] best model saved\n",
      "\n"
     ]
    },
    {
     "name": "stderr",
     "output_type": "stream",
     "text": [
      " 48%|█████████████████▊                   | 24/50 [1:46:16<1:55:03, 265.53s/it]"
     ]
    },
    {
     "name": "stdout",
     "output_type": "stream",
     "text": [
      "[Step 51/ Epoch 24]  Loss: 0.6739  \n",
      "acc: 77.7\n",
      "[Step 151/ Epoch 24]  Loss: 0.6328  \n",
      "acc: 77.46\n",
      "[Step 251/ Epoch 24]  Loss: 0.6027  \n",
      "acc: 78.44\n",
      "[Step 351/ Epoch 24]  Loss: 0.6168  \n",
      "acc: 78.42\n"
     ]
    },
    {
     "name": "stderr",
     "output_type": "stream",
     "text": [
      " 50%|██████████████████▌                  | 25/50 [1:51:16<1:54:54, 275.79s/it]"
     ]
    },
    {
     "name": "stdout",
     "output_type": "stream",
     "text": [
      "[Step 99/ Epoch 25]  Loss: 0.5226  \n",
      "acc: 78.58\n",
      "[Step 199/ Epoch 25]  Loss: 0.5168  \n",
      "acc: 79.52\n",
      "[*] best model saved\n",
      "\n",
      "[Step 299/ Epoch 25]  Loss: 0.5988  \n",
      "acc: 78.6\n"
     ]
    },
    {
     "name": "stderr",
     "output_type": "stream",
     "text": [
      " 52%|███████████████████▏                 | 26/50 [1:55:50<1:50:07, 275.32s/it]"
     ]
    },
    {
     "name": "stdout",
     "output_type": "stream",
     "text": [
      "[Step 47/ Epoch 26]  Loss: 0.4872  \n",
      "acc: 78.06\n",
      "[Step 147/ Epoch 26]  Loss: 0.8696  \n",
      "acc: 79.44\n",
      "[Step 247/ Epoch 26]  Loss: 0.7835  \n",
      "acc: 79.56\n",
      "[*] best model saved\n",
      "\n",
      "[Step 347/ Epoch 26]  Loss: 0.3527  \n",
      "acc: 79.74\n",
      "[*] best model saved\n",
      "\n"
     ]
    },
    {
     "name": "stderr",
     "output_type": "stream",
     "text": [
      " 54%|███████████████████▉                 | 27/50 [2:00:24<1:45:25, 275.03s/it]"
     ]
    },
    {
     "name": "stdout",
     "output_type": "stream",
     "text": [
      "[Step 95/ Epoch 27]  Loss: 0.6021  \n",
      "acc: 79.38\n",
      "[Step 195/ Epoch 27]  Loss: 0.4121  \n",
      "acc: 79.72\n",
      "[Step 295/ Epoch 27]  Loss: 0.6235  \n",
      "acc: 78.66\n"
     ]
    },
    {
     "name": "stderr",
     "output_type": "stream",
     "text": [
      " 56%|████████████████████▋                | 28/50 [2:04:51<1:39:56, 272.58s/it]"
     ]
    },
    {
     "name": "stdout",
     "output_type": "stream",
     "text": [
      "[Step 43/ Epoch 28]  Loss: 0.6055  \n",
      "acc: 79.5\n",
      "[Step 143/ Epoch 28]  Loss: 0.4495  \n",
      "acc: 79.88\n",
      "[*] best model saved\n",
      "\n",
      "[Step 243/ Epoch 28]  Loss: 0.5275  \n",
      "acc: 79.76\n",
      "[Step 343/ Epoch 28]  Loss: 0.5499  \n",
      "acc: 78.88\n"
     ]
    },
    {
     "name": "stderr",
     "output_type": "stream",
     "text": [
      " 58%|█████████████████████▍               | 29/50 [2:09:39<1:36:58, 277.08s/it]"
     ]
    },
    {
     "name": "stdout",
     "output_type": "stream",
     "text": [
      "[Step 91/ Epoch 29]  Loss: 0.4663  \n",
      "acc: 79.7\n",
      "[Step 191/ Epoch 29]  Loss: 0.5005  \n",
      "acc: 79.86\n",
      "[Step 291/ Epoch 29]  Loss: 0.5827  \n",
      "acc: 79.98\n",
      "[*] best model saved\n",
      "\n"
     ]
    },
    {
     "name": "stderr",
     "output_type": "stream",
     "text": [
      " 60%|██████████████████████▏              | 30/50 [2:14:02<1:30:56, 272.83s/it]"
     ]
    },
    {
     "name": "stdout",
     "output_type": "stream",
     "text": [
      "[Step 39/ Epoch 30]  Loss: 0.6137  \n",
      "acc: 80.12\n",
      "[*] best model saved\n",
      "\n",
      "[Step 139/ Epoch 30]  Loss: 0.4293  \n",
      "acc: 80.06\n",
      "[Step 239/ Epoch 30]  Loss: 0.5194  \n",
      "acc: 80.48\n",
      "[*] best model saved\n",
      "\n",
      "[Step 339/ Epoch 30]  Loss: 0.6261  \n",
      "acc: 79.92\n"
     ]
    },
    {
     "name": "stderr",
     "output_type": "stream",
     "text": [
      " 62%|██████████████████████▉              | 31/50 [2:19:01<1:28:54, 280.78s/it]"
     ]
    },
    {
     "name": "stdout",
     "output_type": "stream",
     "text": [
      "[Step 87/ Epoch 31]  Loss: 0.5812  \n",
      "acc: 80.04\n",
      "[Step 187/ Epoch 31]  Loss: 0.5483  \n",
      "acc: 80.34\n",
      "[Step 287/ Epoch 31]  Loss: 0.7344  \n",
      "acc: 80.46\n"
     ]
    },
    {
     "name": "stderr",
     "output_type": "stream",
     "text": [
      " 64%|███████████████████████▋             | 32/50 [2:23:25<1:22:43, 275.76s/it]"
     ]
    },
    {
     "name": "stdout",
     "output_type": "stream",
     "text": [
      "[Step 35/ Epoch 32]  Loss: 0.5457  \n",
      "acc: 80.22\n",
      "[Step 135/ Epoch 32]  Loss: 0.5715  \n",
      "acc: 79.84\n",
      "[Step 235/ Epoch 32]  Loss: 0.4231  \n",
      "acc: 80.56\n",
      "[*] best model saved\n",
      "\n",
      "[Step 335/ Epoch 32]  Loss: 0.4501  \n",
      "acc: 80.92\n",
      "[*] best model saved\n",
      "\n"
     ]
    },
    {
     "name": "stderr",
     "output_type": "stream",
     "text": [
      " 66%|████████████████████████▍            | 33/50 [2:27:45<1:16:45, 270.94s/it]"
     ]
    },
    {
     "name": "stdout",
     "output_type": "stream",
     "text": [
      "[Step 83/ Epoch 33]  Loss: 0.4334  \n",
      "acc: 80.94\n",
      "[*] best model saved\n",
      "\n",
      "[Step 183/ Epoch 33]  Loss: 0.5154  \n",
      "acc: 81.06\n",
      "[*] best model saved\n",
      "\n",
      "[Step 283/ Epoch 33]  Loss: 0.5607  \n",
      "acc: 80.48\n"
     ]
    },
    {
     "name": "stderr",
     "output_type": "stream",
     "text": [
      " 68%|█████████████████████████▏           | 34/50 [2:32:17<1:12:22, 271.39s/it]"
     ]
    },
    {
     "name": "stdout",
     "output_type": "stream",
     "text": [
      "[Step 31/ Epoch 34]  Loss: 0.3888  \n",
      "acc: 80.88\n",
      "[Step 131/ Epoch 34]  Loss: 0.5274  \n",
      "acc: 81.22\n",
      "[*] best model saved\n",
      "\n",
      "[Step 231/ Epoch 34]  Loss: 0.5087  \n",
      "acc: 81.04\n",
      "[Step 331/ Epoch 34]  Loss: 0.6216  \n",
      "acc: 81.62\n",
      "[*] best model saved\n",
      "\n"
     ]
    },
    {
     "name": "stderr",
     "output_type": "stream",
     "text": [
      " 70%|█████████████████████████▉           | 35/50 [2:37:03<1:08:55, 275.67s/it]"
     ]
    },
    {
     "name": "stdout",
     "output_type": "stream",
     "text": [
      "[Step 79/ Epoch 35]  Loss: 0.3676  \n",
      "acc: 81.04\n",
      "[Step 179/ Epoch 35]  Loss: 0.5374  \n",
      "acc: 81.2\n",
      "[Step 279/ Epoch 35]  Loss: 0.4904  \n",
      "acc: 80.92\n"
     ]
    },
    {
     "name": "stderr",
     "output_type": "stream",
     "text": [
      " 72%|██████████████████████████▋          | 36/50 [2:41:02<1:01:45, 264.65s/it]"
     ]
    },
    {
     "name": "stdout",
     "output_type": "stream",
     "text": [
      "[Step 27/ Epoch 36]  Loss: 0.4551  \n",
      "acc: 81.68\n",
      "[*] best model saved\n",
      "\n",
      "[Step 127/ Epoch 36]  Loss: 0.4057  \n",
      "acc: 81.92\n",
      "[*] best model saved\n",
      "\n",
      "[Step 227/ Epoch 36]  Loss: 0.4850  \n",
      "acc: 81.12\n",
      "[Step 327/ Epoch 36]  Loss: 0.6192  \n",
      "acc: 80.92\n"
     ]
    },
    {
     "name": "stderr",
     "output_type": "stream",
     "text": [
      " 74%|████████████████████████████▊          | 37/50 [2:45:06<56:02, 258.65s/it]"
     ]
    },
    {
     "name": "stdout",
     "output_type": "stream",
     "text": [
      "[Step 75/ Epoch 37]  Loss: 0.4894  \n",
      "acc: 80.9\n",
      "[Step 175/ Epoch 37]  Loss: 0.4167  \n",
      "acc: 81.04\n",
      "[Step 275/ Epoch 37]  Loss: 0.5467  \n",
      "acc: 81.36\n"
     ]
    },
    {
     "name": "stderr",
     "output_type": "stream",
     "text": [
      " 76%|█████████████████████████████▋         | 38/50 [2:48:50<49:39, 248.25s/it]"
     ]
    },
    {
     "name": "stdout",
     "output_type": "stream",
     "text": [
      "[Step 23/ Epoch 38]  Loss: 0.4671  \n",
      "acc: 81.5\n",
      "[Step 123/ Epoch 38]  Loss: 0.5072  \n",
      "acc: 81.32\n",
      "[Step 223/ Epoch 38]  Loss: 0.3964  \n",
      "acc: 81.58\n",
      "[Step 323/ Epoch 38]  Loss: 0.2773  \n",
      "acc: 81.22\n"
     ]
    },
    {
     "name": "stderr",
     "output_type": "stream",
     "text": [
      " 78%|██████████████████████████████▍        | 39/50 [2:52:58<45:29, 248.12s/it]"
     ]
    },
    {
     "name": "stdout",
     "output_type": "stream",
     "text": [
      "[Step 71/ Epoch 39]  Loss: 0.4786  \n",
      "acc: 82.3\n",
      "[*] best model saved\n",
      "\n",
      "[Step 171/ Epoch 39]  Loss: 0.5827  \n",
      "acc: 81.82\n",
      "[Step 271/ Epoch 39]  Loss: 0.4114  \n",
      "acc: 81.44\n"
     ]
    },
    {
     "name": "stderr",
     "output_type": "stream",
     "text": [
      " 80%|███████████████████████████████▏       | 40/50 [2:56:49<40:28, 242.90s/it]"
     ]
    },
    {
     "name": "stdout",
     "output_type": "stream",
     "text": [
      "[Step 19/ Epoch 40]  Loss: 0.4288  \n",
      "acc: 81.96\n",
      "[Step 119/ Epoch 40]  Loss: 0.3419  \n",
      "acc: 82.36\n",
      "[*] best model saved\n",
      "\n",
      "[Step 219/ Epoch 40]  Loss: 0.4057  \n",
      "acc: 82.34\n",
      "[Step 319/ Epoch 40]  Loss: 0.3580  \n",
      "acc: 82.26\n"
     ]
    },
    {
     "name": "stderr",
     "output_type": "stream",
     "text": [
      " 82%|███████████████████████████████▉       | 41/50 [3:01:46<38:51, 259.04s/it]"
     ]
    },
    {
     "name": "stdout",
     "output_type": "stream",
     "text": [
      "[Step 67/ Epoch 41]  Loss: 0.3075  \n",
      "acc: 82.66\n",
      "[*] best model saved\n",
      "\n",
      "[Step 167/ Epoch 41]  Loss: 0.3532  \n",
      "acc: 82.28\n",
      "[Step 267/ Epoch 41]  Loss: 0.2994  \n",
      "acc: 81.9\n"
     ]
    },
    {
     "name": "stderr",
     "output_type": "stream",
     "text": [
      " 84%|████████████████████████████████▊      | 42/50 [3:06:30<35:33, 266.74s/it]"
     ]
    },
    {
     "name": "stdout",
     "output_type": "stream",
     "text": [
      "[Step 15/ Epoch 42]  Loss: 0.3791  \n",
      "acc: 81.56\n",
      "[Step 115/ Epoch 42]  Loss: 0.3239  \n",
      "acc: 82.18\n",
      "[Step 215/ Epoch 42]  Loss: 0.4448  \n",
      "acc: 80.64\n",
      "[Step 315/ Epoch 42]  Loss: 0.3924  \n",
      "acc: 82.62\n"
     ]
    },
    {
     "name": "stderr",
     "output_type": "stream",
     "text": [
      " 86%|█████████████████████████████████▌     | 43/50 [3:11:07<31:27, 269.63s/it]"
     ]
    },
    {
     "name": "stdout",
     "output_type": "stream",
     "text": [
      "[Step 63/ Epoch 43]  Loss: 0.5774  \n",
      "acc: 81.84\n",
      "[Step 163/ Epoch 43]  Loss: 0.3523  \n",
      "acc: 82.36\n",
      "[Step 263/ Epoch 43]  Loss: 0.3670  \n",
      "acc: 82.76\n",
      "[*] best model saved\n",
      "\n"
     ]
    },
    {
     "name": "stderr",
     "output_type": "stream",
     "text": [
      " 88%|██████████████████████████████████▎    | 44/50 [3:15:26<26:39, 266.64s/it]"
     ]
    },
    {
     "name": "stdout",
     "output_type": "stream",
     "text": [
      "[Step 11/ Epoch 44]  Loss: 0.4510  \n",
      "acc: 82.02\n",
      "[Step 111/ Epoch 44]  Loss: 0.3535  \n",
      "acc: 82.38\n",
      "[Step 211/ Epoch 44]  Loss: 0.4483  \n",
      "acc: 82.26\n",
      "[Step 311/ Epoch 44]  Loss: 0.3837  \n",
      "acc: 82.9\n",
      "[*] best model saved\n",
      "\n"
     ]
    },
    {
     "name": "stderr",
     "output_type": "stream",
     "text": [
      " 90%|███████████████████████████████████    | 45/50 [3:20:05<22:30, 270.09s/it]"
     ]
    },
    {
     "name": "stdout",
     "output_type": "stream",
     "text": [
      "[Step 59/ Epoch 45]  Loss: 0.4385  \n",
      "acc: 81.0\n",
      "[Step 159/ Epoch 45]  Loss: 0.3875  \n",
      "acc: 82.62\n",
      "[Step 259/ Epoch 45]  Loss: 0.2197  \n",
      "acc: 82.32\n"
     ]
    },
    {
     "name": "stderr",
     "output_type": "stream",
     "text": [
      " 92%|███████████████████████████████████▉   | 46/50 [3:24:14<17:35, 263.95s/it]"
     ]
    },
    {
     "name": "stdout",
     "output_type": "stream",
     "text": [
      "[Step 7/ Epoch 46]  Loss: 0.4351  \n",
      "acc: 82.6\n",
      "[Step 107/ Epoch 46]  Loss: 0.2574  \n",
      "acc: 82.16\n",
      "[Step 207/ Epoch 46]  Loss: 0.4620  \n",
      "acc: 82.68\n",
      "[Step 307/ Epoch 46]  Loss: 0.3172  \n",
      "acc: 83.52\n",
      "[*] best model saved\n",
      "\n"
     ]
    },
    {
     "name": "stderr",
     "output_type": "stream",
     "text": [
      " 94%|████████████████████████████████████▋  | 47/50 [3:28:50<13:22, 267.63s/it]"
     ]
    },
    {
     "name": "stdout",
     "output_type": "stream",
     "text": [
      "[Step 55/ Epoch 47]  Loss: 0.4083  \n",
      "acc: 82.64\n",
      "[Step 155/ Epoch 47]  Loss: 0.3522  \n",
      "acc: 82.66\n",
      "[Step 255/ Epoch 47]  Loss: 0.3714  \n",
      "acc: 83.5\n"
     ]
    },
    {
     "name": "stderr",
     "output_type": "stream",
     "text": [
      " 96%|█████████████████████████████████████▍ | 48/50 [3:33:01<08:45, 262.53s/it]"
     ]
    },
    {
     "name": "stdout",
     "output_type": "stream",
     "text": [
      "[Step 3/ Epoch 48]  Loss: 0.2521  \n",
      "acc: 82.52\n",
      "[Step 103/ Epoch 48]  Loss: 0.3743  \n",
      "acc: 82.9\n",
      "[Step 203/ Epoch 48]  Loss: 0.3289  \n",
      "acc: 82.92\n",
      "[Step 303/ Epoch 48]  Loss: 0.2883  \n",
      "acc: 83.32\n"
     ]
    },
    {
     "name": "stderr",
     "output_type": "stream",
     "text": [
      " 98%|██████████████████████████████████████▏| 49/50 [3:37:38<04:26, 266.92s/it]"
     ]
    },
    {
     "name": "stdout",
     "output_type": "stream",
     "text": [
      "[Step 51/ Epoch 49]  Loss: 0.2409  \n",
      "acc: 83.62\n",
      "[*] best model saved\n",
      "\n",
      "[Step 151/ Epoch 49]  Loss: 0.3562  \n",
      "acc: 83.16\n",
      "[Step 251/ Epoch 49]  Loss: 0.3501  \n",
      "acc: 83.28\n",
      "[Step 351/ Epoch 49]  Loss: 0.3047  \n",
      "acc: 82.24\n"
     ]
    },
    {
     "name": "stderr",
     "output_type": "stream",
     "text": [
      "100%|███████████████████████████████████████| 50/50 [3:42:12<00:00, 266.65s/it]\n"
     ]
    }
   ],
   "source": [
    "\n",
    "\n",
    "\n",
    "# time_meter = averageMeter()\n",
    "\n",
    "total_steps = 0\n",
    "best_acc = 0\n",
    "for epoch in tqdm(range(args.num_epoch)):\n",
    "    for step, data in enumerate(train_dataloader):\n",
    "        start_ts = time.time()\n",
    "        total_steps += 1\n",
    "\n",
    "        model.train()\n",
    "        imgs = data[0].to(device)  # [batch_size, 3, 32, 32]\n",
    "        label = data[1].to(device)  # [batch_size]\n",
    "        optimizer.zero_grad()\n",
    "        preds = model(imgs)\n",
    "\n",
    "        loss = F.cross_entropy(input=preds, target=label, reduction='mean')\n",
    "        loss.backward()  # backpropagation loss\n",
    "        optimizer.step()\n",
    "        # time_meter.update(time.time() - start_ts)\n",
    "\n",
    "        if total_steps % args.log_step == 0:\n",
    "            print_str = '[Step {:d}/ Epoch {:d}]  Loss: {:.4f}  '.format(step, epoch, loss.item())\n",
    "            logger.info(print_str)\n",
    "            writer.add_scalar('train/loss', loss.item(), total_steps)\n",
    "            print(print_str)\n",
    "            # time_meter.reset()\n",
    "\n",
    "        if total_steps % args.val_step == 0:\n",
    "            model.eval()\n",
    "            total, correct = 0, 0\n",
    "            with torch.no_grad():\n",
    "                for step_val, data in enumerate(val_dataloader):\n",
    "                    imgs = data[0].to(device)\n",
    "                    labels = data[1].to(device)\n",
    "                    preds = model(imgs)\n",
    "\n",
    "                    _, predicted = preds.max(1)\n",
    "                    total += labels.size(0)\n",
    "                    correct += predicted.eq(labels).sum().item()\n",
    "\n",
    "                acc = 100.0 * correct / total\n",
    "                logger.info('val acc:{}'.format(acc))\n",
    "                writer.add_scalar('val/acc', acc, total_steps)\n",
    "                print('acc:', acc)\n",
    "\n",
    "                if acc > best_acc:\n",
    "                    best_acc = acc\n",
    "                    state = {\n",
    "                            \"epoch\": epoch,\n",
    "                            \"total_steps\": total_steps,\n",
    "                            \"model_state\": model.state_dict(),\n",
    "                            \"best_acc\": acc,\n",
    "                            }\n",
    "                    save_path = os.path.join(writer.file_writer.get_logdir(), \"last_model.pkl\")\n",
    "                    torch.save(state, save_path)\n",
    "                    print('[*] best model saved\\n')\n",
    "                    logger.info('[*] best model saved\\n')\n",
    "\n",
    "    if epoch == args.num_epoch:\n",
    "        break\n",
    "\n",
    "\n",
    "# if __name__ == '__main__':\n",
    "\n",
    "# train(writer, logger)\n",
    "\n",
    "\n"
   ]
  },
  {
   "cell_type": "code",
   "execution_count": null,
   "id": "744f5a1b-2962-4deb-9d44-195057e1ad88",
   "metadata": {},
   "outputs": [],
   "source": []
  },
  {
   "cell_type": "code",
   "execution_count": null,
   "id": "1b8866e0-9933-417a-87f1-d3db25f4d5be",
   "metadata": {},
   "outputs": [],
   "source": []
  },
  {
   "cell_type": "code",
   "execution_count": 69,
   "id": "900d9f69-ee31-4d94-bf80-baae1fbf3055",
   "metadata": {},
   "outputs": [],
   "source": [
    "# test"
   ]
  },
  {
   "cell_type": "code",
   "execution_count": null,
   "id": "e3834a7b-1005-4c67-8383-f53de61e5d57",
   "metadata": {},
   "outputs": [],
   "source": []
  },
  {
   "cell_type": "code",
   "execution_count": 83,
   "id": "30ff9d15-ace0-4816-8524-d2367c33cee6",
   "metadata": {},
   "outputs": [],
   "source": [
    "import torch\n",
    "from tqdm import tqdm\n",
    "import argparse\n",
    "from loader.dataloader_cifar10 import DataloaderCifar10\n",
    "from models.vgg_simplified import Vgg"
   ]
  },
  {
   "cell_type": "code",
   "execution_count": null,
   "id": "35158d48-08eb-4f15-9f8c-e9d09270232d",
   "metadata": {},
   "outputs": [],
   "source": []
  },
  {
   "cell_type": "code",
   "execution_count": 84,
   "id": "17caa822-de37-46ea-bd15-e044dbd04712",
   "metadata": {},
   "outputs": [],
   "source": [
    "from models.vgg_simplified import Vgg"
   ]
  },
  {
   "cell_type": "code",
   "execution_count": null,
   "id": "a3165481-229e-43c5-be09-59a48b0d35e0",
   "metadata": {},
   "outputs": [],
   "source": []
  },
  {
   "cell_type": "code",
   "execution_count": null,
   "id": "05ecc40a-0f98-4b68-985a-2eef9369efee",
   "metadata": {},
   "outputs": [],
   "source": []
  },
  {
   "cell_type": "code",
   "execution_count": 85,
   "id": "512a9e42-9e81-424b-9d88-d0cc99ee8c98",
   "metadata": {},
   "outputs": [
    {
     "data": {
      "text/plain": [
       "Namespace(batch_size=128, fc_layer=512, model_path='runs/79672/last_model.pkl', root='data/data_cnn/cifar-10-batches-py')"
      ]
     },
     "execution_count": 85,
     "metadata": {},
     "output_type": "execute_result"
    }
   ],
   "source": [
    "args"
   ]
  },
  {
   "cell_type": "code",
   "execution_count": 90,
   "id": "c1ad2dc3-691e-45f4-a30a-7bb192d2128a",
   "metadata": {},
   "outputs": [],
   "source": [
    "####### training settings #########\n",
    "parser = argparse.ArgumentParser()\n",
    "parser.add_argument(\"--batch_size\", default=128, type=int)\n",
    "\n",
    "\n",
    "parser.add_argument(\"--fc_layer\", default=512, type=int)\n",
    "\n",
    "parser.add_argument(\"--model_path\", default='runs/13086/last_model.pkl', type=str, help='path to the trained model, please change the default value to the path of your trained model')\n",
    "parser.add_argument(\"--root\", default='data/data_cnn/cifar-10-batches-py', type=str, help='path to dataset folder')\n",
    "args = parser.parse_args(args=[])\n",
    "###################################\n",
    "\n",
    "device = torch.device(\"cuda\" if torch.cuda.is_available() else \"cpu\")"
   ]
  },
  {
   "cell_type": "code",
   "execution_count": null,
   "id": "753a3ca7-3a76-44bc-b8c5-f10453224f76",
   "metadata": {},
   "outputs": [],
   "source": []
  },
  {
   "cell_type": "code",
   "execution_count": 91,
   "id": "2df1d46e-9d0d-4997-9137-453fbe7b53a0",
   "metadata": {},
   "outputs": [],
   "source": [
    "class Vgg(nn.Module):\n",
    "    def __init__(self, fc_layer=512, classes=10):\n",
    "        super(Vgg, self).__init__()\n",
    "        \"\"\" Initialize VGG simplified Module\n",
    "        Args: \n",
    "            fc_layer: input feature number for the last fully MLP block\n",
    "            classes: number of image classes\n",
    "        \"\"\"\n",
    "        self.fc_layer = fc_layer\n",
    "        self.classes = classes\n",
    "\n",
    "        # todo: construct the simplified VGG network blocks\n",
    "        # input shape: [bs, 3, 32, 32]\n",
    "        # layers and output feature shape for each block:\n",
    "        # # conv_block1 (Conv2d, ReLU, MaxPool2d) --> [bs, 64, 16, 16]\n",
    "        # # conv_block2 (Conv2d, ReLU, MaxPool2d) --> [bs, 128, 8, 8]\n",
    "        # # conv_block3 (Conv2d, ReLU, MaxPool2d) --> [bs, 256, 4, 4]\n",
    "        # # conv_block4 (Conv2d, ReLU, MaxPool2d) --> [bs, 512, 2, 2]\n",
    "        # # conv_block5 (Conv2d, ReLU, MaxPool2d) --> [bs, 512, 1, 1]\n",
    "        # # classifier (Linear, ReLU, Dropout, Linear) --> [bs, 10] (final output)\n",
    "\n",
    "        # hint: stack layers in each block with nn.Sequential, e.x.:\n",
    "        # # self.conv_block1 = nn.Sequential(\n",
    "        # #     layer1,\n",
    "        # #     layer2,\n",
    "        # #     layer3,\n",
    "        # #     ...)\n",
    "        # for all conv layers, set: kernel=3, padding=1\n",
    "\n",
    "        ...\n",
    "        conv_block1  = nn.Sequential(\n",
    "            nn.Conv2d(3, 64, kernel_size=3, padding=1),\n",
    "            nn.ReLU(),\n",
    "            nn.MaxPool2d(kernel_size=2),\n",
    "        )\n",
    "\n",
    "        conv_block2  = nn.Sequential(\n",
    "            nn.Conv2d(64, 128, kernel_size=3, padding=1),\n",
    "            nn.ReLU(),\n",
    "            nn.MaxPool2d(kernel_size=2),\n",
    "        )\n",
    "\n",
    "        conv_block3  = nn.Sequential(\n",
    "            nn.Conv2d(128, 256, kernel_size=3, padding=1),\n",
    "            nn.ReLU(),\n",
    "            nn.MaxPool2d(kernel_size=2),\n",
    "        )\n",
    "\n",
    "        conv_block4  = nn.Sequential(\n",
    "            nn.Conv2d(256, 512, kernel_size=3, padding=1),\n",
    "            nn.ReLU(),\n",
    "            nn.MaxPool2d(kernel_size=2),\n",
    "        )\n",
    "\n",
    "        conv_block5  = nn.Sequential(\n",
    "            nn.Conv2d(self.fc_layer, 512, kernel_size=3, padding=1),\n",
    "            nn.ReLU(),\n",
    "            nn.MaxPool2d(kernel_size=2),\n",
    "        )\n",
    "\n",
    "        self.convnet = nn.Sequential(\n",
    "            conv_block1,\n",
    "            conv_block2,\n",
    "            conv_block3,\n",
    "            conv_block4,\n",
    "            conv_block5\n",
    "        )\n",
    "        \n",
    "        self.cls = nn.Sequential(\n",
    "            nn.Linear(self.fc_layer, self.fc_layer),\n",
    "            nn.ReLU(),\n",
    "            nn.Dropout(p=0.5),\n",
    "            nn.Linear(self.fc_layer, 10),\n",
    "        )\n",
    "\n",
    "\n",
    "        \n",
    "        for m in self.modules():\n",
    "            if isinstance(m, nn.Conv2d):\n",
    "                n = m.kernel_size[0] * m.kernel_size[1] * m.out_channels\n",
    "                m.weight.data.normal_(0, math.sqrt(2. / n))\n",
    "                m.bias.data.zero_()\n",
    "\n",
    "\n",
    "    def forward(self, x):\n",
    "        \"\"\"\n",
    "        :param x: input image batch tensor, [bs, 3, 32, 32]\n",
    "        :return: score: predicted score for each class (10 classes in total), [bs, 10]\n",
    "        \"\"\"\n",
    "        score = None\n",
    "        # todo\n",
    "        ...\n",
    "        x = self.convnet(x)\n",
    "        x = x.flatten(1)\n",
    "        x = self.cls(x)\n",
    "        score = x\n",
    "        \n",
    "        return score"
   ]
  },
  {
   "cell_type": "code",
   "execution_count": null,
   "id": "d4802e95-a40e-44fb-a9ec-ce3522d01672",
   "metadata": {},
   "outputs": [],
   "source": []
  },
  {
   "cell_type": "code",
   "execution_count": 92,
   "id": "98e4777b-f510-4b2d-a162-ced44df46440",
   "metadata": {},
   "outputs": [
    {
     "name": "stdout",
     "output_type": "stream",
     "text": [
      "[INFO] test set loaded, 10000 samples in total.\n"
     ]
    },
    {
     "name": "stderr",
     "output_type": "stream",
     "text": [
      "79it [00:13,  5.75it/s]"
     ]
    },
    {
     "name": "stdout",
     "output_type": "stream",
     "text": [
      "test accuracy: 82.46\n"
     ]
    },
    {
     "name": "stderr",
     "output_type": "stream",
     "text": [
      "\n"
     ]
    }
   ],
   "source": [
    "test_dataset = DataloaderCifar10(img_size=32, is_transform=True, split='test')\n",
    "test_dataset.load_data(args.root)\n",
    "test_dataloader = torch.utils.data.DataLoader(dataset=test_dataset, batch_size=args.batch_size, shuffle=False,\n",
    "                                              num_workers=0)\n",
    "\n",
    "model = Vgg(fc_layer=args.fc_layer, classes=10).to(device)\n",
    "checkpoint = torch.load(args.model_path, map_location=lambda storage, loc: storage)\n",
    "model.load_state_dict(checkpoint['model_state'])\n",
    "model.eval()\n",
    "\n",
    "\n",
    "total, correct = 0, 0\n",
    "with torch.no_grad():\n",
    "    for step, data in tqdm(enumerate(test_dataloader)):\n",
    "        imgs = data[0].to(device)  # [batch_size, 3, 32, 32]\n",
    "        labels = data[1].to(device)  # [batch_size]\n",
    "        preds = model(imgs)\n",
    "\n",
    "        _, predicted = preds.max(1)\n",
    "        total += labels.size(0)\n",
    "        correct += predicted.eq(labels).sum().item()\n",
    "\n",
    "acc = 100.0 * correct / total\n",
    "print('test accuracy:', acc)"
   ]
  },
  {
   "cell_type": "code",
   "execution_count": null,
   "id": "5ae10c2e-4866-4b05-9994-ee6a49b730e9",
   "metadata": {},
   "outputs": [],
   "source": []
  },
  {
   "cell_type": "code",
   "execution_count": null,
   "id": "bead0546-53d6-4802-bafd-d9b3cb6e468a",
   "metadata": {},
   "outputs": [],
   "source": []
  }
 ],
 "metadata": {
  "kernelspec": {
   "display_name": "Python 3 (ipykernel)",
   "language": "python",
   "name": "python3"
  },
  "language_info": {
   "codemirror_mode": {
    "name": "ipython",
    "version": 3
   },
   "file_extension": ".py",
   "mimetype": "text/x-python",
   "name": "python",
   "nbconvert_exporter": "python",
   "pygments_lexer": "ipython3",
   "version": "3.10.13"
  }
 },
 "nbformat": 4,
 "nbformat_minor": 5
}
