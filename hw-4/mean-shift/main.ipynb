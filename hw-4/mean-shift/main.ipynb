{
 "cells": [
  {
   "cell_type": "code",
   "execution_count": 31,
   "id": "7df2a2ae-350e-4614-90bc-c9e92a541ea2",
   "metadata": {},
   "outputs": [],
   "source": [
    "import time\n",
    "import numpy as np\n",
    "\n",
    "# run `pip install scikit-image` to install skimage, if you haven't done so\n",
    "from skimage import io, color\n",
    "from skimage.transform import rescale\n",
    "\n"
   ]
  },
  {
   "cell_type": "code",
   "execution_count": 32,
   "id": "b4b6a5a5-32dd-4f4d-9998-1bed581e54bc",
   "metadata": {},
   "outputs": [
    {
     "data": {
      "text/plain": [
       "(3, 4)"
      ]
     },
     "execution_count": 32,
     "metadata": {},
     "output_type": "execute_result"
    }
   ],
   "source": [
    "a = np.random.randn(3,4)\n",
    "a.shape"
   ]
  },
  {
   "cell_type": "code",
   "execution_count": 33,
   "id": "906a093f-c6cc-4041-a09d-2819a75283a2",
   "metadata": {},
   "outputs": [
    {
     "data": {
      "text/plain": [
       "3"
      ]
     },
     "execution_count": 33,
     "metadata": {},
     "output_type": "execute_result"
    }
   ],
   "source": [
    "len(a)"
   ]
  },
  {
   "cell_type": "code",
   "execution_count": null,
   "id": "c8a09e7e-15a1-4462-a8bc-7be08585957c",
   "metadata": {},
   "outputs": [],
   "source": []
  },
  {
   "cell_type": "code",
   "execution_count": 39,
   "id": "d63dffdb-a1f0-4858-8f24-07fc3810da04",
   "metadata": {},
   "outputs": [],
   "source": [
    "def distance(x, X):\n",
    "    return np.linalg.norm(x-X, axis=1)\n",
    "    # raise NotImplementedError('distance function not implemented!')\n",
    "\n",
    "def gaussian(dist, bandwidth):\n",
    "    b = bandwidth\n",
    "    d2 = dist*dist\n",
    "    m = np.max(d2)\n",
    "    r = np.exp(-0.5*(d2-m) / (b*b)) / np.sum(np.exp(-0.5*(d2-m) / (b*b))) \n",
    "    return r\n",
    "    # raise NotImplementedError('gaussian function not implemented!')\n",
    "\n",
    "def update_point(weight, X):\n",
    "    return np.sum(X*weight, axis=0)\n",
    "    # raise NotImplementedError('update_point function not implemented!')\n",
    "\n",
    "def meanshift_step(X, bandwidth=2.5):\n",
    "    # calculate mean for all x\n",
    "    # clist = []\n",
    "    X = X.copy() # farkli bandwidth lerde loop da denedigim icin, bozmamak icin\n",
    "    for i in range(len(X)):\n",
    "        x = X[i]\n",
    "        dist = distance(x,X)\n",
    "        w = gaussian(dist, bandwidth=bandwidth)\n",
    "        w = w.reshape(-1,1)\n",
    "        c = update_point(w, X)\n",
    "        X[i] = c\n",
    "        # clist.append(c)\n",
    "    # X = np.array(clist)\n",
    "    return X\n",
    "    # raise NotImplementedError('meanshift_step function not implemented!')"
   ]
  },
  {
   "cell_type": "code",
   "execution_count": null,
   "id": "d86732a5-55eb-4cd3-8adb-94ddcf9a2b4b",
   "metadata": {},
   "outputs": [],
   "source": []
  },
  {
   "cell_type": "code",
   "execution_count": 35,
   "id": "e6e44aa1-1441-4a58-b36a-fda85dfc26bc",
   "metadata": {},
   "outputs": [],
   "source": [
    "def meanshift(X, b=2.5):\n",
    "    for _ in range(20):\n",
    "        X = meanshift_step(X,b)\n",
    "    return X"
   ]
  },
  {
   "cell_type": "code",
   "execution_count": null,
   "id": "61464387-17ca-40f7-8fb7-05b7976bd190",
   "metadata": {},
   "outputs": [],
   "source": []
  },
  {
   "cell_type": "code",
   "execution_count": null,
   "id": "06a98b6c-544e-4b80-889c-1bdae9f7923a",
   "metadata": {},
   "outputs": [],
   "source": []
  },
  {
   "cell_type": "code",
   "execution_count": null,
   "id": "f8f5ebe6-ee3c-47d2-8380-eb7482beab00",
   "metadata": {},
   "outputs": [],
   "source": []
  },
  {
   "cell_type": "code",
   "execution_count": null,
   "id": "61b67320-f7c4-4cbf-85f3-5bfdac6deca0",
   "metadata": {},
   "outputs": [],
   "source": []
  },
  {
   "cell_type": "code",
   "execution_count": 141,
   "id": "f09605e6-24f4-4fb5-a80f-462db28de9fc",
   "metadata": {},
   "outputs": [],
   "source": [
    "for x in X:\n",
    "    break"
   ]
  },
  {
   "cell_type": "code",
   "execution_count": 142,
   "id": "88bb2516-de74-424d-bc13-b9e2ca0d6ab0",
   "metadata": {},
   "outputs": [
    {
     "data": {
      "text/plain": [
       "array([ 76.20993261,   1.34686303, -26.42193298])"
      ]
     },
     "execution_count": 142,
     "metadata": {},
     "output_type": "execute_result"
    }
   ],
   "source": [
    "x"
   ]
  },
  {
   "cell_type": "code",
   "execution_count": 143,
   "id": "2e3ba569-ea6b-48a6-ad32-6c8154edb15d",
   "metadata": {},
   "outputs": [
    {
     "data": {
      "text/plain": [
       "array([[ 76.20993261,   1.34686303, -26.42193298],\n",
       "       [ 76.48118903,   1.33709607, -26.40532841],\n",
       "       [ 76.67024524,   1.33033265, -26.39378359],\n",
       "       ...,\n",
       "       [ 26.05456167,   1.96580296,  -2.69142186],\n",
       "       [ 25.22320874,   1.97612992,  -2.70489147],\n",
       "       [ 25.3428146 ,   1.97464398,  -2.70297594]])"
      ]
     },
     "execution_count": 143,
     "metadata": {},
     "output_type": "execute_result"
    }
   ],
   "source": [
    "X"
   ]
  },
  {
   "cell_type": "code",
   "execution_count": 158,
   "id": "51486c7f-41e3-43e5-a5d9-a6e092d413eb",
   "metadata": {},
   "outputs": [],
   "source": []
  },
  {
   "cell_type": "code",
   "execution_count": null,
   "id": "8aaf326e-b07c-44f0-9bf8-99e6a0ea6f29",
   "metadata": {},
   "outputs": [],
   "source": []
  },
  {
   "cell_type": "code",
   "execution_count": null,
   "id": "ca9d86cb-dbf8-4073-99d2-97a72ffab8b3",
   "metadata": {},
   "outputs": [],
   "source": []
  },
  {
   "cell_type": "code",
   "execution_count": null,
   "id": "83629292-b253-43c9-b175-43eeac3b70c2",
   "metadata": {},
   "outputs": [],
   "source": []
  },
  {
   "cell_type": "code",
   "execution_count": 116,
   "id": "02837fc4-a401-44d1-b3d0-38cea33e79b3",
   "metadata": {},
   "outputs": [
    {
     "data": {
      "text/plain": [
       "(20000,)"
      ]
     },
     "execution_count": 116,
     "metadata": {},
     "output_type": "execute_result"
    }
   ],
   "source": [
    "np.linalg.norm(x-X, axis=1).shape"
   ]
  },
  {
   "cell_type": "code",
   "execution_count": 117,
   "id": "d524d5d7-3920-448e-9ca1-acecd809fce5",
   "metadata": {},
   "outputs": [],
   "source": [
    "dist = np.linalg.norm(x-X, axis=1)"
   ]
  },
  {
   "cell_type": "code",
   "execution_count": 119,
   "id": "c471d8b5-1787-4cde-8ed8-05314b006646",
   "metadata": {},
   "outputs": [
    {
     "data": {
      "text/plain": [
       "(20000,)"
      ]
     },
     "execution_count": 119,
     "metadata": {},
     "output_type": "execute_result"
    }
   ],
   "source": [
    "b = bandwidth\n",
    "d2 = dist*dist\n",
    "d2.shape"
   ]
  },
  {
   "cell_type": "code",
   "execution_count": 120,
   "id": "e0870e17-0b47-46c0-ac4b-ca70300b6ead",
   "metadata": {},
   "outputs": [
    {
     "data": {
      "text/plain": [
       "4964.582532821574"
      ]
     },
     "execution_count": 120,
     "metadata": {},
     "output_type": "execute_result"
    }
   ],
   "source": [
    "m = np.max(d2)\n",
    "m"
   ]
  },
  {
   "cell_type": "code",
   "execution_count": 121,
   "id": "4770385b-cb4e-4bcb-9ec3-d57de2c09dab",
   "metadata": {},
   "outputs": [],
   "source": [
    "\n",
    "r = np.exp((d2-m) / (b*b)) / np.sum(np.exp((d2-m) / (b*b))) "
   ]
  },
  {
   "cell_type": "code",
   "execution_count": 123,
   "id": "20242a4e-4fda-47ff-9433-131ee984304b",
   "metadata": {},
   "outputs": [
    {
     "data": {
      "text/plain": [
       "array([8.60517868e-127, 6.36191085e-125, 1.29497324e-123, ...,\n",
       "       0.00000000e+000, 0.00000000e+000, 0.00000000e+000])"
      ]
     },
     "execution_count": 123,
     "metadata": {},
     "output_type": "execute_result"
    }
   ],
   "source": [
    "r"
   ]
  },
  {
   "cell_type": "code",
   "execution_count": 125,
   "id": "68f8b663-18e8-4199-a975-3d0a46bd506e",
   "metadata": {},
   "outputs": [
    {
     "data": {
      "text/plain": [
       "0.9999999999999998"
      ]
     },
     "execution_count": 125,
     "metadata": {},
     "output_type": "execute_result"
    }
   ],
   "source": [
    "np.sum(r)"
   ]
  },
  {
   "cell_type": "code",
   "execution_count": 127,
   "id": "b4081cfa-b419-42c9-96f3-cc1bb6388db9",
   "metadata": {},
   "outputs": [
    {
     "data": {
      "text/plain": [
       "0.9858869944736638"
      ]
     },
     "execution_count": 127,
     "metadata": {},
     "output_type": "execute_result"
    }
   ],
   "source": [
    "np.max(r)"
   ]
  },
  {
   "cell_type": "code",
   "execution_count": 129,
   "id": "6c78c353-37ad-4b55-a998-253946737c07",
   "metadata": {},
   "outputs": [
    {
     "data": {
      "text/plain": [
       "10547"
      ]
     },
     "execution_count": 129,
     "metadata": {},
     "output_type": "execute_result"
    }
   ],
   "source": [
    "np.argmax(r)"
   ]
  },
  {
   "cell_type": "code",
   "execution_count": 115,
   "id": "47e0f6b0-9c6b-4018-b366-4b92e25ec23e",
   "metadata": {},
   "outputs": [
    {
     "data": {
      "text/plain": [
       "(20000,)"
      ]
     },
     "execution_count": 115,
     "metadata": {},
     "output_type": "execute_result"
    }
   ],
   "source": [
    "r.shape"
   ]
  },
  {
   "cell_type": "code",
   "execution_count": 131,
   "id": "0e758569-5494-4eda-bf91-0c70efb6bc38",
   "metadata": {},
   "outputs": [
    {
     "data": {
      "text/plain": [
       "array([93.7010913 ,  0.421423  , 14.27213899])"
      ]
     },
     "execution_count": 131,
     "metadata": {},
     "output_type": "execute_result"
    }
   ],
   "source": [
    "weight = r.reshape(-1,1)\n",
    "np.sum(X*weight, axis=0)"
   ]
  },
  {
   "cell_type": "code",
   "execution_count": 134,
   "id": "416c270e-2c6f-4dea-b91a-f8a98098ad28",
   "metadata": {},
   "outputs": [
    {
     "data": {
      "text/plain": [
       "(20000, 3)"
      ]
     },
     "execution_count": 134,
     "metadata": {},
     "output_type": "execute_result"
    }
   ],
   "source": [
    "(X*weight).shape"
   ]
  },
  {
   "cell_type": "code",
   "execution_count": 135,
   "id": "feb30aa1-81a0-475b-a34c-a86b98493455",
   "metadata": {},
   "outputs": [
    {
     "data": {
      "text/plain": [
       "(20000, 3)"
      ]
     },
     "execution_count": 135,
     "metadata": {},
     "output_type": "execute_result"
    }
   ],
   "source": [
    "X.shape"
   ]
  },
  {
   "cell_type": "code",
   "execution_count": 136,
   "id": "b2ec6197-e70b-4074-989a-7c4986897332",
   "metadata": {},
   "outputs": [
    {
     "data": {
      "text/plain": [
       "(20000, 1)"
      ]
     },
     "execution_count": 136,
     "metadata": {},
     "output_type": "execute_result"
    }
   ],
   "source": [
    "weight.shape"
   ]
  },
  {
   "cell_type": "code",
   "execution_count": 139,
   "id": "6831e404-1096-4ce3-ace4-9d19a9f43122",
   "metadata": {},
   "outputs": [
    {
     "data": {
      "text/plain": [
       "array([[ 76.20993261,   1.34686303, -26.42193298],\n",
       "       [ 76.48118903,   1.33709607, -26.40532841],\n",
       "       [ 76.67024524,   1.33033265, -26.39378359],\n",
       "       ...,\n",
       "       [ 26.05456167,   1.96580296,  -2.69142186],\n",
       "       [ 25.22320874,   1.97612992,  -2.70489147],\n",
       "       [ 25.3428146 ,   1.97464398,  -2.70297594]])"
      ]
     },
     "execution_count": 139,
     "metadata": {},
     "output_type": "execute_result"
    }
   ],
   "source": [
    "X"
   ]
  },
  {
   "cell_type": "code",
   "execution_count": 140,
   "id": "06a7326d-4dd9-46ec-a138-30eade91c6e8",
   "metadata": {},
   "outputs": [
    {
     "data": {
      "text/plain": [
       "array([[8.60517868e-127],\n",
       "       [6.36191085e-125],\n",
       "       [1.29497324e-123],\n",
       "       ...,\n",
       "       [0.00000000e+000],\n",
       "       [0.00000000e+000],\n",
       "       [0.00000000e+000]])"
      ]
     },
     "execution_count": 140,
     "metadata": {},
     "output_type": "execute_result"
    }
   ],
   "source": [
    "weight"
   ]
  },
  {
   "cell_type": "code",
   "execution_count": 138,
   "id": "8e799e30-553f-423d-b6ef-c85a5224d175",
   "metadata": {},
   "outputs": [
    {
     "data": {
      "text/plain": [
       "array([[ 6.55800087e-125,  1.15899970e-126, -2.27365454e-125],\n",
       "       [ 4.86566506e-123,  8.50648602e-125, -1.67988345e-123],\n",
       "       [ 9.92859156e-122,  1.72274517e-123, -3.41792434e-122],\n",
       "       ...,\n",
       "       [ 0.00000000e+000,  0.00000000e+000, -0.00000000e+000],\n",
       "       [ 0.00000000e+000,  0.00000000e+000, -0.00000000e+000],\n",
       "       [ 0.00000000e+000,  0.00000000e+000, -0.00000000e+000]])"
      ]
     },
     "execution_count": 138,
     "metadata": {},
     "output_type": "execute_result"
    }
   ],
   "source": [
    "X*weight"
   ]
  },
  {
   "cell_type": "code",
   "execution_count": null,
   "id": "70c35335-76f2-46c4-9dcd-ef031bf03617",
   "metadata": {},
   "outputs": [],
   "source": []
  },
  {
   "cell_type": "code",
   "execution_count": 24,
   "id": "294a7238-a2e4-4cfd-af85-36cbfe2c6b15",
   "metadata": {},
   "outputs": [],
   "source": [
    "scale = 0.5    # downscale the image to run faster\n",
    "\n",
    "# Load image and convert it to CIELAB space\n",
    "image = rescale(io.imread('eth.jpg'), scale, channel_axis=-1)\n",
    "image_lab = color.rgb2lab(image)\n",
    "shape = image_lab.shape # record image shape\n",
    "image_lab = image_lab.reshape([-1, 3])  # flatten the image"
   ]
  },
  {
   "cell_type": "code",
   "execution_count": 25,
   "id": "8a21b356-4391-4907-9475-77186eb5ead5",
   "metadata": {},
   "outputs": [
    {
     "data": {
      "text/plain": [
       "(20000, 3)"
      ]
     },
     "execution_count": 25,
     "metadata": {},
     "output_type": "execute_result"
    },
    {
     "data": {
      "image/png": "[encoded data removed]",
      "text/plain": [
       "<Figure size 640x480 with 1 Axes>"
      ]
     },
     "metadata": {},
     "output_type": "display_data"
    }
   ],
   "source": [
    "import matplotlib.pyplot as plt\n",
    "\n",
    "plt.imshow(image)\n",
    "image_lab.shape"
   ]
  },
  {
   "cell_type": "code",
   "execution_count": null,
   "id": "b8346bfa-356d-410e-a4d0-a6c01423196e",
   "metadata": {},
   "outputs": [],
   "source": []
  },
  {
   "cell_type": "code",
   "execution_count": null,
   "id": "ca2fd5f0-48a6-4561-929d-cd8862ff298b",
   "metadata": {},
   "outputs": [],
   "source": []
  },
  {
   "cell_type": "code",
   "execution_count": null,
   "id": "e6be6ce4-cbbf-41fc-8509-72b85d8e01ef",
   "metadata": {},
   "outputs": [],
   "source": []
  },
  {
   "cell_type": "code",
   "execution_count": 28,
   "id": "4dfc701e-8e50-40ee-9775-3b36c7d4ceda",
   "metadata": {},
   "outputs": [],
   "source": [
    "X = image_lab"
   ]
  },
  {
   "cell_type": "code",
   "execution_count": 29,
   "id": "f542b649-776a-4344-9464-42f8a55f9e08",
   "metadata": {},
   "outputs": [
    {
     "data": {
      "text/plain": [
       "(20000, 3)"
      ]
     },
     "execution_count": 29,
     "metadata": {},
     "output_type": "execute_result"
    }
   ],
   "source": [
    "X.shape"
   ]
  },
  {
   "cell_type": "code",
   "execution_count": 30,
   "id": "ff33136b-a753-4f42-a244-06a511760379",
   "metadata": {},
   "outputs": [
    {
     "data": {
      "text/plain": [
       "(3,)"
      ]
     },
     "execution_count": 30,
     "metadata": {},
     "output_type": "execute_result"
    }
   ],
   "source": [
    "X[0].shape"
   ]
  },
  {
   "cell_type": "code",
   "execution_count": 8,
   "id": "9251626f-b30f-42a5-93a2-8a9dd901410d",
   "metadata": {},
   "outputs": [],
   "source": [
    "x = X[0]"
   ]
  },
  {
   "cell_type": "code",
   "execution_count": 9,
   "id": "1ac35caa-d4b2-4853-a240-31bca89cd91b",
   "metadata": {},
   "outputs": [
    {
     "data": {
      "text/plain": [
       "(20000, 3)"
      ]
     },
     "execution_count": 9,
     "metadata": {},
     "output_type": "execute_result"
    }
   ],
   "source": [
    "(x-X).shape"
   ]
  },
  {
   "cell_type": "code",
   "execution_count": 7,
   "id": "adec7e18-aa67-4247-ae78-198e47135e21",
   "metadata": {},
   "outputs": [
    {
     "data": {
      "text/plain": [
       "array([ 0.        ,  0.27193961,  0.4614687 , ..., 55.48947178,\n",
       "       56.23646544, 56.12884041])"
      ]
     },
     "execution_count": 7,
     "metadata": {},
     "output_type": "execute_result"
    }
   ],
   "source": [
    "np.linalg.norm(x-X, axis=1)"
   ]
  },
  {
   "cell_type": "code",
   "execution_count": 8,
   "id": "90018342-1fd7-4f06-8556-7c975a53757d",
   "metadata": {},
   "outputs": [
    {
     "ename": "NameError",
     "evalue": "name 'distance' is not defined",
     "output_type": "error",
     "traceback": [
      "\u001b[0;31m---------------------------------------------------------------------------\u001b[0m",
      "\u001b[0;31mNameError\u001b[0m                                 Traceback (most recent call last)",
      "Cell \u001b[0;32mIn[8], line 1\u001b[0m\n\u001b[0;32m----> 1\u001b[0m dist \u001b[38;5;241m=\u001b[39m \u001b[43mdistance\u001b[49m(x,X)\n",
      "\u001b[0;31mNameError\u001b[0m: name 'distance' is not defined"
     ]
    }
   ],
   "source": [
    "dist = distance(x,X)"
   ]
  },
  {
   "cell_type": "code",
   "execution_count": null,
   "id": "7c20cf84-b8a6-4283-a9c0-9926d5369a4f",
   "metadata": {},
   "outputs": [],
   "source": [
    "distance(x,X)"
   ]
  },
  {
   "cell_type": "code",
   "execution_count": 10,
   "id": "ca2bce91-c040-4161-8c6f-fe0812f38977",
   "metadata": {},
   "outputs": [],
   "source": [
    "n, c = X.shape"
   ]
  },
  {
   "cell_type": "code",
   "execution_count": 11,
   "id": "9ff4f9b1-3b19-47ee-a90c-72324f6bb382",
   "metadata": {},
   "outputs": [],
   "source": [
    "# mm = (X.reshape(n,1,c) - X)"
   ]
  },
  {
   "cell_type": "code",
   "execution_count": 83,
   "id": "fe9534d8-e85f-45b5-9e6a-cbcde284565e",
   "metadata": {},
   "outputs": [
    {
     "data": {
      "text/plain": [
       "0"
      ]
     },
     "execution_count": 83,
     "metadata": {},
     "output_type": "execute_result"
    }
   ],
   "source": [
    "np.sum(mm[0] != x-X)"
   ]
  },
  {
   "cell_type": "code",
   "execution_count": 84,
   "id": "6301c5c3-80a9-4bd9-9853-678cfaa491ca",
   "metadata": {},
   "outputs": [
    {
     "data": {
      "text/plain": [
       "(20000, 20000, 3)"
      ]
     },
     "execution_count": 84,
     "metadata": {},
     "output_type": "execute_result"
    }
   ],
   "source": [
    "mm.shape"
   ]
  },
  {
   "cell_type": "code",
   "execution_count": 71,
   "id": "76147bb5-01e3-45f8-a8e6-5f2af4c24299",
   "metadata": {},
   "outputs": [
    {
     "data": {
      "text/plain": [
       "array([ 0.        ,  0.27193961,  0.4614687 , ..., 55.48947178,\n",
       "       56.23646544, 56.12884041])"
      ]
     },
     "execution_count": 71,
     "metadata": {},
     "output_type": "execute_result"
    }
   ],
   "source": []
  },
  {
   "cell_type": "code",
   "execution_count": 72,
   "id": "1f6357de-e1a3-4c74-80ac-c4b114ee4aa2",
   "metadata": {},
   "outputs": [
    {
     "data": {
      "text/plain": [
       "array([ True,  True,  True, ...,  True,  True,  True])"
      ]
     },
     "execution_count": 72,
     "metadata": {},
     "output_type": "execute_result"
    }
   ],
   "source": [
    "# np.linalg.norm(mm[0], axis=1) == distance(x,X)"
   ]
  },
  {
   "cell_type": "code",
   "execution_count": 69,
   "id": "a2882465-025a-4211-b941-aad7c6660003",
   "metadata": {},
   "outputs": [
    {
     "data": {
      "text/plain": [
       "(20000, 20000, 3)"
      ]
     },
     "execution_count": 69,
     "metadata": {},
     "output_type": "execute_result"
    }
   ],
   "source": [
    "mm.shape"
   ]
  },
  {
   "cell_type": "code",
   "execution_count": 76,
   "id": "ba73a290-f814-43fc-a436-8fbaaddef35a",
   "metadata": {},
   "outputs": [
    {
     "data": {
      "text/plain": [
       "(3,)"
      ]
     },
     "execution_count": 76,
     "metadata": {},
     "output_type": "execute_result"
    }
   ],
   "source": [
    "dd[0].shape"
   ]
  },
  {
   "cell_type": "code",
   "execution_count": 77,
   "id": "75319d03-3d5d-482e-b73a-509cc74931e2",
   "metadata": {},
   "outputs": [
    {
     "data": {
      "text/plain": [
       "(20000,)"
      ]
     },
     "execution_count": 77,
     "metadata": {},
     "output_type": "execute_result"
    }
   ],
   "source": [
    "distance(x,X).shape"
   ]
  },
  {
   "cell_type": "code",
   "execution_count": null,
   "id": "5baadbbc-e755-4fbd-8580-ca576a1cf3d2",
   "metadata": {},
   "outputs": [],
   "source": []
  },
  {
   "cell_type": "code",
   "execution_count": 79,
   "id": "ad6ca00a-471d-40da-a85a-1165a01c6ce8",
   "metadata": {},
   "outputs": [],
   "source": [
    "tmp = np.random.randn(10,10,3)"
   ]
  },
  {
   "cell_type": "code",
   "execution_count": 86,
   "id": "42191e3e-bfc9-454e-81f5-768f317ad0c7",
   "metadata": {},
   "outputs": [
    {
     "data": {
      "text/plain": [
       "(10, 10)"
      ]
     },
     "execution_count": 86,
     "metadata": {},
     "output_type": "execute_result"
    }
   ],
   "source": [
    "np.linalg.norm(tmp, axis=2).shape"
   ]
  },
  {
   "cell_type": "code",
   "execution_count": 82,
   "id": "2e2171ed-3a73-4758-9c5e-1351ca06f9bc",
   "metadata": {},
   "outputs": [
    {
     "data": {
      "text/plain": [
       "(10, 3)"
      ]
     },
     "execution_count": 82,
     "metadata": {},
     "output_type": "execute_result"
    }
   ],
   "source": [
    "tmp[0].shape"
   ]
  },
  {
   "cell_type": "code",
   "execution_count": null,
   "id": "2adda3dc-9781-4633-9515-97ca231b4079",
   "metadata": {},
   "outputs": [],
   "source": []
  },
  {
   "cell_type": "code",
   "execution_count": null,
   "id": "3a132e6a-d949-4582-ad2b-ddf0096e2ec5",
   "metadata": {},
   "outputs": [],
   "source": []
  },
  {
   "cell_type": "code",
   "execution_count": null,
   "id": "6c0826b3-88d4-4f5e-b460-8b6fd8d4e309",
   "metadata": {},
   "outputs": [],
   "source": [
    "dd = np.linalg.norm(mm, axis=2)"
   ]
  },
  {
   "cell_type": "code",
   "execution_count": 89,
   "id": "95face29-cb4d-4c85-9572-068f9656742f",
   "metadata": {},
   "outputs": [
    {
     "data": {
      "text/plain": [
       "(20000, 20000)"
      ]
     },
     "execution_count": 89,
     "metadata": {},
     "output_type": "execute_result"
    }
   ],
   "source": [
    "dist = dd\n",
    "dd.shape"
   ]
  },
  {
   "cell_type": "code",
   "execution_count": 91,
   "id": "0148cb00-cbc4-4093-a0af-ad6b841cfa64",
   "metadata": {},
   "outputs": [],
   "source": [
    "bandwidth = 2.5"
   ]
  },
  {
   "cell_type": "code",
   "execution_count": 92,
   "id": "cc0dced7-b3ce-4dd6-a147-cc8f5c9e0621",
   "metadata": {},
   "outputs": [
    {
     "data": {
      "text/plain": [
       "(20000, 20000)"
      ]
     },
     "execution_count": 92,
     "metadata": {},
     "output_type": "execute_result"
    }
   ],
   "source": [
    "b = bandwidth\n",
    "d2 = dist*dist\n",
    "d2.shape"
   ]
  },
  {
   "cell_type": "code",
   "execution_count": 94,
   "id": "396c98f3-188c-41c2-86db-bccb82ef4db2",
   "metadata": {},
   "outputs": [
    {
     "data": {
      "text/plain": [
       "(20000,)"
      ]
     },
     "execution_count": 94,
     "metadata": {},
     "output_type": "execute_result"
    }
   ],
   "source": [
    "m = np.max(d2,axis=1)\n",
    "m.shape"
   ]
  },
  {
   "cell_type": "code",
   "execution_count": 97,
   "id": "74958d1b-d2bc-46cd-a233-2dfa1cb8422b",
   "metadata": {},
   "outputs": [
    {
     "data": {
      "text/plain": [
       "array([-6185.95955858, -6224.46834924, -6251.30951631, ...,\n",
       "       -1788.27734862, -1818.47907933, -1814.13580672])"
      ]
     },
     "execution_count": 97,
     "metadata": {},
     "output_type": "execute_result"
    }
   ],
   "source": [
    "(d2-m)[0]"
   ]
  },
  {
   "cell_type": "code",
   "execution_count": 98,
   "id": "28a92242-0db5-47db-8f06-a34a59326431",
   "metadata": {},
   "outputs": [
    {
     "data": {
      "text/plain": [
       "array([-6185.95955858, -6185.88560742, -6185.74660521, ...,\n",
       "       -3106.8780802 , -3023.41951295, -3035.51283248])"
      ]
     },
     "execution_count": 98,
     "metadata": {},
     "output_type": "execute_result"
    }
   ],
   "source": [
    "d2[0]-m[0]"
   ]
  },
  {
   "cell_type": "code",
   "execution_count": null,
   "id": "00bbd64d-2fe9-4679-93ea-05eafc91fc1f",
   "metadata": {},
   "outputs": [],
   "source": [
    "\n",
    "r = np.exp((d2-m) / (b*b)) / np.sum(np.exp((d2-m) / (b*b)), axis=1) "
   ]
  },
  {
   "cell_type": "code",
   "execution_count": 25,
   "id": "7f8efbbf-bcef-41dc-8b71-082efbc8d953",
   "metadata": {},
   "outputs": [],
   "source": [
    "bandwidth = 2.5"
   ]
  },
  {
   "cell_type": "code",
   "execution_count": 26,
   "id": "9bb07deb-f55d-4411-ae51-5ebbcce47287",
   "metadata": {},
   "outputs": [],
   "source": [
    "b = bandwidth\n",
    "d2 = dist*dist\n",
    "m = np.max(d2)\n",
    "r = np.exp((d2-m) / (b*b)) / np.sum(np.exp((d2-m) / (b*b))) "
   ]
  },
  {
   "cell_type": "code",
   "execution_count": 27,
   "id": "ace1463e-34f6-43fe-bccf-60832c729385",
   "metadata": {},
   "outputs": [
    {
     "data": {
      "text/plain": [
       "(20000,)"
      ]
     },
     "execution_count": 27,
     "metadata": {},
     "output_type": "execute_result"
    }
   ],
   "source": [
    "r.shape"
   ]
  },
  {
   "cell_type": "code",
   "execution_count": 28,
   "id": "ff8c43a3-a9b7-4549-a394-7a8c372de494",
   "metadata": {},
   "outputs": [
    {
     "data": {
      "text/plain": [
       "(20000,)"
      ]
     },
     "execution_count": 28,
     "metadata": {},
     "output_type": "execute_result"
    }
   ],
   "source": [
    "np.exp((d2-m) / (b*b)).shape"
   ]
  },
  {
   "cell_type": "code",
   "execution_count": 29,
   "id": "35f1a2ba-2337-49c1-a462-260de593abf7",
   "metadata": {},
   "outputs": [
    {
     "data": {
      "text/plain": [
       "(20000,)"
      ]
     },
     "execution_count": 29,
     "metadata": {},
     "output_type": "execute_result"
    }
   ],
   "source": [
    "dist.shape"
   ]
  },
  {
   "cell_type": "code",
   "execution_count": null,
   "id": "b6925bee-499d-4faa-98b5-bf71d6a1b316",
   "metadata": {},
   "outputs": [],
   "source": []
  },
  {
   "cell_type": "code",
   "execution_count": 16,
   "id": "cf331ec3-c3db-4bae-b1c2-9ff40902e5f3",
   "metadata": {},
   "outputs": [
    {
     "data": {
      "text/plain": [
       "array([ 0.        ,  0.27193961,  0.4614687 , ..., 55.48947178,\n",
       "       56.23646544, 56.12884041])"
      ]
     },
     "execution_count": 16,
     "metadata": {},
     "output_type": "execute_result"
    }
   ],
   "source": [
    "dist"
   ]
  },
  {
   "cell_type": "code",
   "execution_count": 17,
   "id": "d2032336-0acc-4aea-a2a8-4d1f136ad404",
   "metadata": {},
   "outputs": [],
   "source": [
    "r = gaussian(dist, bandwidth=0.1)"
   ]
  },
  {
   "cell_type": "code",
   "execution_count": 18,
   "id": "a431a07c-436b-4908-a2c8-2f001fb86a28",
   "metadata": {},
   "outputs": [
    {
     "data": {
      "text/plain": [
       "array([0., 0., 0., ..., 0., 0., 0.])"
      ]
     },
     "execution_count": 18,
     "metadata": {},
     "output_type": "execute_result"
    }
   ],
   "source": [
    "r"
   ]
  },
  {
   "cell_type": "code",
   "execution_count": 19,
   "id": "77e1cb25-d8cb-4a4c-9491-aff36c15ec5f",
   "metadata": {},
   "outputs": [
    {
     "data": {
      "text/plain": [
       "[<matplotlib.lines.Line2D at 0x1230fd4b0>]"
      ]
     },
     "execution_count": 19,
     "metadata": {},
     "output_type": "execute_result"
    },
    {
     "data": {
      "image/png": "[encoded data removed]",
      "text/plain": [
       "<Figure size 640x480 with 1 Axes>"
      ]
     },
     "metadata": {},
     "output_type": "display_data"
    }
   ],
   "source": [
    "plt.plot(r)"
   ]
  },
  {
   "cell_type": "code",
   "execution_count": null,
   "id": "819c115b-7b61-4674-8cbf-ae7cdc46cd64",
   "metadata": {},
   "outputs": [],
   "source": []
  },
  {
   "cell_type": "code",
   "execution_count": null,
   "id": "fa775b73-6875-43a2-a72b-5b72d587c27b",
   "metadata": {},
   "outputs": [],
   "source": []
  },
  {
   "cell_type": "code",
   "execution_count": 20,
   "id": "ee073077-ac60-45e8-bf2a-a8f31930c15e",
   "metadata": {},
   "outputs": [
    {
     "data": {
      "text/plain": [
       "array([6.14798242e-29, 6.15253060e-29, 6.16108870e-29, ...,\n",
       "       1.44881713e-15, 3.33787081e-15, 2.95766447e-15])"
      ]
     },
     "execution_count": 20,
     "metadata": {},
     "output_type": "execute_result"
    }
   ],
   "source": [
    "b = 10\n",
    "d2 = dist*dist\n",
    "m = np.max(d2)\n",
    "r = np.exp((d2-m) / (b*b)) / np.sum(np.exp((d2-m) / (b*b))) \n",
    "r"
   ]
  },
  {
   "cell_type": "code",
   "execution_count": 21,
   "id": "0c7f04a9-89b1-45ea-985d-73751f2a5d79",
   "metadata": {},
   "outputs": [
    {
     "data": {
      "text/plain": [
       "[<matplotlib.lines.Line2D at 0x1231741f0>]"
      ]
     },
     "execution_count": 21,
     "metadata": {},
     "output_type": "execute_result"
    },
    {
     "data": {
      "image/png": "[encoded data removed]",
      "text/plain": [
       "<Figure size 640x480 with 1 Axes>"
      ]
     },
     "metadata": {},
     "output_type": "display_data"
    }
   ],
   "source": [
    "plt.plot(r)"
   ]
  },
  {
   "cell_type": "code",
   "execution_count": 22,
   "id": "612a71f6-1729-4a62-9b1f-b84f7ebe6201",
   "metadata": {},
   "outputs": [
    {
     "data": {
      "text/plain": [
       "0.9999999999999999"
      ]
     },
     "execution_count": 22,
     "metadata": {},
     "output_type": "execute_result"
    }
   ],
   "source": [
    "np.sum(r)"
   ]
  },
  {
   "cell_type": "code",
   "execution_count": 23,
   "id": "319f056e-9393-4fbb-be5c-0f11c3a65013",
   "metadata": {},
   "outputs": [
    {
     "data": {
      "text/plain": [
       "6185.959558575029"
      ]
     },
     "execution_count": 23,
     "metadata": {},
     "output_type": "execute_result"
    }
   ],
   "source": [
    "m = np.max(dist*dist)\n",
    "m"
   ]
  },
  {
   "cell_type": "code",
   "execution_count": 32,
   "id": "18c3984d-e67a-4f93-9f09-737ca73e9e84",
   "metadata": {},
   "outputs": [
    {
     "data": {
      "text/plain": [
       "(20000,)"
      ]
     },
     "execution_count": 32,
     "metadata": {},
     "output_type": "execute_result"
    }
   ],
   "source": [
    "distance(X,X).shape"
   ]
  },
  {
   "cell_type": "code",
   "execution_count": 34,
   "id": "edbb12b9-5dc1-41b7-be88-a5b4ddce0925",
   "metadata": {},
   "outputs": [
    {
     "data": {
      "text/plain": [
       "(20000,)"
      ]
     },
     "execution_count": 34,
     "metadata": {},
     "output_type": "execute_result"
    }
   ],
   "source": [
    "distance(x,X).shape"
   ]
  },
  {
   "cell_type": "code",
   "execution_count": 18,
   "id": "00b04e2d-f4b0-46c1-a6f5-058b6209872a",
   "metadata": {},
   "outputs": [],
   "source": [
    "dist = distance(x,X)\n",
    "# r = gaussian(dist, bandwidth=0.1)\n",
    "weight = gaussian(dist, bandwidth=2)\n"
   ]
  },
  {
   "cell_type": "code",
   "execution_count": 19,
   "id": "a9cc12e9-5790-4960-8d4d-4687609503e5",
   "metadata": {},
   "outputs": [
    {
     "data": {
      "text/plain": [
       "(20000,)"
      ]
     },
     "execution_count": 19,
     "metadata": {},
     "output_type": "execute_result"
    }
   ],
   "source": [
    "r.shape"
   ]
  },
  {
   "cell_type": "code",
   "execution_count": 22,
   "id": "9eed8878-d9f8-4b34-b31d-02693c0d9cf6",
   "metadata": {},
   "outputs": [
    {
     "data": {
      "text/plain": [
       "(20000,)"
      ]
     },
     "execution_count": 22,
     "metadata": {},
     "output_type": "execute_result"
    }
   ],
   "source": [
    "weight.shape"
   ]
  },
  {
   "cell_type": "code",
   "execution_count": 30,
   "id": "41b161e7-1786-44bc-a4b6-17fd642aa000",
   "metadata": {},
   "outputs": [
    {
     "data": {
      "text/plain": [
       "(20000, 3)"
      ]
     },
     "execution_count": 30,
     "metadata": {},
     "output_type": "execute_result"
    }
   ],
   "source": [
    "X.shape"
   ]
  },
  {
   "cell_type": "code",
   "execution_count": 35,
   "id": "f9c4c9a5-cddf-4593-96c7-79aa6a06ad5a",
   "metadata": {},
   "outputs": [],
   "source": [
    "w = weight.reshape(-1,1)"
   ]
  },
  {
   "cell_type": "code",
   "execution_count": 36,
   "id": "fedf31c1-b082-4558-a8b7-f4c71c907591",
   "metadata": {},
   "outputs": [
    {
     "data": {
      "text/plain": [
       "(20000, 3)"
      ]
     },
     "execution_count": 36,
     "metadata": {},
     "output_type": "execute_result"
    }
   ],
   "source": [
    "(X*w).shape"
   ]
  },
  {
   "cell_type": "code",
   "execution_count": 39,
   "id": "f85cc94b-8d6b-472d-b883-3a5ac161d1f9",
   "metadata": {},
   "outputs": [
    {
     "data": {
      "text/plain": [
       "array([ 3.38643581, -1.47700053,  3.09420101])"
      ]
     },
     "execution_count": 39,
     "metadata": {},
     "output_type": "execute_result"
    }
   ],
   "source": [
    "np.sum(X*w, axis=0)"
   ]
  },
  {
   "cell_type": "code",
   "execution_count": 43,
   "id": "721a786f-4ff5-4315-b29f-7a74d90d0874",
   "metadata": {},
   "outputs": [
    {
     "data": {
      "text/plain": [
       "array([ 3.38643581, -1.47700053,  3.09420101])"
      ]
     },
     "execution_count": 43,
     "metadata": {},
     "output_type": "execute_result"
    }
   ],
   "source": [
    "update_point(weight.reshape(-1,1), X)"
   ]
  },
  {
   "cell_type": "code",
   "execution_count": 12,
   "id": "ff46ef7b-376b-43fc-ac1c-356e9aa7ca4e",
   "metadata": {},
   "outputs": [
    {
     "data": {
      "text/plain": [
       "array([ 76.20993261,   1.34686303, -26.42193298])"
      ]
     },
     "execution_count": 12,
     "metadata": {},
     "output_type": "execute_result"
    }
   ],
   "source": [
    "x"
   ]
  },
  {
   "cell_type": "code",
   "execution_count": null,
   "id": "47aeb9a0-50b2-4ebf-891c-e64634d338b1",
   "metadata": {},
   "outputs": [],
   "source": []
  },
  {
   "cell_type": "code",
   "execution_count": 29,
   "id": "ee85eb6a-8dfe-4729-ac2e-5a56611f360b",
   "metadata": {},
   "outputs": [
    {
     "data": {
      "text/plain": [
       "(20000, 1)"
      ]
     },
     "execution_count": 29,
     "metadata": {},
     "output_type": "execute_result"
    }
   ],
   "source": [
    "weight.shape\n",
    "weight.reshape(-1,1).shape"
   ]
  },
  {
   "cell_type": "code",
   "execution_count": null,
   "id": "d3fba547-068f-42ba-bbdb-dd82fe5a0427",
   "metadata": {},
   "outputs": [],
   "source": []
  },
  {
   "cell_type": "code",
   "execution_count": 27,
   "id": "52ba63cd-0f80-47d8-9111-773e994691e6",
   "metadata": {},
   "outputs": [
    {
     "data": {
      "text/plain": [
       "5.003636290720427"
      ]
     },
     "execution_count": 27,
     "metadata": {},
     "output_type": "execute_result"
    }
   ],
   "source": []
  },
  {
   "cell_type": "code",
   "execution_count": 28,
   "id": "a666aa3d-35d8-4aba-a040-f923e6e53823",
   "metadata": {},
   "outputs": [],
   "source": [
    "bandwidth = 2.5"
   ]
  },
  {
   "cell_type": "code",
   "execution_count": null,
   "id": "6b90ad7e-f578-4064-89aa-1ccbc5d17b0c",
   "metadata": {},
   "outputs": [],
   "source": []
  },
  {
   "cell_type": "code",
   "execution_count": null,
   "id": "5fbda7cc-7a7d-4b1d-9b50-5aef08892f1f",
   "metadata": {},
   "outputs": [],
   "source": []
  },
  {
   "cell_type": "code",
   "execution_count": 49,
   "id": "45eca662-75e8-42ac-9fc5-776b2144a5e5",
   "metadata": {},
   "outputs": [],
   "source": [
    "# calculate mean for all x\n",
    "clist = []\n",
    "for x in X:\n",
    "    dist = distance(x,X)\n",
    "    w = gaussian(dist, bandwidth=bandwidth)\n",
    "    w = w.reshape(-1,1)\n",
    "    c = update_point(w, x)\n",
    "    clist.append(c)\n",
    "X = np.array(clist)"
   ]
  },
  {
   "cell_type": "code",
   "execution_count": null,
   "id": "8558acc6-9ba4-48ae-9af1-a336f7ae2847",
   "metadata": {},
   "outputs": [],
   "source": []
  },
  {
   "cell_type": "code",
   "execution_count": 48,
   "id": "b069d0c2-ec82-44c4-bc79-e2138f013700",
   "metadata": {},
   "outputs": [
    {
     "data": {
      "text/plain": [
       "(20000, 3)"
      ]
     },
     "execution_count": 48,
     "metadata": {},
     "output_type": "execute_result"
    }
   ],
   "source": [
    "np.array(clist).shape"
   ]
  },
  {
   "cell_type": "code",
   "execution_count": null,
   "id": "0a471b2c-ef67-4547-b033-e9e96ea86460",
   "metadata": {},
   "outputs": [],
   "source": []
  },
  {
   "cell_type": "code",
   "execution_count": 45,
   "id": "db045def-3b3c-466f-ba37-ba198672cbec",
   "metadata": {},
   "outputs": [
    {
     "data": {
      "text/plain": [
       "(20000, 3)"
      ]
     },
     "execution_count": 45,
     "metadata": {},
     "output_type": "execute_result"
    }
   ],
   "source": [
    "X.shape"
   ]
  },
  {
   "cell_type": "code",
   "execution_count": null,
   "id": "57e3b743-eac9-4d78-a475-bedb9077b56d",
   "metadata": {},
   "outputs": [],
   "source": []
  },
  {
   "cell_type": "code",
   "execution_count": null,
   "id": "6142b5a7-452a-4e14-abf0-95c47a69c585",
   "metadata": {},
   "outputs": [],
   "source": []
  },
  {
   "cell_type": "code",
   "execution_count": null,
   "id": "c23b84a0-f3ec-4d05-8a1d-09d5867df4f3",
   "metadata": {},
   "outputs": [],
   "source": []
  },
  {
   "cell_type": "code",
   "execution_count": null,
   "id": "dc68ff63-f111-497f-afc2-05e8d84d151d",
   "metadata": {},
   "outputs": [],
   "source": []
  },
  {
   "cell_type": "code",
   "execution_count": null,
   "id": "3902109c-11c5-456c-9872-02f34013799e",
   "metadata": {},
   "outputs": [],
   "source": []
  },
  {
   "cell_type": "code",
   "execution_count": null,
   "id": "3a6d4ae3-b632-440c-9377-d1bc35970dde",
   "metadata": {},
   "outputs": [],
   "source": [
    "# Run your mean-shift algorithm\n",
    "t = time.time()\n",
    "X = meanshift(image_lab)\n",
    "t = time.time() - t\n",
    "print ('Elapsed time for mean-shift: {}'.format(t))"
   ]
  },
  {
   "cell_type": "code",
   "execution_count": null,
   "id": "2457d82e-dcfc-463f-9076-af83d434d349",
   "metadata": {},
   "outputs": [],
   "source": [
    "\n",
    "# Load label colors and draw labels as an image\n",
    "colors = np.load('colors.npz')['colors']\n",
    "colors[colors > 1.0] = 1\n",
    "colors[colors < 0.0] = 0\n",
    "\n",
    "centroids, labels = np.unique((X / 4).round(), return_inverse=True, axis=0)\n",
    "\n",
    "result_image = colors[labels].reshape(shape)\n",
    "result_image = rescale(result_image, 1 / scale, order=0, channel_axis=-1)     # resize result image to original resolution\n",
    "result_image = (result_image * 255).astype(np.uint8)\n",
    "io.imsave('result.png', result_image)\n"
   ]
  },
  {
   "cell_type": "code",
   "execution_count": null,
   "id": "6897966c-9e1e-46ee-9769-0f10757aaf1c",
   "metadata": {},
   "outputs": [],
   "source": []
  },
  {
   "cell_type": "code",
   "execution_count": null,
   "id": "5b737969-066f-4880-a8d1-e2934892ab8a",
   "metadata": {},
   "outputs": [],
   "source": []
  },
  {
   "cell_type": "code",
   "execution_count": 43,
   "id": "3a87e4c5-0596-4b5f-879b-1e804fc46705",
   "metadata": {},
   "outputs": [],
   "source": [
    "# try with different bandwidths\n",
    "b_list = [1, 2.5, 3, 5, 7]\n",
    "# b_list = [1, 2.5]"
   ]
  },
  {
   "cell_type": "code",
   "execution_count": 44,
   "id": "7c8a27c3-a401-4641-b075-89e72af66159",
   "metadata": {},
   "outputs": [],
   "source": [
    "import os\n",
    "path = \"res3\"\n",
    "# Check whether the specified path exists or not\n",
    "if not os.path.exists(path):\n",
    "    os.makedirs(path)"
   ]
  },
  {
   "cell_type": "code",
   "execution_count": null,
   "id": "9a51c130-78d8-499d-a933-e6e0ae791495",
   "metadata": {},
   "outputs": [],
   "source": []
  },
  {
   "cell_type": "code",
   "execution_count": null,
   "id": "289d0300-1f3f-4041-b4f7-06872b0287ba",
   "metadata": {},
   "outputs": [],
   "source": []
  },
  {
   "cell_type": "code",
   "execution_count": 45,
   "id": "58db7d23-887d-41a6-a8e1-60e462ad937f",
   "metadata": {},
   "outputs": [
    {
     "name": "stderr",
     "output_type": "stream",
     "text": [
      "/var/folders/dp/4fr32ggj4tb41_86_5pj1l8h0000gn/T/ipykernel_73244/21559629.py:9: RuntimeWarning: overflow encountered in exp\n",
      "  r = np.exp(-0.5*(d2-m) / (b*b)) / np.sum(np.exp(-0.5*(d2-m) / (b*b)))\n",
      "/var/folders/dp/4fr32ggj4tb41_86_5pj1l8h0000gn/T/ipykernel_73244/21559629.py:9: RuntimeWarning: invalid value encountered in divide\n",
      "  r = np.exp(-0.5*(d2-m) / (b*b)) / np.sum(np.exp(-0.5*(d2-m) / (b*b)))\n"
     ]
    },
    {
     "name": "stdout",
     "output_type": "stream",
     "text": [
      "Elapsed time for mean-shift: 458.089638710022\n",
      "index 13335 is out of bounds for axis 0 with size 24\n",
      "Elapsed time for mean-shift: 608.4115810394287\n",
      "Elapsed time for mean-shift: 590.9418880939484\n",
      "Elapsed time for mean-shift: 586.2665758132935\n",
      "Elapsed time for mean-shift: 612.0753970146179\n"
     ]
    }
   ],
   "source": [
    "for b in b_list:\n",
    "    scale = 0.5    # downscale the image to run faster\n",
    "    \n",
    "    # Load image and convert it to CIELAB space\n",
    "    image = rescale(io.imread('eth.jpg'), scale, channel_axis=-1)\n",
    "    image_lab = color.rgb2lab(image)\n",
    "    shape = image_lab.shape # record image shape\n",
    "    image_lab = image_lab.reshape([-1, 3])  # flatten the image\n",
    "    \n",
    "    # Run your mean-shift algorithm\n",
    "    t = time.time()\n",
    "    X = meanshift(image_lab,b=b)\n",
    "    t = time.time() - t\n",
    "    text = 'Elapsed time for mean-shift: {}'.format(t)\n",
    "    print(text)\n",
    "\n",
    "    f = open(path + \"/time{}.txt\".format(b), \"w\")\n",
    "    f.write(text)\n",
    "    f.close()\n",
    "\n",
    "    # Load label colors and draw labels as an image\n",
    "    colors = np.load('colors.npz')['colors']\n",
    "    colors[colors > 1.0] = 1\n",
    "    colors[colors < 0.0] = 0\n",
    "    \n",
    "    centroids, labels = np.unique((X / 4).round(), return_inverse=True, axis=0)\n",
    "    \n",
    "    try:\n",
    "        result_image = colors[labels].reshape(shape)\n",
    "        result_image = rescale(result_image, 1 / scale, order=0, channel_axis=-1)     # resize result image to original resolution\n",
    "        result_image = (result_image * 255).astype(np.uint8)\n",
    "        io.imsave(path + '/result{}.png'.format(b), result_image)\n",
    "    except Exception as e: \n",
    "        print(e)\n",
    "        f = open(path + \"/error{}.txt\".format(b), \"w\")\n",
    "        f.write(str(e))\n",
    "        f.close()"
   ]
  },
  {
   "cell_type": "code",
   "execution_count": null,
   "id": "e3bc0456-db1d-4a3a-85ec-c11e8f1f7b6c",
   "metadata": {},
   "outputs": [],
   "source": []
  },
  {
   "cell_type": "code",
   "execution_count": 46,
   "id": "2a650a63-55b4-42e1-bb05-d6fb4d602120",
   "metadata": {},
   "outputs": [
    {
     "name": "stdout",
     "output_type": "stream",
     "text": [
      "playing sound using native player\n"
     ]
    },
    {
     "data": {
      "text/plain": [
       "2"
      ]
     },
     "execution_count": 46,
     "metadata": {},
     "output_type": "execute_result"
    }
   ],
   "source": [
    "import os\n",
    "\n",
    "file = '/Users/alpayozkan/Music/Music/hungdance.mp3'\n",
    "\n",
    "# play sound\n",
    "# file = \"note.wav\"\n",
    "print('playing sound using native player')\n",
    "os.system(\"afplay \" + file)"
   ]
  },
  {
   "cell_type": "code",
   "execution_count": null,
   "id": "bde62f63-b2b4-4274-87f5-0d17a1857f92",
   "metadata": {},
   "outputs": [],
   "source": []
  },
  {
   "cell_type": "code",
   "execution_count": null,
   "id": "9c0a6ff2-3744-4b96-bcbd-4f22894868a9",
   "metadata": {},
   "outputs": [],
   "source": []
  },
  {
   "cell_type": "code",
   "execution_count": null,
   "id": "3fb3c9ee-c8b0-473b-b65e-d342ab393905",
   "metadata": {},
   "outputs": [],
   "source": [
    "b = 3\n",
    "\n",
    "scale = 0.5    # downscale the image to run faster\n",
    "\n",
    "# Load image and convert it to CIELAB space\n",
    "image = rescale(io.imread('eth.jpg'), scale, channel_axis=-1)\n",
    "image_lab = color.rgb2lab(image)\n",
    "shape = image_lab.shape # record image shape\n",
    "image_lab = image_lab.reshape([-1, 3])  # flatten the image\n",
    "\n",
    "# Run your mean-shift algorithm\n",
    "t = time.time()\n",
    "X = meanshift(image_lab,b=b)\n",
    "t = time.time() - t\n",
    "text = 'Elapsed time for mean-shift: {}'.format(t)\n",
    "print (text)\n",
    "\n",
    "f = open(\"time{}.txt\".format(b), \"w\")\n",
    "f.write(text)\n",
    "f.close()\n",
    "\n",
    "# Load label colors and draw labels as an image\n",
    "colors = np.load('colors.npz')['colors']\n",
    "colors[colors > 1.0] = 1\n",
    "colors[colors < 0.0] = 0\n",
    "\n",
    "centroids, labels = np.unique((X / 4).round(), return_inverse=True, axis=0)\n",
    "\n",
    "try:\n",
    "    result_image = colors[labels].reshape(shape)\n",
    "    result_image = rescale(result_image, 1 / scale, order=0, channel_axis=-1)     # resize result image to original resolution\n",
    "    result_image = (result_image * 255).astype(np.uint8)\n",
    "    io.imsave('result{}.png'.format(b), result_image)\n",
    "except Exception as e: \n",
    "    print(e)\n",
    "    f = open(\"error{}.txt\".format(b), \"w\")\n",
    "    f.write(str(e))\n",
    "    f.close()"
   ]
  },
  {
   "cell_type": "code",
   "execution_count": null,
   "id": "43e7ddd6-79cd-4309-a2d1-7d32acf3eac5",
   "metadata": {},
   "outputs": [],
   "source": []
  },
  {
   "cell_type": "code",
   "execution_count": 90,
   "id": "462b9d9b-0d21-45db-9100-87ebaa8bd668",
   "metadata": {},
   "outputs": [
    {
     "data": {
      "text/plain": [
       "3"
      ]
     },
     "execution_count": 90,
     "metadata": {},
     "output_type": "execute_result"
    }
   ],
   "source": [
    "3"
   ]
  },
  {
   "cell_type": "code",
   "execution_count": 56,
   "id": "37b94aeb-d4e1-4e78-bdbc-b576b4f0e1f5",
   "metadata": {},
   "outputs": [],
   "source": [
    "\n",
    "\n"
   ]
  },
  {
   "cell_type": "code",
   "execution_count": 72,
   "id": "69d8d038-bab2-4e8c-b691-5b0e9405520c",
   "metadata": {},
   "outputs": [
    {
     "data": {
      "text/plain": [
       "array([677, 677, 677, ..., 182, 132, 132])"
      ]
     },
     "execution_count": 72,
     "metadata": {},
     "output_type": "execute_result"
    }
   ],
   "source": [
    "labels"
   ]
  },
  {
   "cell_type": "code",
   "execution_count": 73,
   "id": "285ddb2d-0d6b-448b-b05a-ee79c48a4b8c",
   "metadata": {},
   "outputs": [
    {
     "data": {
      "text/plain": [
       "(20000,)"
      ]
     },
     "execution_count": 73,
     "metadata": {},
     "output_type": "execute_result"
    }
   ],
   "source": [
    "labels.shape"
   ]
  },
  {
   "cell_type": "code",
   "execution_count": 74,
   "id": "59fc22f3-f928-4428-8c66-841f288f4fa3",
   "metadata": {},
   "outputs": [
    {
     "data": {
      "text/plain": [
       "(802, 3)"
      ]
     },
     "execution_count": 74,
     "metadata": {},
     "output_type": "execute_result"
    }
   ],
   "source": [
    "centroids.shape"
   ]
  },
  {
   "cell_type": "code",
   "execution_count": 75,
   "id": "c82441c6-25f7-425e-8b63-b6df4d513a2f",
   "metadata": {},
   "outputs": [
    {
     "data": {
      "text/plain": [
       "(20000, 3)"
      ]
     },
     "execution_count": 75,
     "metadata": {},
     "output_type": "execute_result"
    }
   ],
   "source": [
    "X.shape"
   ]
  },
  {
   "cell_type": "code",
   "execution_count": null,
   "id": "5159efe2-ccc6-4a66-9d29-b8eecbdcfa3c",
   "metadata": {},
   "outputs": [],
   "source": []
  },
  {
   "cell_type": "code",
   "execution_count": 82,
   "id": "9c69b91e-420a-4c8d-b749-02c7eeb3d096",
   "metadata": {},
   "outputs": [
    {
     "name": "stdout",
     "output_type": "stream",
     "text": [
      "index 677 is out of bounds for axis 0 with size 24\n"
     ]
    }
   ],
   "source": []
  },
  {
   "cell_type": "code",
   "execution_count": 60,
   "id": "9302d4f7-e4d9-44d2-9686-9f4ed5805789",
   "metadata": {},
   "outputs": [
    {
     "data": {
      "text/plain": [
       "(24, 3)"
      ]
     },
     "execution_count": 60,
     "metadata": {},
     "output_type": "execute_result"
    }
   ],
   "source": [
    "colors.shape"
   ]
  },
  {
   "cell_type": "code",
   "execution_count": 61,
   "id": "3a17c388-a2de-4b26-a2ea-15b50b6c013b",
   "metadata": {},
   "outputs": [
    {
     "data": {
      "text/plain": [
       "array([[8.94117647e-01, 1.01960784e-01, 1.09803922e-01],\n",
       "       [2.15686275e-01, 4.94117647e-01, 7.21568627e-01],\n",
       "       [3.01960784e-01, 6.86274510e-01, 2.90196078e-01],\n",
       "       [5.96078431e-01, 3.05882353e-01, 6.39215686e-01],\n",
       "       [1.00000000e+00, 4.98039216e-01, 3.58602037e-16],\n",
       "       [1.00000000e+00, 1.00000000e+00, 2.00000000e-01],\n",
       "       [6.50980392e-01, 3.37254902e-01, 1.56862745e-01],\n",
       "       [9.68627451e-01, 5.05882353e-01, 7.49019608e-01],\n",
       "       [6.00000000e-01, 6.00000000e-01, 6.00000000e-01],\n",
       "       [1.00000000e+00, 9.17647059e-01, 8.47058824e-01],\n",
       "       [4.94117647e-01, 0.00000000e+00, 1.84313725e-01],\n",
       "       [7.92156863e-01, 7.29411765e-01, 3.72549020e-01],\n",
       "       [5.25490196e-01, 4.78431373e-01, 3.58602037e-16],\n",
       "       [9.29411765e-01, 6.50980392e-01, 5.76470588e-01],\n",
       "       [5.05882353e-01, 4.03921569e-01, 4.15686275e-01],\n",
       "       [7.80392157e-01, 3.56862745e-01, 4.43137255e-01],\n",
       "       [6.86274510e-01, 5.37254902e-01, 3.52941176e-01],\n",
       "       [6.27450980e-01, 8.23529412e-02, 0.00000000e+00],\n",
       "       [1.00000000e+00, 4.35294118e-01, 3.80392157e-01],\n",
       "       [7.37254902e-01, 0.00000000e+00, 2.82352941e-01],\n",
       "       [1.00000000e+00, 9.09803922e-01, 5.52941176e-01],\n",
       "       [1.00000000e+00, 7.84313725e-02, 4.15686275e-01],\n",
       "       [7.72549020e-01, 7.52941176e-01, 6.66666667e-01],\n",
       "       [5.68627451e-01, 2.62745098e-01, 2.98039216e-01]])"
      ]
     },
     "execution_count": 61,
     "metadata": {},
     "output_type": "execute_result"
    }
   ],
   "source": [
    "colors"
   ]
  },
  {
   "cell_type": "code",
   "execution_count": 62,
   "id": "d8d17eca-16c9-4e4f-9778-e017ce1e8c61",
   "metadata": {},
   "outputs": [
    {
     "data": {
      "text/plain": [
       "(array([[ 1., -1.,  0.],\n",
       "        [ 1., -1.,  1.],\n",
       "        [ 1.,  0., -1.],\n",
       "        ...,\n",
       "        [24.,  0., -1.],\n",
       "        [24.,  1., -2.],\n",
       "        [24.,  1., -1.]]),\n",
       " array([677, 677, 677, ..., 182, 132, 132]))"
      ]
     },
     "execution_count": 62,
     "metadata": {},
     "output_type": "execute_result"
    }
   ],
   "source": [
    "np.unique((X / 4).round(), return_inverse=True, axis=0)"
   ]
  },
  {
   "cell_type": "code",
   "execution_count": 70,
   "id": "9d4ec9a1-39da-4c65-b58c-ef255f628fed",
   "metadata": {},
   "outputs": [
    {
     "data": {
      "text/plain": [
       "(array([-7., -6., -5., -4., -3., -2., -1., -0.,  1.,  2.,  3.,  4.,  5.,\n",
       "         6.,  7.,  8.,  9., 10., 11., 12., 13., 14., 15., 16., 17., 18.,\n",
       "        19., 20., 21., 22., 23., 24.]),\n",
       " array([26,  7,  0, ..., 13,  7,  6]))"
      ]
     },
     "execution_count": 70,
     "metadata": {},
     "output_type": "execute_result"
    }
   ],
   "source": [
    "np.unique((X / 4).round(), return_inverse=True)"
   ]
  },
  {
   "cell_type": "code",
   "execution_count": 69,
   "id": "5bdb17ba-7da2-4369-a7ff-9bf6757223d2",
   "metadata": {},
   "outputs": [
    {
     "data": {
      "text/plain": [
       "(20000, 3)"
      ]
     },
     "execution_count": 69,
     "metadata": {},
     "output_type": "execute_result"
    }
   ],
   "source": [
    "X.shape"
   ]
  },
  {
   "cell_type": "code",
   "execution_count": 71,
   "id": "6cdb36b0-70df-4c65-a9db-8887531d1bc6",
   "metadata": {},
   "outputs": [
    {
     "data": {
      "text/plain": [
       "(32,)"
      ]
     },
     "execution_count": 71,
     "metadata": {},
     "output_type": "execute_result"
    }
   ],
   "source": [
    "np.unique((X / 4).round(), return_inverse=True)[0].shape"
   ]
  },
  {
   "cell_type": "code",
   "execution_count": null,
   "id": "53d97888-7932-49a6-8492-37e6d5af3cb8",
   "metadata": {},
   "outputs": [],
   "source": []
  }
 ],
 "metadata": {
  "kernelspec": {
   "display_name": "Python 3 (ipykernel)",
   "language": "python",
   "name": "python3"
  },
  "language_info": {
   "codemirror_mode": {
    "name": "ipython",
    "version": 3
   },
   "file_extension": ".py",
   "mimetype": "text/x-python",
   "name": "python",
   "nbconvert_exporter": "python",
   "pygments_lexer": "ipython3",
   "version": "3.10.13"
  }
 },
 "nbformat": 4,
 "nbformat_minor": 5
}
