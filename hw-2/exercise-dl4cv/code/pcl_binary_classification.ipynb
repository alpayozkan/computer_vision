{
 "cells": [
  {
   "cell_type": "markdown",
   "metadata": {},
   "source": [
    "# Point Cloud Binary Classification with PyTorch"
   ]
  },
  {
   "cell_type": "markdown",
   "metadata": {},
   "source": [
    "Make sure you are using the `dl4cv` conda environment."
   ]
  },
  {
   "cell_type": "markdown",
   "metadata": {},
   "source": [
    "## Dataset loading and visualization"
   ]
  },
  {
   "cell_type": "markdown",
   "metadata": {},
   "source": [
    "The input X contain 100 2D points, and y are their corresponding labels (0 or 1). The goal is to train a model that can classify every point to its correct label.\n"
   ]
  },
  {
   "cell_type": "code",
   "execution_count": 53,
   "metadata": {},
   "outputs": [
    {
     "data": {
      "image/png": "[encoded data removed]",
      "text/plain": [
       "<Figure size 640x480 with 1 Axes>"
      ]
     },
     "metadata": {},
     "output_type": "display_data"
    },
    {
     "data": {
      "text/plain": [
       "<Figure size 640x480 with 0 Axes>"
      ]
     },
     "metadata": {},
     "output_type": "display_data"
    }
   ],
   "source": [
    "%matplotlib inline\n",
    "import matplotlib.pyplot as plt\n",
    "import numpy as np\n",
    "import torch\n",
    "import torch.nn as nn\n",
    "import torch.nn.functional as F\n",
    "import torch.optim as optim\n",
    "from torch.utils.data import Dataset\n",
    "from torch.utils.data import DataLoader\n",
    "from torch.optim import Adam\n",
    "\n",
    "dataset = np.load('data/2d_pcl_dataset.npz')\n",
    "X, y = dataset['X'], dataset['y']\n",
    "\n",
    "X0 = X[y==0] # 50 2D points have label 0\n",
    "X1 = X[y==1] # 50 2D points have label 1\n",
    "\n",
    "def plot(X0, X1, fit_param=None):\n",
    "    plt.scatter(X0[:,0], X0[:,1], color='red', label=0)\n",
    "    plt.scatter(X1[:,0], X1[:,1], color='blue', label=1)\n",
    "    \n",
    "    plt.xlim([-0.55, 0.55])\n",
    "    plt.ylim([-0.35, 0.25])\n",
    "    plt.legend()\n",
    "    plt.show()\n",
    "    plt.clf()\n",
    "\n",
    "plot(X0, X1)"
   ]
  },
  {
   "cell_type": "code",
   "execution_count": 54,
   "metadata": {},
   "outputs": [
    {
     "data": {
      "text/plain": [
       "(100, 2)"
      ]
     },
     "execution_count": 54,
     "metadata": {},
     "output_type": "execute_result"
    }
   ],
   "source": [
    "X.shape"
   ]
  },
  {
   "cell_type": "code",
   "execution_count": 55,
   "metadata": {},
   "outputs": [
    {
     "data": {
      "text/plain": [
       "(100,)"
      ]
     },
     "execution_count": 55,
     "metadata": {},
     "output_type": "execute_result"
    }
   ],
   "source": [
    "y.shape"
   ]
  },
  {
   "cell_type": "code",
   "execution_count": 56,
   "metadata": {},
   "outputs": [
    {
     "data": {
      "text/plain": [
       "array([-0.06621495, -0.18064195])"
      ]
     },
     "execution_count": 56,
     "metadata": {},
     "output_type": "execute_result"
    }
   ],
   "source": [
    "X[3]"
   ]
  },
  {
   "cell_type": "code",
   "execution_count": 57,
   "metadata": {},
   "outputs": [
    {
     "data": {
      "text/plain": [
       "1"
      ]
     },
     "execution_count": 57,
     "metadata": {},
     "output_type": "execute_result"
    }
   ],
   "source": [
    "y[3]"
   ]
  },
  {
   "cell_type": "code",
   "execution_count": null,
   "metadata": {},
   "outputs": [],
   "source": []
  },
  {
   "cell_type": "markdown",
   "metadata": {},
   "source": [
    "## Logistic Regression for the point cloud classification task\n"
   ]
  },
  {
   "cell_type": "markdown",
   "metadata": {},
   "source": [
    "Starting by filling in the `Simple2DDataset` class below. First, in the class constructore `__init__`, you will need to read the right `2d_pcl_dataset.npz` from disk.\n",
    "\n",
    "Second, in the `__getitem__`, you will need to take a single data point and its label based on its index `idx`"
   ]
  },
  {
   "cell_type": "code",
   "execution_count": 58,
   "metadata": {},
   "outputs": [],
   "source": [
    "class Simple2DDataset(Dataset):\n",
    "    def __init__(self):\n",
    "        super().__init__()\n",
    "        #########################################################################\n",
    "        # TODO: read data from disk using np.load.\n",
    "        # Data is located in the folder \"data\".\n",
    "        # Save samples and labels to class members self.X and self.y respectively.\n",
    "        # samples should be an Nx2 numpy array. Labels should be Nx1.\n",
    "        #########################################################################\n",
    "        self.X = 0\n",
    "        self.y = 0\n",
    "\n",
    "        self.dataset = np.load('data/2d_pcl_dataset.npz')\n",
    "        self.X, self.y = dataset['X'], dataset['y']\n",
    "     \n",
    "    def __len__(self):\n",
    "        # Returns the number of samples in the dataset.\n",
    "        return self.X.shape[0]\n",
    "    \n",
    "    def __getitem__(self, idx):\n",
    "        #########################################################################\n",
    "        # TODO: return the sample and label with index idx\n",
    "        #########################################################################\n",
    "        point = self.X[idx]\n",
    "        label = self.y[idx]\n",
    "        \n",
    "        # Convert to tensor.\n",
    "        return torch.from_numpy(point).float(), \\\n",
    "               torch.from_numpy(label[np.newaxis]).float()\n"
   ]
  },
  {
   "cell_type": "code",
   "execution_count": null,
   "metadata": {},
   "outputs": [],
   "source": []
  },
  {
   "cell_type": "markdown",
   "metadata": {},
   "source": [
    "With the complete `Simple2DDataset`, we can create a PyTorch dataloader\n",
    "\n",
    "**NOTE**: if you encounter some unexpected errors in data loading, try setting `NUM_WORKERS = 0`"
   ]
  },
  {
   "cell_type": "code",
   "execution_count": 69,
   "metadata": {},
   "outputs": [],
   "source": [
    "BATCH_SIZE = 8\n",
    "NUM_WORKERS = 4\n",
    "\n",
    "# create the dataloader\n",
    "train_dataset = Simple2DDataset()\n",
    "train_dataloader = DataLoader(\n",
    "    train_dataset,\n",
    "    batch_size=BATCH_SIZE,\n",
    "    num_workers=0,\n",
    "    shuffle=True\n",
    ")"
   ]
  },
  {
   "cell_type": "code",
   "execution_count": 70,
   "metadata": {
    "scrolled": true
   },
   "outputs": [
    {
     "data": {
      "text/plain": [
       "['dataset',\n",
       " 'num_workers',\n",
       " 'prefetch_factor',\n",
       " 'pin_memory',\n",
       " 'pin_memory_device',\n",
       " 'timeout',\n",
       " 'worker_init_fn',\n",
       " '_DataLoader__multiprocessing_context',\n",
       " '_dataset_kind',\n",
       " 'batch_size',\n",
       " 'drop_last',\n",
       " 'sampler',\n",
       " 'batch_sampler',\n",
       " 'generator',\n",
       " 'collate_fn',\n",
       " 'persistent_workers',\n",
       " '_DataLoader__initialized',\n",
       " '_IterableDataset_len_called',\n",
       " '_iterator',\n",
       " '__module__',\n",
       " '__annotations__',\n",
       " '__doc__',\n",
       " '__init__',\n",
       " '_get_iterator',\n",
       " 'multiprocessing_context',\n",
       " '__setattr__',\n",
       " '__iter__',\n",
       " '_auto_collation',\n",
       " '_index_sampler',\n",
       " '__len__',\n",
       " 'check_worker_number_rationality',\n",
       " '__orig_bases__',\n",
       " '__dict__',\n",
       " '__weakref__',\n",
       " '__parameters__',\n",
       " '__slots__',\n",
       " '_is_protocol',\n",
       " '__class_getitem__',\n",
       " '__init_subclass__',\n",
       " '__repr__',\n",
       " '__hash__',\n",
       " '__str__',\n",
       " '__getattribute__',\n",
       " '__delattr__',\n",
       " '__lt__',\n",
       " '__le__',\n",
       " '__eq__',\n",
       " '__ne__',\n",
       " '__gt__',\n",
       " '__ge__',\n",
       " '__new__',\n",
       " '__reduce_ex__',\n",
       " '__reduce__',\n",
       " '__subclasshook__',\n",
       " '__format__',\n",
       " '__sizeof__',\n",
       " '__dir__',\n",
       " '__class__']"
      ]
     },
     "execution_count": 70,
     "metadata": {},
     "output_type": "execute_result"
    }
   ],
   "source": [
    "train_dataloader.__dir__()"
   ]
  },
  {
   "cell_type": "code",
   "execution_count": null,
   "metadata": {},
   "outputs": [],
   "source": []
  },
  {
   "cell_type": "markdown",
   "metadata": {},
   "source": [
    "Now, define your first network by filling in the `LinearClassifier` class below.\n",
    "\n",
    "Add a single linear layer `nn.Linear` inside the `nn.Sequential` call. The input is 2D, and the output should be a single value, corresponding to the probability of a given 2D point being part of cluster 0."
   ]
  },
  {
   "cell_type": "code",
   "execution_count": 71,
   "metadata": {},
   "outputs": [],
   "source": [
    "class LinearClassifier(nn.Module):\n",
    "    def __init__(self):\n",
    "        super().__init__()\n",
    "\n",
    "        self.codename = 'linear'\n",
    "\n",
    "        #########################################################################\n",
    "        # TODO: add a single linear layer with nn.Linear, inside the `nn.Sequential` call.\n",
    "        # Input is 2D.\n",
    "        # Output is a single value.\n",
    "        #########################################################################\n",
    "        self.model = nn.Sequential(\n",
    "                     nn.Linear(2,1)   \n",
    "        )\n",
    "        \n",
    "    def forward(self, batch):\n",
    "        # Process batch using the defined model.\n",
    "        x = self.model(batch)\n",
    "        # Final sigmoid activation to obtain a probability between 0 and 1.\n",
    "        return torch.sigmoid(x)"
   ]
  },
  {
   "cell_type": "code",
   "execution_count": null,
   "metadata": {},
   "outputs": [],
   "source": []
  },
  {
   "cell_type": "code",
   "execution_count": 78,
   "metadata": {},
   "outputs": [],
   "source": [
    "model = LinearClassifier()"
   ]
  },
  {
   "cell_type": "code",
   "execution_count": 79,
   "metadata": {
    "scrolled": true
   },
   "outputs": [
    {
     "data": {
      "text/plain": [
       "['X',\n",
       " 'y',\n",
       " 'dataset',\n",
       " '__module__',\n",
       " '__init__',\n",
       " '__len__',\n",
       " '__getitem__',\n",
       " '__doc__',\n",
       " '__parameters__',\n",
       " '__add__',\n",
       " '__orig_bases__',\n",
       " '__dict__',\n",
       " '__weakref__',\n",
       " '__slots__',\n",
       " '_is_protocol',\n",
       " '__class_getitem__',\n",
       " '__init_subclass__',\n",
       " '__repr__',\n",
       " '__hash__',\n",
       " '__str__',\n",
       " '__getattribute__',\n",
       " '__setattr__',\n",
       " '__delattr__',\n",
       " '__lt__',\n",
       " '__le__',\n",
       " '__eq__',\n",
       " '__ne__',\n",
       " '__gt__',\n",
       " '__ge__',\n",
       " '__new__',\n",
       " '__reduce_ex__',\n",
       " '__reduce__',\n",
       " '__subclasshook__',\n",
       " '__format__',\n",
       " '__sizeof__',\n",
       " '__dir__',\n",
       " '__class__']"
      ]
     },
     "execution_count": 79,
     "metadata": {},
     "output_type": "execute_result"
    }
   ],
   "source": [
    "train_dataloader.dataset.__dir__()"
   ]
  },
  {
   "cell_type": "code",
   "execution_count": null,
   "metadata": {},
   "outputs": [],
   "source": []
  },
  {
   "cell_type": "code",
   "execution_count": 80,
   "metadata": {},
   "outputs": [],
   "source": [
    "for batch_idx, (point, label) in enumerate(train_dataloader):\n",
    "    break"
   ]
  },
  {
   "cell_type": "code",
   "execution_count": 81,
   "metadata": {},
   "outputs": [
    {
     "data": {
      "text/plain": [
       "tensor([[ 0.0678,  0.1090],\n",
       "        [ 0.3288, -0.2184],\n",
       "        [ 0.1783, -0.0407],\n",
       "        [-0.0730,  0.1191],\n",
       "        [ 0.0685,  0.0101],\n",
       "        [-0.0482,  0.1640],\n",
       "        [-0.4383, -0.0674],\n",
       "        [ 0.4213, -0.0625]])"
      ]
     },
     "execution_count": 81,
     "metadata": {},
     "output_type": "execute_result"
    }
   ],
   "source": [
    "point"
   ]
  },
  {
   "cell_type": "code",
   "execution_count": 82,
   "metadata": {},
   "outputs": [
    {
     "data": {
      "text/plain": [
       "tensor([[0.],\n",
       "        [1.],\n",
       "        [0.],\n",
       "        [0.],\n",
       "        [0.],\n",
       "        [0.],\n",
       "        [0.],\n",
       "        [1.]])"
      ]
     },
     "execution_count": 82,
     "metadata": {},
     "output_type": "execute_result"
    }
   ],
   "source": [
    "label"
   ]
  },
  {
   "cell_type": "code",
   "execution_count": 85,
   "metadata": {},
   "outputs": [],
   "source": [
    "pred = model(point)"
   ]
  },
  {
   "cell_type": "code",
   "execution_count": 89,
   "metadata": {},
   "outputs": [
    {
     "data": {
      "text/plain": [
       "tensor(0.6932, grad_fn=<BinaryCrossEntropyBackward0>)"
      ]
     },
     "execution_count": 89,
     "metadata": {},
     "output_type": "execute_result"
    }
   ],
   "source": [
    "F.binary_cross_entropy(pred, label)"
   ]
  },
  {
   "cell_type": "code",
   "execution_count": null,
   "metadata": {},
   "outputs": [],
   "source": []
  },
  {
   "cell_type": "markdown",
   "metadata": {},
   "source": [
    "Now, you are asked to implement the training loop below"
   ]
  },
  {
   "cell_type": "code",
   "execution_count": 90,
   "metadata": {},
   "outputs": [],
   "source": [
    "def train(net, optimizer, dataloader, epoch):\n",
    "    net.train()\n",
    "    loss_sum = 0\n",
    "    for batch_idx, (point, label) in enumerate(dataloader):\n",
    "        # First we need to zero the gradient, otherwise PyTorch would accumulate them\n",
    "        optimizer.zero_grad()\n",
    "\n",
    "        #########################################################################\n",
    "        #TODO: \n",
    "        # 1. forward pass of the network to obtain the predictions given the batch\n",
    "        # 2. compute the loss using F.binary_cross_entropy\n",
    "        # 3. backward pass on the loss using loss.backward(), and one step \n",
    "        # of gradient descent (optimization) using optimizer.step()\n",
    "        #########################################################################\n",
    "        optimizer.zero_grad()\n",
    "        \n",
    "        loss = torch.zeros((1,))[0]\n",
    "\n",
    "        pred = net(point)\n",
    "        loss = F.binary_cross_entropy(pred, label)\n",
    "        loss.backward()\n",
    "        optimizer.step()\n",
    "        \n",
    "        loss_sum += loss.item()\n",
    "    return loss_sum\n",
    "        "
   ]
  },
  {
   "cell_type": "code",
   "execution_count": null,
   "metadata": {},
   "outputs": [],
   "source": []
  },
  {
   "cell_type": "markdown",
   "metadata": {},
   "source": [
    "You can now run below to train the linear model."
   ]
  },
  {
   "cell_type": "code",
   "execution_count": 91,
   "metadata": {
    "scrolled": true,
    "tags": []
   },
   "outputs": [
    {
     "name": "stdout",
     "output_type": "stream",
     "text": [
      "[Epoch 01] Loss: 8.5165\n",
      "[Epoch 02] Loss: 6.8300\n",
      "[Epoch 03] Loss: 5.9865\n",
      "[Epoch 04] Loss: 5.3017\n",
      "[Epoch 05] Loss: 5.0113\n",
      "[Epoch 06] Loss: 4.6336\n",
      "[Epoch 07] Loss: 4.4509\n",
      "[Epoch 08] Loss: 4.4649\n",
      "[Epoch 09] Loss: 4.1454\n",
      "[Epoch 10] Loss: 4.0072\n",
      "[Epoch 11] Loss: 3.9765\n",
      "[Epoch 12] Loss: 4.2860\n",
      "[Epoch 13] Loss: 3.7795\n",
      "[Epoch 14] Loss: 3.9503\n",
      "[Epoch 15] Loss: 3.7063\n",
      "[Epoch 16] Loss: 3.7276\n",
      "[Epoch 17] Loss: 3.6701\n",
      "[Epoch 18] Loss: 3.6259\n",
      "[Epoch 19] Loss: 3.7057\n",
      "[Epoch 20] Loss: 3.6647\n",
      "[Epoch 21] Loss: 3.7782\n",
      "[Epoch 22] Loss: 3.6905\n",
      "[Epoch 23] Loss: 3.6302\n",
      "[Epoch 24] Loss: 3.6543\n",
      "[Epoch 25] Loss: 3.5454\n",
      "[Epoch 26] Loss: 3.7648\n",
      "[Epoch 27] Loss: 3.5896\n",
      "[Epoch 28] Loss: 3.6870\n",
      "[Epoch 29] Loss: 3.7469\n",
      "[Epoch 30] Loss: 3.5149\n",
      "[Epoch 31] Loss: 3.5159\n",
      "[Epoch 32] Loss: 3.5928\n",
      "[Epoch 33] Loss: 3.6080\n",
      "[Epoch 34] Loss: 3.7178\n",
      "[Epoch 35] Loss: 3.5007\n",
      "[Epoch 36] Loss: 3.7061\n",
      "[Epoch 37] Loss: 3.5260\n",
      "[Epoch 38] Loss: 3.4857\n",
      "[Epoch 39] Loss: 3.5443\n",
      "[Epoch 40] Loss: 3.4747\n",
      "[Epoch 41] Loss: 3.9270\n",
      "[Epoch 42] Loss: 3.4445\n",
      "[Epoch 43] Loss: 3.7190\n",
      "[Epoch 44] Loss: 3.5077\n",
      "[Epoch 45] Loss: 3.7675\n",
      "[Epoch 46] Loss: 3.6853\n",
      "[Epoch 47] Loss: 3.8230\n",
      "[Epoch 48] Loss: 3.4233\n",
      "[Epoch 49] Loss: 3.5833\n",
      "[Epoch 50] Loss: 3.4849\n",
      "[Epoch 51] Loss: 3.5094\n",
      "[Epoch 52] Loss: 3.8592\n",
      "[Epoch 53] Loss: 3.5804\n",
      "[Epoch 54] Loss: 3.6000\n",
      "[Epoch 55] Loss: 3.6630\n",
      "[Epoch 56] Loss: 3.6891\n",
      "[Epoch 57] Loss: 3.4585\n",
      "[Epoch 58] Loss: 3.4972\n",
      "[Epoch 59] Loss: 3.4745\n",
      "[Epoch 60] Loss: 3.4566\n",
      "[Epoch 61] Loss: 3.6895\n",
      "[Epoch 62] Loss: 3.4413\n",
      "[Epoch 63] Loss: 3.6017\n",
      "[Epoch 64] Loss: 3.6442\n",
      "[Epoch 65] Loss: 3.4278\n",
      "[Epoch 66] Loss: 3.5307\n",
      "[Epoch 67] Loss: 3.4550\n",
      "[Epoch 68] Loss: 3.5699\n",
      "[Epoch 69] Loss: 3.5037\n",
      "[Epoch 70] Loss: 3.5245\n",
      "[Epoch 71] Loss: 3.8003\n",
      "[Epoch 72] Loss: 3.4683\n",
      "[Epoch 73] Loss: 3.4363\n",
      "[Epoch 74] Loss: 3.4712\n",
      "[Epoch 75] Loss: 3.4486\n",
      "[Epoch 76] Loss: 3.4866\n",
      "[Epoch 77] Loss: 3.4780\n",
      "[Epoch 78] Loss: 3.5488\n",
      "[Epoch 79] Loss: 3.4607\n",
      "[Epoch 80] Loss: 3.4509\n",
      "[Epoch 81] Loss: 3.6128\n",
      "[Epoch 82] Loss: 3.5214\n",
      "[Epoch 83] Loss: 3.8616\n",
      "[Epoch 84] Loss: 3.4547\n",
      "[Epoch 85] Loss: 3.7190\n",
      "[Epoch 86] Loss: 3.4933\n",
      "[Epoch 87] Loss: 3.4670\n",
      "[Epoch 88] Loss: 3.4609\n",
      "[Epoch 89] Loss: 3.5113\n",
      "[Epoch 90] Loss: 3.7281\n",
      "[Epoch 91] Loss: 3.7846\n",
      "[Epoch 92] Loss: 3.6407\n",
      "[Epoch 93] Loss: 3.7041\n",
      "[Epoch 94] Loss: 3.8504\n",
      "[Epoch 95] Loss: 3.5246\n",
      "[Epoch 96] Loss: 3.5083\n",
      "[Epoch 97] Loss: 3.4692\n",
      "[Epoch 98] Loss: 3.8869\n",
      "[Epoch 99] Loss: 3.5513\n",
      "[Epoch 100] Loss: 3.5612\n"
     ]
    }
   ],
   "source": [
    "NUM_EPOCHS = 100\n",
    "# create the network.\n",
    "net = LinearClassifier()\n",
    "\n",
    "# create the optimizer.\n",
    "optimizer = Adam(net.parameters(), lr=0.1)\n",
    "\n",
    "best_accuracy = 0\n",
    "for epoch_idx in range(NUM_EPOCHS):\n",
    "    loss = train(net, optimizer, train_dataloader, epoch_idx)\n",
    "    print('[Epoch %02d] Loss: %.4f' % (epoch_idx + 1, loss))"
   ]
  },
  {
   "cell_type": "code",
   "execution_count": null,
   "metadata": {},
   "outputs": [],
   "source": []
  },
  {
   "cell_type": "markdown",
   "metadata": {},
   "source": [
    "Now plot your result below.\n"
   ]
  },
  {
   "cell_type": "code",
   "execution_count": null,
   "metadata": {},
   "outputs": [],
   "source": []
  },
  {
   "cell_type": "code",
   "execution_count": 92,
   "metadata": {},
   "outputs": [
    {
     "data": {
      "image/png": "[encoded data removed]",
      "text/plain": [
       "<Figure size 640x480 with 1 Axes>"
      ]
     },
     "metadata": {},
     "output_type": "display_data"
    },
    {
     "data": {
      "text/plain": [
       "<Figure size 640x480 with 0 Axes>"
      ]
     },
     "metadata": {},
     "output_type": "display_data"
    }
   ],
   "source": [
    "p = np.linspace(-0.5, 0.5, 500)\n",
    "x_plot, y_plot = np.meshgrid(p, p)\n",
    "X_plot = np.stack((x_plot, y_plot), axis=2).reshape(-1, 2)\n",
    "X_plot = torch.from_numpy(X_plot).float()\n",
    "output = net(X_plot)\n",
    "output = output.detach().numpy()\n",
    "output = output.reshape(x_plot.shape[0], x_plot.shape[1])\n",
    "\n",
    "plt.contour(x_plot, y_plot, output, [0.5],\n",
    "                  colors=('k',),\n",
    "                  linewidths=(3,))\n",
    "plot(X0, X1)\n"
   ]
  },
  {
   "cell_type": "markdown",
   "metadata": {},
   "source": [
    "### Implement your first multi-layer perceptron (MLP) for point cloud classification\n",
    "Now you should notice that your logistic regression model cannot classify the point cloud correctly, and this is as expected :)  \n",
    "Therefore, we now ask you to implement an MLP for the same binary classification task."
   ]
  },
  {
   "cell_type": "code",
   "execution_count": null,
   "metadata": {},
   "outputs": [],
   "source": []
  },
  {
   "cell_type": "code",
   "execution_count": null,
   "metadata": {},
   "outputs": [],
   "source": []
  },
  {
   "cell_type": "code",
   "execution_count": 95,
   "metadata": {},
   "outputs": [],
   "source": [
    "# These are the parameters to be used\n",
    "nInput = 2\n",
    "nOutput = 1\n",
    "nHidden = 16\n",
    "act_fn = nn.ReLU()\n",
    "\n",
    "class MLP(nn.Module):\n",
    "    def __init__(self, nInput, nOutput, nHidden, act_fn):\n",
    "        super().__init__()\n",
    "\n",
    "        # Define the network layers in order.\n",
    "        # Input is 2D (nInput).\n",
    "        # Output is a single value (nOutput).\n",
    "        # Multiple linear layers each followed by a ReLU non-linearity (apart from the last).\n",
    "        #########################################################################\n",
    "        # TODO: add a two-layer MLP, inside the `nn.Sequential` call.\n",
    "        # Input is 2D.\n",
    "        # Output is a single value.\n",
    "\n",
    "        # Hint: unlike logistic regression where you need only one nn.Linear layer, \n",
    "        # here you will have two nn.Linear layers. After the first layer, we \n",
    "        # apply a ReLU activation function. The output is then passed to another \n",
    "        # linear layer. Note that you should use `nHidden` below as the hidden dimension \n",
    "        # of your linear layers.\n",
    "        #########################################################################\n",
    "        self.model = nn.Sequential(\n",
    "                    nn.Linear(nInput, nHidden),\n",
    "                    act_fn,\n",
    "                    nn.Linear(nHidden, nOutput)\n",
    "        )\n",
    "        \n",
    "    def forward(self, batch):\n",
    "        # Process batch using the defined model.\n",
    "        x = self.model(batch)\n",
    "        # Final sigmoid activation to obtain a probability.\n",
    "        return torch.sigmoid(x)\n"
   ]
  },
  {
   "cell_type": "code",
   "execution_count": null,
   "metadata": {},
   "outputs": [],
   "source": []
  },
  {
   "cell_type": "markdown",
   "metadata": {},
   "source": [
    "Run below again!"
   ]
  },
  {
   "cell_type": "code",
   "execution_count": 96,
   "metadata": {},
   "outputs": [
    {
     "name": "stdout",
     "output_type": "stream",
     "text": [
      "[Epoch 01] Loss: 7.0368\n",
      "[Epoch 02] Loss: 4.4010\n",
      "[Epoch 03] Loss: 4.1247\n",
      "[Epoch 04] Loss: 4.0481\n",
      "[Epoch 05] Loss: 3.9053\n",
      "[Epoch 06] Loss: 4.0809\n",
      "[Epoch 07] Loss: 3.8592\n",
      "[Epoch 08] Loss: 3.6539\n",
      "[Epoch 09] Loss: 3.6249\n",
      "[Epoch 10] Loss: 3.8489\n",
      "[Epoch 11] Loss: 3.6150\n",
      "[Epoch 12] Loss: 3.6626\n",
      "[Epoch 13] Loss: 3.5329\n",
      "[Epoch 14] Loss: 3.2998\n",
      "[Epoch 15] Loss: 3.6073\n",
      "[Epoch 16] Loss: 3.1667\n",
      "[Epoch 17] Loss: 3.4093\n",
      "[Epoch 18] Loss: 3.1527\n",
      "[Epoch 19] Loss: 3.2611\n",
      "[Epoch 20] Loss: 3.1724\n",
      "[Epoch 21] Loss: 3.5107\n",
      "[Epoch 22] Loss: 3.0006\n",
      "[Epoch 23] Loss: 3.2417\n",
      "[Epoch 24] Loss: 2.7964\n",
      "[Epoch 25] Loss: 2.9990\n",
      "[Epoch 26] Loss: 2.9039\n",
      "[Epoch 27] Loss: 2.9397\n",
      "[Epoch 28] Loss: 2.8132\n",
      "[Epoch 29] Loss: 2.6225\n",
      "[Epoch 30] Loss: 2.4912\n",
      "[Epoch 31] Loss: 2.4085\n",
      "[Epoch 32] Loss: 1.6294\n",
      "[Epoch 33] Loss: 1.2555\n",
      "[Epoch 34] Loss: 1.0324\n",
      "[Epoch 35] Loss: 1.0059\n",
      "[Epoch 36] Loss: 0.8832\n",
      "[Epoch 37] Loss: 0.6632\n",
      "[Epoch 38] Loss: 0.5962\n",
      "[Epoch 39] Loss: 0.4222\n",
      "[Epoch 40] Loss: 0.3822\n",
      "[Epoch 41] Loss: 0.2970\n",
      "[Epoch 42] Loss: 0.2763\n",
      "[Epoch 43] Loss: 0.2600\n",
      "[Epoch 44] Loss: 0.2410\n",
      "[Epoch 45] Loss: 0.2084\n",
      "[Epoch 46] Loss: 0.1698\n",
      "[Epoch 47] Loss: 0.2034\n",
      "[Epoch 48] Loss: 0.2196\n",
      "[Epoch 49] Loss: 0.1902\n",
      "[Epoch 50] Loss: 0.1320\n",
      "[Epoch 51] Loss: 0.1368\n",
      "[Epoch 52] Loss: 0.1497\n",
      "[Epoch 53] Loss: 0.1165\n",
      "[Epoch 54] Loss: 0.1173\n",
      "[Epoch 55] Loss: 0.1069\n",
      "[Epoch 56] Loss: 0.1399\n",
      "[Epoch 57] Loss: 0.1015\n",
      "[Epoch 58] Loss: 0.0929\n",
      "[Epoch 59] Loss: 0.1104\n",
      "[Epoch 60] Loss: 0.1039\n",
      "[Epoch 61] Loss: 0.0908\n",
      "[Epoch 62] Loss: 0.0702\n",
      "[Epoch 63] Loss: 0.0746\n",
      "[Epoch 64] Loss: 0.0640\n",
      "[Epoch 65] Loss: 0.0642\n",
      "[Epoch 66] Loss: 0.0548\n",
      "[Epoch 67] Loss: 0.0545\n",
      "[Epoch 68] Loss: 0.0545\n",
      "[Epoch 69] Loss: 0.0495\n",
      "[Epoch 70] Loss: 0.0472\n",
      "[Epoch 71] Loss: 0.0491\n",
      "[Epoch 72] Loss: 0.0450\n",
      "[Epoch 73] Loss: 0.0511\n",
      "[Epoch 74] Loss: 0.0441\n",
      "[Epoch 75] Loss: 0.0412\n",
      "[Epoch 76] Loss: 0.0435\n",
      "[Epoch 77] Loss: 0.0469\n",
      "[Epoch 78] Loss: 0.0406\n",
      "[Epoch 79] Loss: 0.0341\n",
      "[Epoch 80] Loss: 0.0384\n",
      "[Epoch 81] Loss: 0.0332\n",
      "[Epoch 82] Loss: 0.0331\n",
      "[Epoch 83] Loss: 0.0329\n",
      "[Epoch 84] Loss: 0.0305\n",
      "[Epoch 85] Loss: 0.0315\n",
      "[Epoch 86] Loss: 0.0276\n",
      "[Epoch 87] Loss: 0.0313\n",
      "[Epoch 88] Loss: 0.0339\n",
      "[Epoch 89] Loss: 0.0259\n",
      "[Epoch 90] Loss: 0.0267\n",
      "[Epoch 91] Loss: 0.0247\n",
      "[Epoch 92] Loss: 0.0270\n",
      "[Epoch 93] Loss: 0.0263\n",
      "[Epoch 94] Loss: 0.0228\n",
      "[Epoch 95] Loss: 0.0241\n",
      "[Epoch 96] Loss: 0.0303\n",
      "[Epoch 97] Loss: 0.0250\n",
      "[Epoch 98] Loss: 0.0233\n",
      "[Epoch 99] Loss: 0.0205\n",
      "[Epoch 100] Loss: 0.0201\n",
      "[Epoch 101] Loss: 0.0223\n",
      "[Epoch 102] Loss: 0.0207\n",
      "[Epoch 103] Loss: 0.0193\n",
      "[Epoch 104] Loss: 0.0194\n",
      "[Epoch 105] Loss: 0.0185\n",
      "[Epoch 106] Loss: 0.0175\n",
      "[Epoch 107] Loss: 0.0173\n",
      "[Epoch 108] Loss: 0.0185\n",
      "[Epoch 109] Loss: 0.0176\n",
      "[Epoch 110] Loss: 0.0179\n",
      "[Epoch 111] Loss: 0.0184\n",
      "[Epoch 112] Loss: 0.0159\n",
      "[Epoch 113] Loss: 0.0151\n",
      "[Epoch 114] Loss: 0.0157\n",
      "[Epoch 115] Loss: 0.0152\n",
      "[Epoch 116] Loss: 0.0155\n",
      "[Epoch 117] Loss: 0.0137\n",
      "[Epoch 118] Loss: 0.0138\n",
      "[Epoch 119] Loss: 0.0135\n",
      "[Epoch 120] Loss: 0.0131\n",
      "[Epoch 121] Loss: 0.0133\n",
      "[Epoch 122] Loss: 0.0132\n",
      "[Epoch 123] Loss: 0.0127\n",
      "[Epoch 124] Loss: 0.0128\n",
      "[Epoch 125] Loss: 0.0128\n",
      "[Epoch 126] Loss: 0.0132\n",
      "[Epoch 127] Loss: 0.0126\n",
      "[Epoch 128] Loss: 0.0121\n",
      "[Epoch 129] Loss: 0.0113\n",
      "[Epoch 130] Loss: 0.0108\n",
      "[Epoch 131] Loss: 0.0115\n",
      "[Epoch 132] Loss: 0.0107\n",
      "[Epoch 133] Loss: 0.0106\n",
      "[Epoch 134] Loss: 0.0111\n",
      "[Epoch 135] Loss: 0.0109\n",
      "[Epoch 136] Loss: 0.0097\n",
      "[Epoch 137] Loss: 0.0107\n",
      "[Epoch 138] Loss: 0.0094\n",
      "[Epoch 139] Loss: 0.0105\n",
      "[Epoch 140] Loss: 0.0094\n",
      "[Epoch 141] Loss: 0.0099\n",
      "[Epoch 142] Loss: 0.0121\n",
      "[Epoch 143] Loss: 0.0095\n",
      "[Epoch 144] Loss: 0.0114\n",
      "[Epoch 145] Loss: 0.0089\n",
      "[Epoch 146] Loss: 0.0093\n",
      "[Epoch 147] Loss: 0.0096\n",
      "[Epoch 148] Loss: 0.0087\n",
      "[Epoch 149] Loss: 0.0078\n",
      "[Epoch 150] Loss: 0.0085\n",
      "[Epoch 151] Loss: 0.0076\n",
      "[Epoch 152] Loss: 0.0086\n",
      "[Epoch 153] Loss: 0.0077\n",
      "[Epoch 154] Loss: 0.0079\n",
      "[Epoch 155] Loss: 0.0078\n",
      "[Epoch 156] Loss: 0.0072\n",
      "[Epoch 157] Loss: 0.0074\n",
      "[Epoch 158] Loss: 0.0073\n",
      "[Epoch 159] Loss: 0.0071\n",
      "[Epoch 160] Loss: 0.0071\n",
      "[Epoch 161] Loss: 0.0090\n",
      "[Epoch 162] Loss: 0.0074\n",
      "[Epoch 163] Loss: 0.0078\n",
      "[Epoch 164] Loss: 0.0065\n",
      "[Epoch 165] Loss: 0.0073\n",
      "[Epoch 166] Loss: 0.0065\n",
      "[Epoch 167] Loss: 0.0063\n",
      "[Epoch 168] Loss: 0.0063\n",
      "[Epoch 169] Loss: 0.0063\n",
      "[Epoch 170] Loss: 0.0059\n",
      "[Epoch 171] Loss: 0.0062\n",
      "[Epoch 172] Loss: 0.0063\n",
      "[Epoch 173] Loss: 0.0057\n",
      "[Epoch 174] Loss: 0.0058\n",
      "[Epoch 175] Loss: 0.0057\n",
      "[Epoch 176] Loss: 0.0057\n",
      "[Epoch 177] Loss: 0.0054\n",
      "[Epoch 178] Loss: 0.0058\n",
      "[Epoch 179] Loss: 0.0052\n",
      "[Epoch 180] Loss: 0.0050\n",
      "[Epoch 181] Loss: 0.0053\n",
      "[Epoch 182] Loss: 0.0051\n",
      "[Epoch 183] Loss: 0.0049\n",
      "[Epoch 184] Loss: 0.0047\n",
      "[Epoch 185] Loss: 0.0059\n",
      "[Epoch 186] Loss: 0.0050\n",
      "[Epoch 187] Loss: 0.0049\n",
      "[Epoch 188] Loss: 0.0044\n",
      "[Epoch 189] Loss: 0.0045\n",
      "[Epoch 190] Loss: 0.0057\n",
      "[Epoch 191] Loss: 0.0055\n",
      "[Epoch 192] Loss: 0.0047\n",
      "[Epoch 193] Loss: 0.0044\n",
      "[Epoch 194] Loss: 0.0044\n",
      "[Epoch 195] Loss: 0.0044\n",
      "[Epoch 196] Loss: 0.0041\n",
      "[Epoch 197] Loss: 0.0043\n",
      "[Epoch 198] Loss: 0.0042\n",
      "[Epoch 199] Loss: 0.0038\n",
      "[Epoch 200] Loss: 0.0045\n"
     ]
    }
   ],
   "source": [
    "NUM_EPOCHS = 200\n",
    "\n",
    "# create the network.\n",
    "net = MLP(nInput, nOutput, nHidden, act_fn)\n",
    "\n",
    "# create the optimizer.\n",
    "optimizer = Adam(net.parameters(), lr=0.1)\n",
    "\n",
    "best_accuracy = 0\n",
    "for epoch_idx in range(NUM_EPOCHS):\n",
    "    loss = train(net, optimizer, train_dataloader, epoch_idx)\n",
    "    print('[Epoch %02d] Loss: %.4f' % (epoch_idx + 1, loss))"
   ]
  },
  {
   "cell_type": "markdown",
   "metadata": {},
   "source": [
    "Again plot your result. You should see that the decision boundary can clearly separate the point clouds.\n"
   ]
  },
  {
   "cell_type": "code",
   "execution_count": 97,
   "metadata": {},
   "outputs": [
    {
     "data": {
      "image/png": "[encoded data removed]",
      "text/plain": [
       "<Figure size 640x480 with 1 Axes>"
      ]
     },
     "metadata": {},
     "output_type": "display_data"
    },
    {
     "data": {
      "text/plain": [
       "<Figure size 640x480 with 0 Axes>"
      ]
     },
     "metadata": {},
     "output_type": "display_data"
    }
   ],
   "source": [
    "p = np.linspace(-0.5, 0.5, 500)\n",
    "x_plot, y_plot = np.meshgrid(p, p)\n",
    "X_plot = np.stack((x_plot, y_plot), axis=2).reshape(-1, 2)\n",
    "X_plot = torch.from_numpy(X_plot).float()\n",
    "output = net(X_plot)\n",
    "output = output.detach().numpy()\n",
    "output = output.reshape(x_plot.shape[0], x_plot.shape[1])\n",
    "\n",
    "plt.contour(x_plot, y_plot, output, [0.5],\n",
    "                  colors=('k',),\n",
    "                  linewidths=(3,))\n",
    "plot(X0, X1)"
   ]
  },
  {
   "cell_type": "markdown",
   "metadata": {},
   "source": [
    "When you are done, move forward to `image_classification.ipynb`."
   ]
  },
  {
   "cell_type": "markdown",
   "metadata": {},
   "source": []
  }
 ],
 "metadata": {
  "kernelspec": {
   "display_name": "Python 3 (ipykernel)",
   "language": "python",
   "name": "python3"
  },
  "language_info": {
   "codemirror_mode": {
    "name": "ipython",
    "version": 3
   },
   "file_extension": ".py",
   "mimetype": "text/x-python",
   "name": "python",
   "nbconvert_exporter": "python",
   "pygments_lexer": "ipython3",
   "version": "3.9.18"
  },
  "vscode": {
   "interpreter": {
    "hash": "d268b61a0efacafa8645774cb6d0204c9f01d7563ef03f7672146d044e8f345c"
   }
  }
 },
 "nbformat": 4,
 "nbformat_minor": 4
}
