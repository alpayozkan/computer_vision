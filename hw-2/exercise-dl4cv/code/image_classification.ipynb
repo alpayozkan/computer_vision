{
 "cells": [
  {
   "cell_type": "markdown",
   "metadata": {},
   "source": [
    "# Image Classification with PyTorch"
   ]
  },
  {
   "cell_type": "markdown",
   "metadata": {},
   "source": [
    "## Data loading\n"
   ]
  },
  {
   "cell_type": "code",
   "execution_count": 1,
   "metadata": {},
   "outputs": [],
   "source": [
    "import numpy as np\n",
    "import matplotlib.pyplot as plt\n",
    "\n",
    "import torch\n",
    "import torch.nn as nn\n",
    "import torch.nn.functional as F\n",
    "import torch.optim as optim\n",
    "from torch.utils.data import DataLoader\n",
    "import torchvision\n",
    "from torchvision import datasets, transforms"
   ]
  },
  {
   "cell_type": "code",
   "execution_count": null,
   "metadata": {},
   "outputs": [],
   "source": []
  },
  {
   "cell_type": "code",
   "execution_count": 2,
   "metadata": {},
   "outputs": [],
   "source": [
    "# torchvision contains convinience functions for popular datasets\n",
    "ds_train = datasets.MNIST('data', train=True, download=True)"
   ]
  },
  {
   "cell_type": "markdown",
   "metadata": {},
   "source": [
    "Each sample is a 28x28 image"
   ]
  },
  {
   "cell_type": "code",
   "execution_count": 3,
   "metadata": {},
   "outputs": [
    {
     "name": "stdout",
     "output_type": "stream",
     "text": [
      "(<PIL.Image.Image image mode=L size=28x28 at 0x1F06BB86160>, 5)\n"
     ]
    },
    {
     "data": {
      "image/jpeg": "[encoded data removed]",
      "image/png": "[encoded data removed]",
      "text/plain": [
       "<PIL.Image.Image image mode=L size=120x120>"
      ]
     },
     "execution_count": 3,
     "metadata": {},
     "output_type": "execute_result"
    }
   ],
   "source": [
    "# if we index this dataset, we get a single data point: a PIL image and an Integer\n",
    "print(ds_train[0])\n",
    "ds_train[0][0].resize((120,120))"
   ]
  },
  {
   "cell_type": "markdown",
   "metadata": {},
   "source": [
    "Let's transform the data to something that our Pytorch models will understand\n",
    "for this purpose, we can supply a transform function to the datase"
   ]
  },
  {
   "cell_type": "code",
   "execution_count": 4,
   "metadata": {},
   "outputs": [],
   "source": [
    "transform = transforms.Compose([\n",
    "    transforms.ToTensor(),\n",
    "])\n",
    "ds_train = datasets.MNIST('data', train=True, download=True, transform=transform)"
   ]
  },
  {
   "cell_type": "markdown",
   "metadata": {},
   "source": [
    "The image is now a `torch.Tensor`"
   ]
  },
  {
   "cell_type": "code",
   "execution_count": 5,
   "metadata": {},
   "outputs": [
    {
     "data": {
      "text/plain": [
       "torch.Tensor"
      ]
     },
     "execution_count": 5,
     "metadata": {},
     "output_type": "execute_result"
    }
   ],
   "source": [
    "type(ds_train[0][0])"
   ]
  },
  {
   "cell_type": "markdown",
   "metadata": {},
   "source": [
    "The normalization is something you learned about in the lecture. Normalizing with $\\mu=0, \\sigma=1$ corresponds to no normalization. Let's compute the proper normalization constants!"
   ]
  },
  {
   "cell_type": "code",
   "execution_count": 6,
   "metadata": {},
   "outputs": [],
   "source": [
    "# lets get only the images \n",
    "ims_train = ds_train.data\n",
    "ims_train = ims_train.float() / 255."
   ]
  },
  {
   "cell_type": "code",
   "execution_count": 7,
   "metadata": {},
   "outputs": [
    {
     "data": {
      "text/plain": [
       "torch.Size([60000, 28, 28])"
      ]
     },
     "execution_count": 7,
     "metadata": {},
     "output_type": "execute_result"
    }
   ],
   "source": [
    "ims_train.shape"
   ]
  },
  {
   "cell_type": "code",
   "execution_count": 8,
   "metadata": {},
   "outputs": [
    {
     "data": {
      "text/plain": [
       "tensor(255, dtype=torch.uint8)"
      ]
     },
     "execution_count": 8,
     "metadata": {},
     "output_type": "execute_result"
    }
   ],
   "source": [
    "ds_train.data.max()"
   ]
  },
  {
   "cell_type": "code",
   "execution_count": 9,
   "metadata": {},
   "outputs": [
    {
     "data": {
      "text/plain": [
       "tensor(1.)"
      ]
     },
     "execution_count": 9,
     "metadata": {},
     "output_type": "execute_result"
    }
   ],
   "source": [
    "ims_train.max()"
   ]
  },
  {
   "cell_type": "code",
   "execution_count": 10,
   "metadata": {},
   "outputs": [
    {
     "data": {
      "text/plain": [
       "torch.Size([28, 28])"
      ]
     },
     "execution_count": 10,
     "metadata": {},
     "output_type": "execute_result"
    }
   ],
   "source": [
    "torch.std_mean(ims_train, dim=0)[0].shape"
   ]
  },
  {
   "cell_type": "code",
   "execution_count": 11,
   "metadata": {},
   "outputs": [
    {
     "data": {
      "text/plain": [
       "tensor(0.3081)"
      ]
     },
     "execution_count": 11,
     "metadata": {},
     "output_type": "execute_result"
    }
   ],
   "source": [
    "ims_train.std()"
   ]
  },
  {
   "cell_type": "code",
   "execution_count": 12,
   "metadata": {},
   "outputs": [
    {
     "data": {
      "text/plain": [
       "tensor(0.1307)"
      ]
     },
     "execution_count": 12,
     "metadata": {},
     "output_type": "execute_result"
    }
   ],
   "source": [
    "ims_train.mean()"
   ]
  },
  {
   "cell_type": "code",
   "execution_count": null,
   "metadata": {},
   "outputs": [],
   "source": []
  },
  {
   "cell_type": "code",
   "execution_count": 13,
   "metadata": {},
   "outputs": [],
   "source": [
    "#########################################################################\n",
    "# TODO: calculate the mean and std of MNIST images\n",
    "# hint: to look for operations on pytorch tensor, refer to the official PyTorch docs \n",
    "# https://pytorch.org/docs/stable/\n",
    "#########################################################################\n",
    "mu = ims_train.mean()\n",
    "std = ims_train.std()"
   ]
  },
  {
   "cell_type": "code",
   "execution_count": null,
   "metadata": {},
   "outputs": [],
   "source": []
  },
  {
   "cell_type": "markdown",
   "metadata": {},
   "source": [
    "We normalize the data as below."
   ]
  },
  {
   "cell_type": "code",
   "execution_count": 14,
   "metadata": {},
   "outputs": [],
   "source": [
    "transform = transforms.Compose([\n",
    "    transforms.ToTensor(),\n",
    "    transforms.Normalize(mu, std)\n",
    "])\n",
    "ds_train = datasets.MNIST('data', train=True, download=True, transform=transform)\n",
    "ds_test = datasets.MNIST('data', train=False, download=True, transform=transform)"
   ]
  },
  {
   "cell_type": "code",
   "execution_count": 15,
   "metadata": {},
   "outputs": [
    {
     "data": {
      "text/plain": [
       "(tensor(-0.4241), tensor(2.8215))"
      ]
     },
     "execution_count": 15,
     "metadata": {},
     "output_type": "execute_result"
    }
   ],
   "source": [
    "ds_train[0][0].min(), ds_train[0][0].max()"
   ]
  },
  {
   "cell_type": "markdown",
   "metadata": {},
   "source": [
    "Next, we want to receive mini-batches, not only single data points.\n",
    "We use PyTorch's DataLoader class. Build a dataloader with a batch size of 64 and 4 workers (number of subprocess that peform the dataloading). Important: you need to shuffle the training data, not the test data.\n",
    "\n",
    "**NOTE**: if you encounter some unexpected errors in data loading, try setting `NUM_WORKERS = 0`"
   ]
  },
  {
   "cell_type": "code",
   "execution_count": 16,
   "metadata": {},
   "outputs": [],
   "source": [
    "BATCH_SIZE = 64\n",
    "NUM_WORKERS = 0\n",
    "#########################################################################\n",
    "# TODO: Build a dataloader for both train and test data.\n",
    "#########################################################################\n",
    "\n",
    "dl_train = DataLoader(\n",
    "    ds_train,\n",
    "    batch_size=BATCH_SIZE,\n",
    "    num_workers=0,\n",
    "    shuffle=True\n",
    ")\n",
    "\n",
    "dl_test = DataLoader(\n",
    "    ds_test,\n",
    "    batch_size=BATCH_SIZE,\n",
    "    num_workers=0,\n",
    "    shuffle=True\n",
    ")"
   ]
  },
  {
   "cell_type": "code",
   "execution_count": 17,
   "metadata": {},
   "outputs": [],
   "source": [
    "for batch_idx, (x, y) in enumerate(dl_train):\n",
    "    break"
   ]
  },
  {
   "cell_type": "code",
   "execution_count": 18,
   "metadata": {},
   "outputs": [
    {
     "data": {
      "text/plain": [
       "torch.Size([64, 1, 28, 28])"
      ]
     },
     "execution_count": 18,
     "metadata": {},
     "output_type": "execute_result"
    }
   ],
   "source": [
    "x.shape"
   ]
  },
  {
   "cell_type": "code",
   "execution_count": null,
   "metadata": {},
   "outputs": [],
   "source": []
  },
  {
   "cell_type": "markdown",
   "metadata": {},
   "source": [
    "## MLP in Pytorch\n",
    "\n",
    "Ok, the dataloading works. Let's build our model, PyTorch makes this very easy. We will build replicate the model from our last exercises. However, now, we add another variable called `nLayer` that indicates how many linear layers that in your network. Please adapt your code from last exercise accordingly to allow different number of layers."
   ]
  },
  {
   "cell_type": "code",
   "execution_count": 26,
   "metadata": {},
   "outputs": [],
   "source": [
    "# These are the parameters to be used\n",
    "nInput = 784\n",
    "nOutput = 10\n",
    "nLayer = 2\n",
    "nHidden = 16\n",
    "act_fn = nn.ReLU()"
   ]
  },
  {
   "cell_type": "code",
   "execution_count": null,
   "metadata": {},
   "outputs": [],
   "source": []
  },
  {
   "cell_type": "code",
   "execution_count": 27,
   "metadata": {},
   "outputs": [],
   "source": [
    "#########################################################################\n",
    "# TODO: Implement the __init__ of the MLP class. \n",
    "# insert the activation after every linear layer. Important: the number of \n",
    "# hidden layers should be variable!\n",
    "#########################################################################\n",
    "\n",
    "class MLP(nn.Module):\n",
    "    def __init__(self, nInput, nOutput, nLayer, nHidden, act_fn):\n",
    "        super(MLP, self).__init__()\n",
    "        layers = []\n",
    "        \n",
    "        ##### implement this part #####\n",
    "        layers = [nn.Linear(nInput, nHidden), act_fn]\n",
    "        \n",
    "        inner_layers = [(nn.Linear(nHidden, nHidden), act_fn) for i in range(nLayer-2)]\n",
    "        inner_layers = [u for l in inner_layers for u in l]\n",
    "        \n",
    "        layers = layers + inner_layers + [nn.Linear(nHidden, nOutput)]  \n",
    "        \n",
    "        ###############################\n",
    "        \n",
    "        self.model = nn.Sequential(*layers)\n",
    "\n",
    "    def forward(self, x):\n",
    "        x = torch.flatten(x, 1)\n",
    "        return self.model(x)"
   ]
  },
  {
   "cell_type": "code",
   "execution_count": null,
   "metadata": {},
   "outputs": [],
   "source": []
  },
  {
   "cell_type": "code",
   "execution_count": null,
   "metadata": {},
   "outputs": [],
   "source": []
  },
  {
   "cell_type": "code",
   "execution_count": null,
   "metadata": {},
   "outputs": [],
   "source": []
  },
  {
   "cell_type": "code",
   "execution_count": 28,
   "metadata": {
    "scrolled": true
   },
   "outputs": [
    {
     "data": {
      "text/plain": [
       "torch.Size([1, 10])"
      ]
     },
     "execution_count": 28,
     "metadata": {},
     "output_type": "execute_result"
    }
   ],
   "source": [
    "# Let's test if the forward pass works\n",
    "# this should print torch.Size([1, 10])\n",
    "t = torch.randn(1,1,28,28)\n",
    "mlp = MLP(nInput, nOutput, nLayer, nHidden, act_fn)\n",
    "mlp(t).shape"
   ]
  },
  {
   "cell_type": "code",
   "execution_count": 29,
   "metadata": {},
   "outputs": [
    {
     "data": {
      "text/plain": [
       "MLP(\n",
       "  (model): Sequential(\n",
       "    (0): Linear(in_features=784, out_features=16, bias=True)\n",
       "    (1): ReLU()\n",
       "    (2): Linear(in_features=16, out_features=10, bias=True)\n",
       "  )\n",
       ")"
      ]
     },
     "execution_count": 29,
     "metadata": {},
     "output_type": "execute_result"
    }
   ],
   "source": [
    "mlp"
   ]
  },
  {
   "cell_type": "markdown",
   "metadata": {},
   "source": [
    "We already implemented the test function for you"
   ]
  },
  {
   "cell_type": "code",
   "execution_count": 29,
   "metadata": {},
   "outputs": [],
   "source": [
    "def test(model, dl_test, device='cpu'):\n",
    "    model.eval()\n",
    "    test_loss = 0\n",
    "    correct = 0\n",
    "    with torch.no_grad():\n",
    "        for data, target in dl_test:\n",
    "            data, target = data.to(device), target.to(device)\n",
    "            output = model(data)\n",
    "            test_loss += F.cross_entropy(output, target, reduction='sum').item()  # sum up batch loss\n",
    "            pred = output.argmax(dim=1, keepdim=True)  # get the index of the max log-probability\n",
    "            correct += pred.eq(target.view_as(pred)).sum().item()\n",
    "\n",
    "    test_loss /= len(dl_test.dataset)\n",
    "\n",
    "    print('\\nTest set: Average loss: {:.4f}, Accuracy: {}/{} ({:.3f}%)\\n'.format(\n",
    "        test_loss, correct, len(dl_test.dataset),\n",
    "        100. * correct / len(dl_test.dataset)))"
   ]
  },
  {
   "cell_type": "code",
   "execution_count": null,
   "metadata": {},
   "outputs": [],
   "source": []
  },
  {
   "cell_type": "code",
   "execution_count": 31,
   "metadata": {},
   "outputs": [
    {
     "data": {
      "text/plain": [
       "<function torch.nn.functional.cross_entropy(input: torch.Tensor, target: torch.Tensor, weight: Optional[torch.Tensor] = None, size_average: Optional[bool] = None, ignore_index: int = -100, reduce: Optional[bool] = None, reduction: str = 'mean', label_smoothing: float = 0.0) -> torch.Tensor>"
      ]
     },
     "execution_count": 31,
     "metadata": {},
     "output_type": "execute_result"
    }
   ],
   "source": [
    "F.cross_entropy"
   ]
  },
  {
   "cell_type": "code",
   "execution_count": null,
   "metadata": {},
   "outputs": [],
   "source": []
  },
  {
   "cell_type": "markdown",
   "metadata": {},
   "source": [
    "Now you only need to implement the training and you are good to go"
   ]
  },
  {
   "cell_type": "code",
   "execution_count": 28,
   "metadata": {},
   "outputs": [],
   "source": [
    "#########################################################################\n",
    "# TODO: Implement the missing part of the training function. As a loss function we want to use cross entropy\n",
    "# It can be called with F.cross_entropy().\n",
    "# Hint: Pass through the model -> Backpropagate gradients -> Take gradient step\n",
    "#########################################################################\n",
    "\n",
    "def train(model, dl_train, optimizer, epoch, log_interval=100, device='cpu'):\n",
    "    model.train()\n",
    "    correct = 0\n",
    "    for batch_idx, (data, target) in enumerate(dl_train):\n",
    "        data, target = data.to(device), target.to(device)\n",
    "        \n",
    "        # first we need to zero the gradient, otherwise PyTorch would accumulate them\n",
    "        optimizer.zero_grad()         \n",
    "        \n",
    "        ##### implement this part #####\n",
    "        output = model(data)\n",
    "        loss = F.cross_entropy(output, target)\n",
    "        loss.backward()\n",
    "\n",
    "        optimizer.step()\n",
    "        \n",
    "        ###############################\n",
    "\n",
    "        # stats\n",
    "        pred = output.argmax(dim=1, keepdim=True)  # get the index of the max log-probability\n",
    "        correct += pred.eq(target.view_as(pred)).sum().item()\n",
    "\n",
    "        if batch_idx % log_interval == 0:\n",
    "            print('Train Epoch: {} [{}/{} ({:.0f}%)]\\tLoss: {:.6f}'.format(\n",
    "                epoch, batch_idx * len(data), len(dl_train.dataset),\n",
    "                100. * batch_idx / len(dl_train), loss.item()))\n",
    "\n",
    "    print('\\nTrain set: Average loss: {:.4f}, Accuracy: {}/{} ({:.1f}%)\\n'.format(\n",
    "        loss, correct, len(dl_train.dataset),\n",
    "        100. * correct / len(dl_train.dataset)))"
   ]
  },
  {
   "cell_type": "code",
   "execution_count": null,
   "metadata": {},
   "outputs": [],
   "source": []
  },
  {
   "cell_type": "markdown",
   "metadata": {},
   "source": [
    "Ok, the setup is almost done. The onoly missing part is the optimizer. We are going to use Adam."
   ]
  },
  {
   "cell_type": "code",
   "execution_count": 33,
   "metadata": {},
   "outputs": [],
   "source": [
    "# reinitialize the mlp, so we can play with parameters right here\n",
    "mlp = MLP(nInput, nOutput, nLayer, nHidden, act_fn)\n",
    "optimizer = optim.Adam(mlp.parameters())"
   ]
  },
  {
   "cell_type": "code",
   "execution_count": 34,
   "metadata": {
    "scrolled": true
   },
   "outputs": [
    {
     "name": "stdout",
     "output_type": "stream",
     "text": [
      "Train Epoch: 1 [0/60000 (0%)]\tLoss: 2.313218\n",
      "Train Epoch: 1 [6400/60000 (11%)]\tLoss: 0.635603\n",
      "Train Epoch: 1 [12800/60000 (21%)]\tLoss: 0.188026\n",
      "Train Epoch: 1 [19200/60000 (32%)]\tLoss: 0.354672\n",
      "Train Epoch: 1 [25600/60000 (43%)]\tLoss: 0.328023\n",
      "Train Epoch: 1 [32000/60000 (53%)]\tLoss: 0.475715\n",
      "Train Epoch: 1 [38400/60000 (64%)]\tLoss: 0.290703\n",
      "Train Epoch: 1 [44800/60000 (75%)]\tLoss: 0.150262\n",
      "Train Epoch: 1 [51200/60000 (85%)]\tLoss: 0.220588\n",
      "Train Epoch: 1 [57600/60000 (96%)]\tLoss: 0.346366\n",
      "\n",
      "Train set: Average loss: 0.1175, Accuracy: 52614/60000 (87.7%)\n",
      "\n",
      "\n",
      "Test set: Average loss: 0.2417, Accuracy: 9284/10000 (92.840%)\n",
      "\n",
      "Train Epoch: 2 [0/60000 (0%)]\tLoss: 0.182905\n",
      "Train Epoch: 2 [6400/60000 (11%)]\tLoss: 0.307937\n",
      "Train Epoch: 2 [12800/60000 (21%)]\tLoss: 0.323790\n",
      "Train Epoch: 2 [19200/60000 (32%)]\tLoss: 0.202354\n",
      "Train Epoch: 2 [25600/60000 (43%)]\tLoss: 0.286104\n",
      "Train Epoch: 2 [32000/60000 (53%)]\tLoss: 0.221182\n",
      "Train Epoch: 2 [38400/60000 (64%)]\tLoss: 0.076240\n",
      "Train Epoch: 2 [44800/60000 (75%)]\tLoss: 0.194690\n",
      "Train Epoch: 2 [51200/60000 (85%)]\tLoss: 0.158940\n",
      "Train Epoch: 2 [57600/60000 (96%)]\tLoss: 0.136487\n",
      "\n",
      "Train set: Average loss: 0.4330, Accuracy: 55933/60000 (93.2%)\n",
      "\n",
      "\n",
      "Test set: Average loss: 0.2117, Accuracy: 9365/10000 (93.650%)\n",
      "\n",
      "Train Epoch: 3 [0/60000 (0%)]\tLoss: 0.172923\n",
      "Train Epoch: 3 [6400/60000 (11%)]\tLoss: 0.043715\n",
      "Train Epoch: 3 [12800/60000 (21%)]\tLoss: 0.097701\n",
      "Train Epoch: 3 [19200/60000 (32%)]\tLoss: 0.172156\n",
      "Train Epoch: 3 [25600/60000 (43%)]\tLoss: 0.437077\n",
      "Train Epoch: 3 [32000/60000 (53%)]\tLoss: 0.120529\n",
      "Train Epoch: 3 [38400/60000 (64%)]\tLoss: 0.248109\n",
      "Train Epoch: 3 [44800/60000 (75%)]\tLoss: 0.150754\n",
      "Train Epoch: 3 [51200/60000 (85%)]\tLoss: 0.212222\n",
      "Train Epoch: 3 [57600/60000 (96%)]\tLoss: 0.144496\n",
      "\n",
      "Train set: Average loss: 0.1034, Accuracy: 56461/60000 (94.1%)\n",
      "\n",
      "\n",
      "Test set: Average loss: 0.2010, Accuracy: 9395/10000 (93.950%)\n",
      "\n",
      "Train Epoch: 4 [0/60000 (0%)]\tLoss: 0.216026\n",
      "Train Epoch: 4 [6400/60000 (11%)]\tLoss: 0.065885\n",
      "Train Epoch: 4 [12800/60000 (21%)]\tLoss: 0.157342\n",
      "Train Epoch: 4 [19200/60000 (32%)]\tLoss: 0.050892\n",
      "Train Epoch: 4 [25600/60000 (43%)]\tLoss: 0.089848\n",
      "Train Epoch: 4 [32000/60000 (53%)]\tLoss: 0.059106\n",
      "Train Epoch: 4 [38400/60000 (64%)]\tLoss: 0.118470\n",
      "Train Epoch: 4 [44800/60000 (75%)]\tLoss: 0.126081\n",
      "Train Epoch: 4 [51200/60000 (85%)]\tLoss: 0.052793\n",
      "Train Epoch: 4 [57600/60000 (96%)]\tLoss: 0.204827\n",
      "\n",
      "Train set: Average loss: 0.0930, Accuracy: 56736/60000 (94.6%)\n",
      "\n",
      "\n",
      "Test set: Average loss: 0.1895, Accuracy: 9430/10000 (94.300%)\n",
      "\n",
      "Train Epoch: 5 [0/60000 (0%)]\tLoss: 0.192781\n",
      "Train Epoch: 5 [6400/60000 (11%)]\tLoss: 0.053246\n",
      "Train Epoch: 5 [12800/60000 (21%)]\tLoss: 0.232023\n",
      "Train Epoch: 5 [19200/60000 (32%)]\tLoss: 0.219194\n",
      "Train Epoch: 5 [25600/60000 (43%)]\tLoss: 0.301938\n",
      "Train Epoch: 5 [32000/60000 (53%)]\tLoss: 0.086223\n",
      "Train Epoch: 5 [38400/60000 (64%)]\tLoss: 0.232468\n",
      "Train Epoch: 5 [44800/60000 (75%)]\tLoss: 0.170228\n",
      "Train Epoch: 5 [51200/60000 (85%)]\tLoss: 0.442724\n",
      "Train Epoch: 5 [57600/60000 (96%)]\tLoss: 0.144652\n",
      "\n",
      "Train set: Average loss: 0.2823, Accuracy: 56918/60000 (94.9%)\n",
      "\n",
      "\n",
      "Test set: Average loss: 0.1961, Accuracy: 9383/10000 (93.830%)\n",
      "\n",
      "Train Epoch: 6 [0/60000 (0%)]\tLoss: 0.169491\n",
      "Train Epoch: 6 [6400/60000 (11%)]\tLoss: 0.182427\n",
      "Train Epoch: 6 [12800/60000 (21%)]\tLoss: 0.286634\n",
      "Train Epoch: 6 [19200/60000 (32%)]\tLoss: 0.098863\n",
      "Train Epoch: 6 [25600/60000 (43%)]\tLoss: 0.225260\n",
      "Train Epoch: 6 [32000/60000 (53%)]\tLoss: 0.294405\n",
      "Train Epoch: 6 [38400/60000 (64%)]\tLoss: 0.153142\n",
      "Train Epoch: 6 [44800/60000 (75%)]\tLoss: 0.142417\n",
      "Train Epoch: 6 [51200/60000 (85%)]\tLoss: 0.369206\n",
      "Train Epoch: 6 [57600/60000 (96%)]\tLoss: 0.268903\n",
      "\n",
      "Train set: Average loss: 0.0996, Accuracy: 57093/60000 (95.2%)\n",
      "\n",
      "\n",
      "Test set: Average loss: 0.1808, Accuracy: 9469/10000 (94.690%)\n",
      "\n",
      "Train Epoch: 7 [0/60000 (0%)]\tLoss: 0.131945\n",
      "Train Epoch: 7 [6400/60000 (11%)]\tLoss: 0.109918\n",
      "Train Epoch: 7 [12800/60000 (21%)]\tLoss: 0.224762\n",
      "Train Epoch: 7 [19200/60000 (32%)]\tLoss: 0.225088\n",
      "Train Epoch: 7 [25600/60000 (43%)]\tLoss: 0.130315\n",
      "Train Epoch: 7 [32000/60000 (53%)]\tLoss: 0.242994\n",
      "Train Epoch: 7 [38400/60000 (64%)]\tLoss: 0.160073\n",
      "Train Epoch: 7 [44800/60000 (75%)]\tLoss: 0.262122\n",
      "Train Epoch: 7 [51200/60000 (85%)]\tLoss: 0.041006\n",
      "Train Epoch: 7 [57600/60000 (96%)]\tLoss: 0.073269\n",
      "\n",
      "Train set: Average loss: 0.0382, Accuracy: 57204/60000 (95.3%)\n",
      "\n",
      "\n",
      "Test set: Average loss: 0.1753, Accuracy: 9475/10000 (94.750%)\n",
      "\n",
      "Train Epoch: 8 [0/60000 (0%)]\tLoss: 0.039815\n",
      "Train Epoch: 8 [6400/60000 (11%)]\tLoss: 0.206980\n",
      "Train Epoch: 8 [12800/60000 (21%)]\tLoss: 0.208156\n",
      "Train Epoch: 8 [19200/60000 (32%)]\tLoss: 0.120848\n",
      "Train Epoch: 8 [25600/60000 (43%)]\tLoss: 0.136399\n",
      "Train Epoch: 8 [32000/60000 (53%)]\tLoss: 0.155882\n",
      "Train Epoch: 8 [38400/60000 (64%)]\tLoss: 0.179296\n",
      "Train Epoch: 8 [44800/60000 (75%)]\tLoss: 0.082477\n",
      "Train Epoch: 8 [51200/60000 (85%)]\tLoss: 0.113472\n",
      "Train Epoch: 8 [57600/60000 (96%)]\tLoss: 0.255826\n",
      "\n",
      "Train set: Average loss: 0.5421, Accuracy: 57325/60000 (95.5%)\n",
      "\n",
      "\n",
      "Test set: Average loss: 0.1777, Accuracy: 9478/10000 (94.780%)\n",
      "\n",
      "Train Epoch: 9 [0/60000 (0%)]\tLoss: 0.113616\n",
      "Train Epoch: 9 [6400/60000 (11%)]\tLoss: 0.135720\n",
      "Train Epoch: 9 [12800/60000 (21%)]\tLoss: 0.108572\n",
      "Train Epoch: 9 [19200/60000 (32%)]\tLoss: 0.116835\n",
      "Train Epoch: 9 [25600/60000 (43%)]\tLoss: 0.125052\n",
      "Train Epoch: 9 [32000/60000 (53%)]\tLoss: 0.123820\n",
      "Train Epoch: 9 [38400/60000 (64%)]\tLoss: 0.084010\n",
      "Train Epoch: 9 [44800/60000 (75%)]\tLoss: 0.135778\n",
      "Train Epoch: 9 [51200/60000 (85%)]\tLoss: 0.096227\n",
      "Train Epoch: 9 [57600/60000 (96%)]\tLoss: 0.192755\n",
      "\n",
      "Train set: Average loss: 0.1763, Accuracy: 57432/60000 (95.7%)\n",
      "\n",
      "\n",
      "Test set: Average loss: 0.1712, Accuracy: 9496/10000 (94.960%)\n",
      "\n",
      "Train Epoch: 10 [0/60000 (0%)]\tLoss: 0.149753\n",
      "Train Epoch: 10 [6400/60000 (11%)]\tLoss: 0.106687\n",
      "Train Epoch: 10 [12800/60000 (21%)]\tLoss: 0.179231\n",
      "Train Epoch: 10 [19200/60000 (32%)]\tLoss: 0.141601\n",
      "Train Epoch: 10 [25600/60000 (43%)]\tLoss: 0.109567\n",
      "Train Epoch: 10 [32000/60000 (53%)]\tLoss: 0.132110\n",
      "Train Epoch: 10 [38400/60000 (64%)]\tLoss: 0.164748\n",
      "Train Epoch: 10 [44800/60000 (75%)]\tLoss: 0.088002\n",
      "Train Epoch: 10 [51200/60000 (85%)]\tLoss: 0.275999\n",
      "Train Epoch: 10 [57600/60000 (96%)]\tLoss: 0.065736\n",
      "\n",
      "Train set: Average loss: 0.3237, Accuracy: 57493/60000 (95.8%)\n",
      "\n",
      "\n",
      "Test set: Average loss: 0.1796, Accuracy: 9464/10000 (94.640%)\n",
      "\n",
      "Training is finished.\n"
     ]
    }
   ],
   "source": [
    "epochs = 10\n",
    "for epoch in range(1, epochs + 1):\n",
    "    train(mlp, dl_train, optimizer, epoch, log_interval=100)\n",
    "    test(mlp, dl_test)\n",
    "\n",
    "print ('Training is finished.')"
   ]
  },
  {
   "cell_type": "markdown",
   "metadata": {},
   "source": [
    "After training, you should see test accuracies of > **94%** - By they way, here we report test accuracy, the last exercises reported test error. Accuracy is simply (1 - error). Both metrics are commonly reported, there is no clear preference in literature for one or the other."
   ]
  },
  {
   "cell_type": "markdown",
   "metadata": {},
   "source": [
    "Now, can you do some parameter tuning to boost the test accuracy to > **97%**?"
   ]
  },
  {
   "cell_type": "code",
   "execution_count": 38,
   "metadata": {},
   "outputs": [
    {
     "name": "stdout",
     "output_type": "stream",
     "text": [
      "Train Epoch: 1 [0/60000 (0%)]\tLoss: 2.304636\n",
      "Train Epoch: 1 [6400/60000 (11%)]\tLoss: 0.612507\n",
      "Train Epoch: 1 [12800/60000 (21%)]\tLoss: 0.514342\n",
      "Train Epoch: 1 [19200/60000 (32%)]\tLoss: 0.277917\n",
      "Train Epoch: 1 [25600/60000 (43%)]\tLoss: 0.350839\n",
      "Train Epoch: 1 [32000/60000 (53%)]\tLoss: 0.223597\n",
      "Train Epoch: 1 [38400/60000 (64%)]\tLoss: 0.343782\n",
      "Train Epoch: 1 [44800/60000 (75%)]\tLoss: 0.292630\n",
      "Train Epoch: 1 [51200/60000 (85%)]\tLoss: 0.234000\n",
      "Train Epoch: 1 [57600/60000 (96%)]\tLoss: 0.251117\n",
      "\n",
      "Train set: Average loss: 0.0791, Accuracy: 52663/60000 (87.8%)\n",
      "\n",
      "\n",
      "Test set: Average loss: 0.1935, Accuracy: 9410/10000 (94.100%)\n",
      "\n",
      "Train Epoch: 2 [0/60000 (0%)]\tLoss: 0.198130\n",
      "Train Epoch: 2 [6400/60000 (11%)]\tLoss: 0.078708\n",
      "Train Epoch: 2 [12800/60000 (21%)]\tLoss: 0.165053\n",
      "Train Epoch: 2 [19200/60000 (32%)]\tLoss: 0.144415\n",
      "Train Epoch: 2 [25600/60000 (43%)]\tLoss: 0.124870\n",
      "Train Epoch: 2 [32000/60000 (53%)]\tLoss: 0.192327\n",
      "Train Epoch: 2 [38400/60000 (64%)]\tLoss: 0.040996\n",
      "Train Epoch: 2 [44800/60000 (75%)]\tLoss: 0.126052\n",
      "Train Epoch: 2 [51200/60000 (85%)]\tLoss: 0.172835\n",
      "Train Epoch: 2 [57600/60000 (96%)]\tLoss: 0.114446\n",
      "\n",
      "Train set: Average loss: 0.1789, Accuracy: 57173/60000 (95.3%)\n",
      "\n",
      "\n",
      "Test set: Average loss: 0.1475, Accuracy: 9549/10000 (95.490%)\n",
      "\n",
      "Train Epoch: 3 [0/60000 (0%)]\tLoss: 0.073998\n",
      "Train Epoch: 3 [6400/60000 (11%)]\tLoss: 0.100485\n",
      "Train Epoch: 3 [12800/60000 (21%)]\tLoss: 0.066137\n",
      "Train Epoch: 3 [19200/60000 (32%)]\tLoss: 0.287608\n",
      "Train Epoch: 3 [25600/60000 (43%)]\tLoss: 0.280554\n",
      "Train Epoch: 3 [32000/60000 (53%)]\tLoss: 0.051839\n",
      "Train Epoch: 3 [38400/60000 (64%)]\tLoss: 0.057022\n",
      "Train Epoch: 3 [44800/60000 (75%)]\tLoss: 0.028538\n",
      "Train Epoch: 3 [51200/60000 (85%)]\tLoss: 0.028469\n",
      "Train Epoch: 3 [57600/60000 (96%)]\tLoss: 0.045375\n",
      "\n",
      "Train set: Average loss: 0.1146, Accuracy: 57891/60000 (96.5%)\n",
      "\n",
      "\n",
      "Test set: Average loss: 0.1354, Accuracy: 9588/10000 (95.880%)\n",
      "\n",
      "Train Epoch: 4 [0/60000 (0%)]\tLoss: 0.048887\n",
      "Train Epoch: 4 [6400/60000 (11%)]\tLoss: 0.089106\n",
      "Train Epoch: 4 [12800/60000 (21%)]\tLoss: 0.159623\n",
      "Train Epoch: 4 [19200/60000 (32%)]\tLoss: 0.168348\n",
      "Train Epoch: 4 [25600/60000 (43%)]\tLoss: 0.077440\n",
      "Train Epoch: 4 [32000/60000 (53%)]\tLoss: 0.088867\n",
      "Train Epoch: 4 [38400/60000 (64%)]\tLoss: 0.060748\n",
      "Train Epoch: 4 [44800/60000 (75%)]\tLoss: 0.012624\n",
      "Train Epoch: 4 [51200/60000 (85%)]\tLoss: 0.177293\n",
      "Train Epoch: 4 [57600/60000 (96%)]\tLoss: 0.161860\n",
      "\n",
      "Train set: Average loss: 0.0845, Accuracy: 58299/60000 (97.2%)\n",
      "\n",
      "\n",
      "Test set: Average loss: 0.1044, Accuracy: 9656/10000 (96.560%)\n",
      "\n",
      "Train Epoch: 5 [0/60000 (0%)]\tLoss: 0.040204\n",
      "Train Epoch: 5 [6400/60000 (11%)]\tLoss: 0.006776\n",
      "Train Epoch: 5 [12800/60000 (21%)]\tLoss: 0.086375\n",
      "Train Epoch: 5 [19200/60000 (32%)]\tLoss: 0.123633\n",
      "Train Epoch: 5 [25600/60000 (43%)]\tLoss: 0.042998\n",
      "Train Epoch: 5 [32000/60000 (53%)]\tLoss: 0.054562\n",
      "Train Epoch: 5 [38400/60000 (64%)]\tLoss: 0.056910\n",
      "Train Epoch: 5 [44800/60000 (75%)]\tLoss: 0.020036\n",
      "Train Epoch: 5 [51200/60000 (85%)]\tLoss: 0.063657\n",
      "Train Epoch: 5 [57600/60000 (96%)]\tLoss: 0.162174\n",
      "\n",
      "Train set: Average loss: 0.1559, Accuracy: 58577/60000 (97.6%)\n",
      "\n",
      "\n",
      "Test set: Average loss: 0.1138, Accuracy: 9659/10000 (96.590%)\n",
      "\n",
      "Train Epoch: 6 [0/60000 (0%)]\tLoss: 0.171222\n",
      "Train Epoch: 6 [6400/60000 (11%)]\tLoss: 0.202519\n",
      "Train Epoch: 6 [12800/60000 (21%)]\tLoss: 0.062507\n",
      "Train Epoch: 6 [19200/60000 (32%)]\tLoss: 0.009513\n",
      "Train Epoch: 6 [25600/60000 (43%)]\tLoss: 0.111557\n",
      "Train Epoch: 6 [32000/60000 (53%)]\tLoss: 0.021284\n",
      "Train Epoch: 6 [38400/60000 (64%)]\tLoss: 0.114124\n",
      "Train Epoch: 6 [44800/60000 (75%)]\tLoss: 0.129929\n",
      "Train Epoch: 6 [51200/60000 (85%)]\tLoss: 0.094940\n",
      "Train Epoch: 6 [57600/60000 (96%)]\tLoss: 0.032192\n",
      "\n",
      "Train set: Average loss: 0.0118, Accuracy: 58735/60000 (97.9%)\n",
      "\n",
      "\n",
      "Test set: Average loss: 0.0958, Accuracy: 9719/10000 (97.190%)\n",
      "\n",
      "Train Epoch: 7 [0/60000 (0%)]\tLoss: 0.088833\n",
      "Train Epoch: 7 [6400/60000 (11%)]\tLoss: 0.039989\n",
      "Train Epoch: 7 [12800/60000 (21%)]\tLoss: 0.100267\n",
      "Train Epoch: 7 [19200/60000 (32%)]\tLoss: 0.023493\n",
      "Train Epoch: 7 [25600/60000 (43%)]\tLoss: 0.028468\n",
      "Train Epoch: 7 [32000/60000 (53%)]\tLoss: 0.108964\n",
      "Train Epoch: 7 [38400/60000 (64%)]\tLoss: 0.028914\n",
      "Train Epoch: 7 [44800/60000 (75%)]\tLoss: 0.205637\n",
      "Train Epoch: 7 [51200/60000 (85%)]\tLoss: 0.144811\n",
      "Train Epoch: 7 [57600/60000 (96%)]\tLoss: 0.026727\n",
      "\n",
      "Train set: Average loss: 0.0027, Accuracy: 58884/60000 (98.1%)\n",
      "\n",
      "\n",
      "Test set: Average loss: 0.0997, Accuracy: 9702/10000 (97.020%)\n",
      "\n",
      "Train Epoch: 8 [0/60000 (0%)]\tLoss: 0.049676\n",
      "Train Epoch: 8 [6400/60000 (11%)]\tLoss: 0.013598\n",
      "Train Epoch: 8 [12800/60000 (21%)]\tLoss: 0.004279\n",
      "Train Epoch: 8 [19200/60000 (32%)]\tLoss: 0.011260\n",
      "Train Epoch: 8 [25600/60000 (43%)]\tLoss: 0.111759\n",
      "Train Epoch: 8 [32000/60000 (53%)]\tLoss: 0.087848\n",
      "Train Epoch: 8 [38400/60000 (64%)]\tLoss: 0.031695\n",
      "Train Epoch: 8 [44800/60000 (75%)]\tLoss: 0.018086\n",
      "Train Epoch: 8 [51200/60000 (85%)]\tLoss: 0.027965\n",
      "Train Epoch: 8 [57600/60000 (96%)]\tLoss: 0.009513\n",
      "\n",
      "Train set: Average loss: 0.0006, Accuracy: 58993/60000 (98.3%)\n",
      "\n",
      "\n",
      "Test set: Average loss: 0.0892, Accuracy: 9748/10000 (97.480%)\n",
      "\n",
      "Train Epoch: 9 [0/60000 (0%)]\tLoss: 0.002318\n",
      "Train Epoch: 9 [6400/60000 (11%)]\tLoss: 0.140531\n",
      "Train Epoch: 9 [12800/60000 (21%)]\tLoss: 0.004858\n",
      "Train Epoch: 9 [19200/60000 (32%)]\tLoss: 0.037225\n",
      "Train Epoch: 9 [25600/60000 (43%)]\tLoss: 0.076662\n",
      "Train Epoch: 9 [32000/60000 (53%)]\tLoss: 0.027954\n",
      "Train Epoch: 9 [38400/60000 (64%)]\tLoss: 0.106229\n",
      "Train Epoch: 9 [44800/60000 (75%)]\tLoss: 0.019032\n",
      "Train Epoch: 9 [51200/60000 (85%)]\tLoss: 0.031975\n",
      "Train Epoch: 9 [57600/60000 (96%)]\tLoss: 0.070868\n",
      "\n",
      "Train set: Average loss: 0.0695, Accuracy: 59095/60000 (98.5%)\n",
      "\n",
      "\n",
      "Test set: Average loss: 0.0852, Accuracy: 9766/10000 (97.660%)\n",
      "\n",
      "Train Epoch: 10 [0/60000 (0%)]\tLoss: 0.011666\n",
      "Train Epoch: 10 [6400/60000 (11%)]\tLoss: 0.001966\n",
      "Train Epoch: 10 [12800/60000 (21%)]\tLoss: 0.024541\n",
      "Train Epoch: 10 [19200/60000 (32%)]\tLoss: 0.058667\n",
      "Train Epoch: 10 [25600/60000 (43%)]\tLoss: 0.006911\n",
      "Train Epoch: 10 [32000/60000 (53%)]\tLoss: 0.003501\n",
      "Train Epoch: 10 [38400/60000 (64%)]\tLoss: 0.054364\n",
      "Train Epoch: 10 [44800/60000 (75%)]\tLoss: 0.070443\n",
      "Train Epoch: 10 [51200/60000 (85%)]\tLoss: 0.042470\n",
      "Train Epoch: 10 [57600/60000 (96%)]\tLoss: 0.061315\n",
      "\n",
      "Train set: Average loss: 0.0020, Accuracy: 59142/60000 (98.6%)\n",
      "\n",
      "\n",
      "Test set: Average loss: 0.0938, Accuracy: 9744/10000 (97.440%)\n",
      "\n",
      "Training is finished.\n"
     ]
    }
   ],
   "source": [
    "#########################################################################\n",
    "#TODO: modify the parameters below to see which setting that you can get to 97%\n",
    "#########################################################################\n",
    "nLayer = 6\n",
    "nHidden = 64\n",
    "act_fn = nn.ReLU()\n",
    "\n",
    "# reinitialize the mlp, so we can play with parameters right here\n",
    "mlp = MLP(nInput, nOutput, nLayer, nHidden, act_fn)\n",
    "optimizer = optim.Adam(mlp.parameters())\n",
    "\n",
    "epochs = 10\n",
    "for epoch in range(1, epochs + 1):\n",
    "    train(mlp, dl_train, optimizer, epoch, log_interval=100)\n",
    "    test(mlp, dl_test)\n",
    "\n",
    "print ('Training is finished.')"
   ]
  },
  {
   "cell_type": "markdown",
   "metadata": {},
   "source": [
    "Before you move on to the next exercise, you can further play with the other parameters (learning rate, epochs, a different optimizer, etc.) to get a feeling what can improve or hamper performance. "
   ]
  },
  {
   "cell_type": "markdown",
   "metadata": {},
   "source": [
    "## CNN\n",
    "Alright, we matched our prior performance. Let's surpass it! You will soon see the power of CNN by building a small one yourself. The structure should be as follows\n",
    "\n",
    "| CNN Architecture                             \t|\n",
    "|----------------------------------------------\t|\n",
    "| Conv: $C_{in}=1, C_{out}=32, K=3, S=1, P=0$  \t|\n",
    "| ReLU                                         \t|\n",
    "| Conv: $C_{in}=32, C_{out}=64, K=3, S=1, P=0$ \t|\n",
    "| ReLU                                         \t|\n",
    "| MaxPool2d: $K=2, S=2, P=0$                   \t|\n",
    "| Dropout: $p=0.25$                            \t|\n",
    "| Linear: $C_{in}=9216, C_{out}=128$           \t|\n",
    "| ReLU                                         \t|\n",
    "| Dropout: $p=0.5$                             \t|\n",
    "| Linear: $C_{in}=128, C_{out}=10$             \t|\n",
    "\n",
    "The layers you will need are: \n",
    "\n",
    "`nn.Conv2d,  nn.Linear,  nn.Dropout, nn.MaxPool2d, nn.Flatten`\n",
    "\n",
    "For layers without parameters you can alternatively use function in the forward pass:  \n",
    "\n",
    "`F.max_pool2d, torch.flatten`"
   ]
  },
  {
   "cell_type": "code",
   "execution_count": null,
   "metadata": {},
   "outputs": [],
   "source": []
  },
  {
   "cell_type": "code",
   "execution_count": null,
   "metadata": {},
   "outputs": [],
   "source": []
  },
  {
   "cell_type": "code",
   "execution_count": 33,
   "metadata": {},
   "outputs": [],
   "source": [
    "#########################################################################\n",
    "# TODO: Implement the __init__ and forward method of the CNN class. \n",
    "# Hint: do not forget to flatten the appropriate dimension after the convolutional blocks. \n",
    "# A linear layers expect input of the size (B, H) with batch size B and feature size H\n",
    "#########################################################################\n",
    "\n",
    "class CNN(nn.Module):\n",
    "    def __init__(self):\n",
    "        super(CNN, self).__init__()\n",
    "        \n",
    "        self.model = nn.Sequential(\n",
    "            nn.Conv2d(in_channels=1, out_channels=32, kernel_size=3, stride=1, padding=0),\n",
    "            nn.ReLU(),\n",
    "            nn.Conv2d(in_channels=32, out_channels=64, kernel_size=3, stride=1, padding=0),\n",
    "            nn.ReLU(),\n",
    "            nn.MaxPool2d(kernel_size=2, stride=2, padding=0),\n",
    "            nn.Flatten(),\n",
    "            nn.Dropout(p=0.25),\n",
    "            nn.Linear(9216, 128),\n",
    "            nn.ReLU(),\n",
    "            nn.Dropout(p=0.5),\n",
    "            nn.Linear(128,10)\n",
    "        )\n",
    "        \n",
    "    def forward(self, x):\n",
    "        return self.model(x)"
   ]
  },
  {
   "cell_type": "code",
   "execution_count": null,
   "metadata": {},
   "outputs": [],
   "source": []
  },
  {
   "cell_type": "code",
   "execution_count": null,
   "metadata": {},
   "outputs": [],
   "source": []
  },
  {
   "cell_type": "code",
   "execution_count": 68,
   "metadata": {},
   "outputs": [
    {
     "data": {
      "text/plain": [
       "torch.Size([1, 1, 28, 28])"
      ]
     },
     "execution_count": 68,
     "metadata": {},
     "output_type": "execute_result"
    }
   ],
   "source": [
    "t.shape"
   ]
  },
  {
   "cell_type": "code",
   "execution_count": 69,
   "metadata": {},
   "outputs": [],
   "source": [
    "mm=nn.Sequential(\n",
    "            nn.Conv2d(in_channels=1, out_channels=32, kernel_size=3, stride=1, padding=0),\n",
    "            nn.ReLU(),\n",
    "            nn.Conv2d(in_channels=32, out_channels=64, kernel_size=3, stride=1, padding=0),\n",
    "            nn.ReLU(),\n",
    "            nn.MaxPool2d(kernel_size=2, stride=2, padding=0),\n",
    "            nn.Dropout(p=0.25),\n",
    ")"
   ]
  },
  {
   "cell_type": "code",
   "execution_count": 70,
   "metadata": {},
   "outputs": [
    {
     "name": "stdout",
     "output_type": "stream",
     "text": [
      "torch.Size([1, 64, 12, 12])\n"
     ]
    },
    {
     "data": {
      "text/plain": [
       "torch.Size([1, 9216])"
      ]
     },
     "execution_count": 70,
     "metadata": {},
     "output_type": "execute_result"
    }
   ],
   "source": [
    "print(mm(t).shape)\n",
    "nn.Flatten()(mm(t)).shape"
   ]
  },
  {
   "cell_type": "code",
   "execution_count": 71,
   "metadata": {},
   "outputs": [
    {
     "data": {
      "text/plain": [
       "9216"
      ]
     },
     "execution_count": 71,
     "metadata": {},
     "output_type": "execute_result"
    }
   ],
   "source": [
    "64*12*12"
   ]
  },
  {
   "cell_type": "code",
   "execution_count": null,
   "metadata": {},
   "outputs": [],
   "source": []
  },
  {
   "cell_type": "code",
   "execution_count": 72,
   "metadata": {},
   "outputs": [
    {
     "data": {
      "text/plain": [
       "torch.Size([1, 784])"
      ]
     },
     "execution_count": 72,
     "metadata": {},
     "output_type": "execute_result"
    }
   ],
   "source": [
    "torch.flatten(t, 1).shape"
   ]
  },
  {
   "cell_type": "code",
   "execution_count": 73,
   "metadata": {},
   "outputs": [
    {
     "data": {
      "text/plain": [
       "torch.Size([1, 10])"
      ]
     },
     "execution_count": 73,
     "metadata": {},
     "output_type": "execute_result"
    }
   ],
   "source": [
    "# Let's test if the forward pass works\n",
    "# this should print torch.Size([1, 10])\n",
    "t = torch.randn(1,1,28,28)\n",
    "cnn = CNN()\n",
    "cnn(t).shape"
   ]
  },
  {
   "cell_type": "markdown",
   "metadata": {},
   "source": [
    "Alright, let's train!"
   ]
  },
  {
   "cell_type": "code",
   "execution_count": 74,
   "metadata": {},
   "outputs": [],
   "source": [
    "optimizer = optim.Adam(cnn.parameters())"
   ]
  },
  {
   "cell_type": "code",
   "execution_count": 75,
   "metadata": {
    "scrolled": true
   },
   "outputs": [
    {
     "name": "stdout",
     "output_type": "stream",
     "text": [
      "Train Epoch: 1 [0/60000 (0%)]\tLoss: 2.284217\n",
      "Train Epoch: 1 [6400/60000 (11%)]\tLoss: 0.323156\n",
      "Train Epoch: 1 [12800/60000 (21%)]\tLoss: 0.179993\n",
      "Train Epoch: 1 [19200/60000 (32%)]\tLoss: 0.154415\n",
      "Train Epoch: 1 [25600/60000 (43%)]\tLoss: 0.125578\n",
      "Train Epoch: 1 [32000/60000 (53%)]\tLoss: 0.037725\n",
      "Train Epoch: 1 [38400/60000 (64%)]\tLoss: 0.094062\n",
      "Train Epoch: 1 [44800/60000 (75%)]\tLoss: 0.060072\n",
      "Train Epoch: 1 [51200/60000 (85%)]\tLoss: 0.290394\n",
      "Train Epoch: 1 [57600/60000 (96%)]\tLoss: 0.032491\n",
      "\n",
      "Train set: Average loss: 0.0243, Accuracy: 56552/60000 (94.3%)\n",
      "\n",
      "\n",
      "Test set: Average loss: 0.0543, Accuracy: 9825/10000 (98.250%)\n",
      "\n",
      "Train Epoch: 2 [0/60000 (0%)]\tLoss: 0.058287\n",
      "Train Epoch: 2 [6400/60000 (11%)]\tLoss: 0.060498\n",
      "Train Epoch: 2 [12800/60000 (21%)]\tLoss: 0.065485\n",
      "Train Epoch: 2 [19200/60000 (32%)]\tLoss: 0.072300\n",
      "Train Epoch: 2 [25600/60000 (43%)]\tLoss: 0.009217\n",
      "Train Epoch: 2 [32000/60000 (53%)]\tLoss: 0.089812\n",
      "Train Epoch: 2 [38400/60000 (64%)]\tLoss: 0.088467\n",
      "Train Epoch: 2 [44800/60000 (75%)]\tLoss: 0.102781\n",
      "Train Epoch: 2 [51200/60000 (85%)]\tLoss: 0.040345\n",
      "Train Epoch: 2 [57600/60000 (96%)]\tLoss: 0.061769\n",
      "\n",
      "Train set: Average loss: 0.1050, Accuracy: 58592/60000 (97.7%)\n",
      "\n",
      "\n",
      "Test set: Average loss: 0.0334, Accuracy: 9889/10000 (98.890%)\n",
      "\n",
      "Train Epoch: 3 [0/60000 (0%)]\tLoss: 0.061085\n",
      "Train Epoch: 3 [6400/60000 (11%)]\tLoss: 0.011885\n",
      "Train Epoch: 3 [12800/60000 (21%)]\tLoss: 0.069539\n",
      "Train Epoch: 3 [19200/60000 (32%)]\tLoss: 0.048275\n",
      "Train Epoch: 3 [25600/60000 (43%)]\tLoss: 0.178683\n",
      "Train Epoch: 3 [32000/60000 (53%)]\tLoss: 0.075427\n",
      "Train Epoch: 3 [38400/60000 (64%)]\tLoss: 0.015893\n",
      "Train Epoch: 3 [44800/60000 (75%)]\tLoss: 0.025500\n",
      "Train Epoch: 3 [51200/60000 (85%)]\tLoss: 0.039006\n",
      "Train Epoch: 3 [57600/60000 (96%)]\tLoss: 0.034345\n",
      "\n",
      "Train set: Average loss: 0.0025, Accuracy: 58983/60000 (98.3%)\n",
      "\n",
      "\n",
      "Test set: Average loss: 0.0307, Accuracy: 9900/10000 (99.000%)\n",
      "\n",
      "Train Epoch: 4 [0/60000 (0%)]\tLoss: 0.040029\n",
      "Train Epoch: 4 [6400/60000 (11%)]\tLoss: 0.007796\n",
      "Train Epoch: 4 [12800/60000 (21%)]\tLoss: 0.057501\n",
      "Train Epoch: 4 [19200/60000 (32%)]\tLoss: 0.060766\n",
      "Train Epoch: 4 [25600/60000 (43%)]\tLoss: 0.019658\n",
      "Train Epoch: 4 [32000/60000 (53%)]\tLoss: 0.008202\n",
      "Train Epoch: 4 [38400/60000 (64%)]\tLoss: 0.072722\n",
      "Train Epoch: 4 [44800/60000 (75%)]\tLoss: 0.102160\n",
      "Train Epoch: 4 [51200/60000 (85%)]\tLoss: 0.050083\n",
      "Train Epoch: 4 [57600/60000 (96%)]\tLoss: 0.031297\n",
      "\n",
      "Train set: Average loss: 0.0758, Accuracy: 59089/60000 (98.5%)\n",
      "\n",
      "\n",
      "Test set: Average loss: 0.0275, Accuracy: 9912/10000 (99.120%)\n",
      "\n",
      "Train Epoch: 5 [0/60000 (0%)]\tLoss: 0.015910\n",
      "Train Epoch: 5 [6400/60000 (11%)]\tLoss: 0.012483\n",
      "Train Epoch: 5 [12800/60000 (21%)]\tLoss: 0.085067\n",
      "Train Epoch: 5 [19200/60000 (32%)]\tLoss: 0.042486\n",
      "Train Epoch: 5 [25600/60000 (43%)]\tLoss: 0.036672\n",
      "Train Epoch: 5 [32000/60000 (53%)]\tLoss: 0.021201\n",
      "Train Epoch: 5 [38400/60000 (64%)]\tLoss: 0.038115\n",
      "Train Epoch: 5 [44800/60000 (75%)]\tLoss: 0.128857\n",
      "Train Epoch: 5 [51200/60000 (85%)]\tLoss: 0.013811\n",
      "Train Epoch: 5 [57600/60000 (96%)]\tLoss: 0.190736\n",
      "\n",
      "Train set: Average loss: 0.0075, Accuracy: 59181/60000 (98.6%)\n",
      "\n",
      "\n",
      "Test set: Average loss: 0.0257, Accuracy: 9925/10000 (99.250%)\n",
      "\n"
     ]
    }
   ],
   "source": [
    "epochs = 5\n",
    "for epoch in range(1, epochs + 1):\n",
    "    train(cnn, dl_train, optimizer, epoch, log_interval=100)\n",
    "    test(cnn, dl_test)"
   ]
  },
  {
   "cell_type": "markdown",
   "metadata": {},
   "source": [
    "This will probably take a bit longer to train, as a convolutional network is not very efficient on a CPU. The current settings should get you around **99%** accuracy. Nice! \n",
    "Again, you should try different hyperparameters and see how far you can push the performance."
   ]
  },
  {
   "cell_type": "markdown",
   "metadata": {},
   "source": [
    "### Inline Question\n",
    "\n",
    "If your model weight is randomly initalized, and no training is done as above. What accuracy do you think the model will get for a 10-class classification task in theory?\n",
    "\n",
    "**Your answer**: \n",
    "around 10%, since randomly initialized weights will yield uniformly random for 10-class output signal"
   ]
  },
  {
   "cell_type": "code",
   "execution_count": null,
   "metadata": {},
   "outputs": [],
   "source": []
  },
  {
   "cell_type": "markdown",
   "metadata": {},
   "source": [
    "## Training on CIFAR10\n",
    "\n",
    "Now we are going to move to something more challenging - CIFAR10. We can reuse most of the code above. Thankfully, CIFAR is also a popular dataset, so we can again make use of a PyTorch convience function."
   ]
  },
  {
   "cell_type": "code",
   "execution_count": 34,
   "metadata": {},
   "outputs": [
    {
     "name": "stdout",
     "output_type": "stream",
     "text": [
      "Files already downloaded and verified\n"
     ]
    }
   ],
   "source": [
    "ds_train = datasets.CIFAR10(root='./data', train=True, download=True)"
   ]
  },
  {
   "cell_type": "markdown",
   "metadata": {},
   "source": [
    "This dataset is not normalized yet, so we need to calculate the normalization constants."
   ]
  },
  {
   "cell_type": "code",
   "execution_count": 35,
   "metadata": {},
   "outputs": [],
   "source": [
    "ims_train = torch.tensor(ds_train.data)\n",
    "ims_train = ims_train.float() / 255."
   ]
  },
  {
   "cell_type": "code",
   "execution_count": 36,
   "metadata": {},
   "outputs": [
    {
     "data": {
      "text/plain": [
       "tensor([0.2470, 0.2435, 0.2616])"
      ]
     },
     "execution_count": 36,
     "metadata": {},
     "output_type": "execute_result"
    }
   ],
   "source": [
    "ims_train.std((0,1,2))"
   ]
  },
  {
   "cell_type": "code",
   "execution_count": 37,
   "metadata": {},
   "outputs": [],
   "source": [
    "#########################################################################\n",
    "# TODO: calculate the mean and std of CIFAR\n",
    "# hint: We want the mean and std of the channel dimension, these should\n",
    "# be 3 dimensional\n",
    "#########################################################################\n",
    "mu = torch.mean(ims_train, dim=(0,1,2))\n",
    "std = torch.std(ims_train, dim=(0,1,2))\n"
   ]
  },
  {
   "cell_type": "code",
   "execution_count": 38,
   "metadata": {},
   "outputs": [
    {
     "data": {
      "text/plain": [
       "tensor([0.4914, 0.4822, 0.4465])"
      ]
     },
     "execution_count": 38,
     "metadata": {},
     "output_type": "execute_result"
    }
   ],
   "source": [
    "torch.mean(ims_train, dim=(0,1,2))"
   ]
  },
  {
   "cell_type": "code",
   "execution_count": 39,
   "metadata": {},
   "outputs": [
    {
     "data": {
      "text/plain": [
       "tensor([0.2470, 0.2435, 0.2616])"
      ]
     },
     "execution_count": 39,
     "metadata": {},
     "output_type": "execute_result"
    }
   ],
   "source": [
    "torch.std(ims_train, dim=(0,1,2))"
   ]
  },
  {
   "cell_type": "code",
   "execution_count": 40,
   "metadata": {},
   "outputs": [
    {
     "data": {
      "text/plain": [
       "torch.Size([50000, 32, 32, 3])"
      ]
     },
     "execution_count": 40,
     "metadata": {},
     "output_type": "execute_result"
    }
   ],
   "source": [
    "ims_train.shape"
   ]
  },
  {
   "cell_type": "code",
   "execution_count": null,
   "metadata": {},
   "outputs": [],
   "source": []
  },
  {
   "cell_type": "markdown",
   "metadata": {},
   "source": [
    "For CIFAR we want to make use of data augmentation to improve generalization. You will find all data augmentations data are included in torchvision here:\n",
    "\n",
    "https://pytorch.org/docs/stable/torchvision/transforms.html"
   ]
  },
  {
   "cell_type": "code",
   "execution_count": 41,
   "metadata": {},
   "outputs": [
    {
     "name": "stdout",
     "output_type": "stream",
     "text": [
      "Files already downloaded and verified\n",
      "Files already downloaded and verified\n"
     ]
    }
   ],
   "source": [
    "BATCH_SIZE = 128\n",
    "NUM_WORKERS = 0 # if you encounter some unexpected errors in data loading, try setting `NUM_WORKERS = 0`\n",
    "#########################################################################\n",
    "# TODO: Implement the proper transforms for the training and test dataloaders. \n",
    "# Then build train and test dataloaders with batch size 128 and 4 workers\n",
    "#\n",
    "# Train: \n",
    "# - Apply a random crop with size 32 on a padded version of the image with P=4\n",
    "# - Flip the image horizontally with a probability of 40 %\n",
    "# - Transform to a Tensor\n",
    "# - Normalize with the constants calculated above\n",
    "# Test: \n",
    "# - Transform to a Tensor\n",
    "# - Normalize with the constants calculated above\n",
    "#########################################################################\n",
    "\n",
    "transform_train = transforms.Compose([\n",
    "    transforms.RandomCrop(size=(32, 32), padding=4),\n",
    "    transforms.RandomHorizontalFlip(p=0.4),\n",
    "    transforms.ToTensor(),\n",
    "    transforms.Normalize(mean=mu, std=std),\n",
    "])\n",
    "\n",
    "transform_test = transforms.Compose([\n",
    "    transforms.ToTensor(),\n",
    "    transforms.Normalize(mean=mu, std=std),\n",
    "])\n",
    "\n",
    "ds_train = datasets.CIFAR10('./data', train=True, download=True, transform=transform_train)\n",
    "ds_test = datasets.CIFAR10('./data', train=False, download=True, transform=transform_test)\n",
    "\n",
    "dl_train = DataLoader(\n",
    "    ds_train,\n",
    "    batch_size=BATCH_SIZE,\n",
    "    num_workers=0,\n",
    "    shuffle=True\n",
    ")\n",
    "\n",
    "dl_test = DataLoader(\n",
    "    ds_test,\n",
    "    batch_size=BATCH_SIZE,\n",
    "    num_workers=0,\n",
    "    shuffle=True\n",
    ")"
   ]
  },
  {
   "cell_type": "code",
   "execution_count": null,
   "metadata": {},
   "outputs": [],
   "source": []
  },
  {
   "cell_type": "code",
   "execution_count": null,
   "metadata": {},
   "outputs": [],
   "source": []
  },
  {
   "cell_type": "code",
   "execution_count": null,
   "metadata": {},
   "outputs": [],
   "source": []
  },
  {
   "cell_type": "code",
   "execution_count": null,
   "metadata": {},
   "outputs": [],
   "source": []
  },
  {
   "cell_type": "markdown",
   "metadata": {},
   "source": [
    "Setting up the  optimizer, this time we use SGD. The scheduler adapts the learning rate during traing (you can ignore it)"
   ]
  },
  {
   "cell_type": "code",
   "execution_count": 42,
   "metadata": {},
   "outputs": [],
   "source": [
    "cnn = CNN()\n",
    "optimizer = optim.SGD(cnn.parameters(), lr=0.1, momentum=0.9, weight_decay=5e-4)\n",
    "scheduler = torch.optim.lr_scheduler.CosineAnnealingLR(optimizer, T_max=200)"
   ]
  },
  {
   "cell_type": "code",
   "execution_count": 43,
   "metadata": {
    "scrolled": true
   },
   "outputs": [
    {
     "ename": "RuntimeError",
     "evalue": "Given groups=1, weight of size [32, 1, 3, 3], expected input[128, 3, 32, 32] to have 1 channels, but got 3 channels instead",
     "output_type": "error",
     "traceback": [
      "\u001b[1;31m---------------------------------------------------------------------------\u001b[0m",
      "\u001b[1;31mRuntimeError\u001b[0m                              Traceback (most recent call last)",
      "Cell \u001b[1;32mIn[43], line 3\u001b[0m\n\u001b[0;32m      1\u001b[0m epochs \u001b[38;5;241m=\u001b[39m \u001b[38;5;241m5\u001b[39m\n\u001b[0;32m      2\u001b[0m \u001b[38;5;28;01mfor\u001b[39;00m epoch \u001b[38;5;129;01min\u001b[39;00m \u001b[38;5;28mrange\u001b[39m(\u001b[38;5;241m1\u001b[39m, epochs \u001b[38;5;241m+\u001b[39m \u001b[38;5;241m1\u001b[39m):\n\u001b[1;32m----> 3\u001b[0m     \u001b[43mtrain\u001b[49m\u001b[43m(\u001b[49m\u001b[43mcnn\u001b[49m\u001b[43m,\u001b[49m\u001b[43m \u001b[49m\u001b[43mdl_train\u001b[49m\u001b[43m,\u001b[49m\u001b[43m \u001b[49m\u001b[43moptimizer\u001b[49m\u001b[43m,\u001b[49m\u001b[43m \u001b[49m\u001b[43mepoch\u001b[49m\u001b[43m,\u001b[49m\u001b[43m \u001b[49m\u001b[43mlog_interval\u001b[49m\u001b[38;5;241;43m=\u001b[39;49m\u001b[38;5;241;43m100\u001b[39;49m\u001b[43m)\u001b[49m\n\u001b[0;32m      4\u001b[0m     test(cnn, dl_test)    \n\u001b[0;32m      5\u001b[0m     scheduler\u001b[38;5;241m.\u001b[39mstep()\n",
      "Cell \u001b[1;32mIn[28], line 17\u001b[0m, in \u001b[0;36mtrain\u001b[1;34m(model, dl_train, optimizer, epoch, log_interval, device)\u001b[0m\n\u001b[0;32m     14\u001b[0m optimizer\u001b[38;5;241m.\u001b[39mzero_grad()         \n\u001b[0;32m     16\u001b[0m \u001b[38;5;66;03m##### implement this part #####\u001b[39;00m\n\u001b[1;32m---> 17\u001b[0m output \u001b[38;5;241m=\u001b[39m \u001b[43mmodel\u001b[49m\u001b[43m(\u001b[49m\u001b[43mdata\u001b[49m\u001b[43m)\u001b[49m\n\u001b[0;32m     18\u001b[0m loss \u001b[38;5;241m=\u001b[39m F\u001b[38;5;241m.\u001b[39mcross_entropy(output, target)\n\u001b[0;32m     19\u001b[0m loss\u001b[38;5;241m.\u001b[39mbackward()\n",
      "File \u001b[1;32mC:\\APPS\\Anaconda3\\envs\\visdl\\lib\\site-packages\\torch\\nn\\modules\\module.py:1518\u001b[0m, in \u001b[0;36mModule._wrapped_call_impl\u001b[1;34m(self, *args, **kwargs)\u001b[0m\n\u001b[0;32m   1516\u001b[0m     \u001b[38;5;28;01mreturn\u001b[39;00m \u001b[38;5;28mself\u001b[39m\u001b[38;5;241m.\u001b[39m_compiled_call_impl(\u001b[38;5;241m*\u001b[39margs, \u001b[38;5;241m*\u001b[39m\u001b[38;5;241m*\u001b[39mkwargs)  \u001b[38;5;66;03m# type: ignore[misc]\u001b[39;00m\n\u001b[0;32m   1517\u001b[0m \u001b[38;5;28;01melse\u001b[39;00m:\n\u001b[1;32m-> 1518\u001b[0m     \u001b[38;5;28;01mreturn\u001b[39;00m \u001b[38;5;28mself\u001b[39m\u001b[38;5;241m.\u001b[39m_call_impl(\u001b[38;5;241m*\u001b[39margs, \u001b[38;5;241m*\u001b[39m\u001b[38;5;241m*\u001b[39mkwargs)\n",
      "File \u001b[1;32mC:\\APPS\\Anaconda3\\envs\\visdl\\lib\\site-packages\\torch\\nn\\modules\\module.py:1527\u001b[0m, in \u001b[0;36mModule._call_impl\u001b[1;34m(self, *args, **kwargs)\u001b[0m\n\u001b[0;32m   1522\u001b[0m \u001b[38;5;66;03m# If we don't have any hooks, we want to skip the rest of the logic in\u001b[39;00m\n\u001b[0;32m   1523\u001b[0m \u001b[38;5;66;03m# this function, and just call forward.\u001b[39;00m\n\u001b[0;32m   1524\u001b[0m \u001b[38;5;28;01mif\u001b[39;00m \u001b[38;5;129;01mnot\u001b[39;00m (\u001b[38;5;28mself\u001b[39m\u001b[38;5;241m.\u001b[39m_backward_hooks \u001b[38;5;129;01mor\u001b[39;00m \u001b[38;5;28mself\u001b[39m\u001b[38;5;241m.\u001b[39m_backward_pre_hooks \u001b[38;5;129;01mor\u001b[39;00m \u001b[38;5;28mself\u001b[39m\u001b[38;5;241m.\u001b[39m_forward_hooks \u001b[38;5;129;01mor\u001b[39;00m \u001b[38;5;28mself\u001b[39m\u001b[38;5;241m.\u001b[39m_forward_pre_hooks\n\u001b[0;32m   1525\u001b[0m         \u001b[38;5;129;01mor\u001b[39;00m _global_backward_pre_hooks \u001b[38;5;129;01mor\u001b[39;00m _global_backward_hooks\n\u001b[0;32m   1526\u001b[0m         \u001b[38;5;129;01mor\u001b[39;00m _global_forward_hooks \u001b[38;5;129;01mor\u001b[39;00m _global_forward_pre_hooks):\n\u001b[1;32m-> 1527\u001b[0m     \u001b[38;5;28;01mreturn\u001b[39;00m forward_call(\u001b[38;5;241m*\u001b[39margs, \u001b[38;5;241m*\u001b[39m\u001b[38;5;241m*\u001b[39mkwargs)\n\u001b[0;32m   1529\u001b[0m \u001b[38;5;28;01mtry\u001b[39;00m:\n\u001b[0;32m   1530\u001b[0m     result \u001b[38;5;241m=\u001b[39m \u001b[38;5;28;01mNone\u001b[39;00m\n",
      "Cell \u001b[1;32mIn[33], line 26\u001b[0m, in \u001b[0;36mCNN.forward\u001b[1;34m(self, x)\u001b[0m\n\u001b[0;32m     25\u001b[0m \u001b[38;5;28;01mdef\u001b[39;00m \u001b[38;5;21mforward\u001b[39m(\u001b[38;5;28mself\u001b[39m, x):\n\u001b[1;32m---> 26\u001b[0m     \u001b[38;5;28;01mreturn\u001b[39;00m \u001b[38;5;28;43mself\u001b[39;49m\u001b[38;5;241;43m.\u001b[39;49m\u001b[43mmodel\u001b[49m\u001b[43m(\u001b[49m\u001b[43mx\u001b[49m\u001b[43m)\u001b[49m\n",
      "File \u001b[1;32mC:\\APPS\\Anaconda3\\envs\\visdl\\lib\\site-packages\\torch\\nn\\modules\\module.py:1518\u001b[0m, in \u001b[0;36mModule._wrapped_call_impl\u001b[1;34m(self, *args, **kwargs)\u001b[0m\n\u001b[0;32m   1516\u001b[0m     \u001b[38;5;28;01mreturn\u001b[39;00m \u001b[38;5;28mself\u001b[39m\u001b[38;5;241m.\u001b[39m_compiled_call_impl(\u001b[38;5;241m*\u001b[39margs, \u001b[38;5;241m*\u001b[39m\u001b[38;5;241m*\u001b[39mkwargs)  \u001b[38;5;66;03m# type: ignore[misc]\u001b[39;00m\n\u001b[0;32m   1517\u001b[0m \u001b[38;5;28;01melse\u001b[39;00m:\n\u001b[1;32m-> 1518\u001b[0m     \u001b[38;5;28;01mreturn\u001b[39;00m \u001b[38;5;28mself\u001b[39m\u001b[38;5;241m.\u001b[39m_call_impl(\u001b[38;5;241m*\u001b[39margs, \u001b[38;5;241m*\u001b[39m\u001b[38;5;241m*\u001b[39mkwargs)\n",
      "File \u001b[1;32mC:\\APPS\\Anaconda3\\envs\\visdl\\lib\\site-packages\\torch\\nn\\modules\\module.py:1527\u001b[0m, in \u001b[0;36mModule._call_impl\u001b[1;34m(self, *args, **kwargs)\u001b[0m\n\u001b[0;32m   1522\u001b[0m \u001b[38;5;66;03m# If we don't have any hooks, we want to skip the rest of the logic in\u001b[39;00m\n\u001b[0;32m   1523\u001b[0m \u001b[38;5;66;03m# this function, and just call forward.\u001b[39;00m\n\u001b[0;32m   1524\u001b[0m \u001b[38;5;28;01mif\u001b[39;00m \u001b[38;5;129;01mnot\u001b[39;00m (\u001b[38;5;28mself\u001b[39m\u001b[38;5;241m.\u001b[39m_backward_hooks \u001b[38;5;129;01mor\u001b[39;00m \u001b[38;5;28mself\u001b[39m\u001b[38;5;241m.\u001b[39m_backward_pre_hooks \u001b[38;5;129;01mor\u001b[39;00m \u001b[38;5;28mself\u001b[39m\u001b[38;5;241m.\u001b[39m_forward_hooks \u001b[38;5;129;01mor\u001b[39;00m \u001b[38;5;28mself\u001b[39m\u001b[38;5;241m.\u001b[39m_forward_pre_hooks\n\u001b[0;32m   1525\u001b[0m         \u001b[38;5;129;01mor\u001b[39;00m _global_backward_pre_hooks \u001b[38;5;129;01mor\u001b[39;00m _global_backward_hooks\n\u001b[0;32m   1526\u001b[0m         \u001b[38;5;129;01mor\u001b[39;00m _global_forward_hooks \u001b[38;5;129;01mor\u001b[39;00m _global_forward_pre_hooks):\n\u001b[1;32m-> 1527\u001b[0m     \u001b[38;5;28;01mreturn\u001b[39;00m forward_call(\u001b[38;5;241m*\u001b[39margs, \u001b[38;5;241m*\u001b[39m\u001b[38;5;241m*\u001b[39mkwargs)\n\u001b[0;32m   1529\u001b[0m \u001b[38;5;28;01mtry\u001b[39;00m:\n\u001b[0;32m   1530\u001b[0m     result \u001b[38;5;241m=\u001b[39m \u001b[38;5;28;01mNone\u001b[39;00m\n",
      "File \u001b[1;32mC:\\APPS\\Anaconda3\\envs\\visdl\\lib\\site-packages\\torch\\nn\\modules\\container.py:215\u001b[0m, in \u001b[0;36mSequential.forward\u001b[1;34m(self, input)\u001b[0m\n\u001b[0;32m    213\u001b[0m \u001b[38;5;28;01mdef\u001b[39;00m \u001b[38;5;21mforward\u001b[39m(\u001b[38;5;28mself\u001b[39m, \u001b[38;5;28minput\u001b[39m):\n\u001b[0;32m    214\u001b[0m     \u001b[38;5;28;01mfor\u001b[39;00m module \u001b[38;5;129;01min\u001b[39;00m \u001b[38;5;28mself\u001b[39m:\n\u001b[1;32m--> 215\u001b[0m         \u001b[38;5;28minput\u001b[39m \u001b[38;5;241m=\u001b[39m \u001b[43mmodule\u001b[49m\u001b[43m(\u001b[49m\u001b[38;5;28;43minput\u001b[39;49m\u001b[43m)\u001b[49m\n\u001b[0;32m    216\u001b[0m     \u001b[38;5;28;01mreturn\u001b[39;00m \u001b[38;5;28minput\u001b[39m\n",
      "File \u001b[1;32mC:\\APPS\\Anaconda3\\envs\\visdl\\lib\\site-packages\\torch\\nn\\modules\\module.py:1518\u001b[0m, in \u001b[0;36mModule._wrapped_call_impl\u001b[1;34m(self, *args, **kwargs)\u001b[0m\n\u001b[0;32m   1516\u001b[0m     \u001b[38;5;28;01mreturn\u001b[39;00m \u001b[38;5;28mself\u001b[39m\u001b[38;5;241m.\u001b[39m_compiled_call_impl(\u001b[38;5;241m*\u001b[39margs, \u001b[38;5;241m*\u001b[39m\u001b[38;5;241m*\u001b[39mkwargs)  \u001b[38;5;66;03m# type: ignore[misc]\u001b[39;00m\n\u001b[0;32m   1517\u001b[0m \u001b[38;5;28;01melse\u001b[39;00m:\n\u001b[1;32m-> 1518\u001b[0m     \u001b[38;5;28;01mreturn\u001b[39;00m \u001b[38;5;28mself\u001b[39m\u001b[38;5;241m.\u001b[39m_call_impl(\u001b[38;5;241m*\u001b[39margs, \u001b[38;5;241m*\u001b[39m\u001b[38;5;241m*\u001b[39mkwargs)\n",
      "File \u001b[1;32mC:\\APPS\\Anaconda3\\envs\\visdl\\lib\\site-packages\\torch\\nn\\modules\\module.py:1527\u001b[0m, in \u001b[0;36mModule._call_impl\u001b[1;34m(self, *args, **kwargs)\u001b[0m\n\u001b[0;32m   1522\u001b[0m \u001b[38;5;66;03m# If we don't have any hooks, we want to skip the rest of the logic in\u001b[39;00m\n\u001b[0;32m   1523\u001b[0m \u001b[38;5;66;03m# this function, and just call forward.\u001b[39;00m\n\u001b[0;32m   1524\u001b[0m \u001b[38;5;28;01mif\u001b[39;00m \u001b[38;5;129;01mnot\u001b[39;00m (\u001b[38;5;28mself\u001b[39m\u001b[38;5;241m.\u001b[39m_backward_hooks \u001b[38;5;129;01mor\u001b[39;00m \u001b[38;5;28mself\u001b[39m\u001b[38;5;241m.\u001b[39m_backward_pre_hooks \u001b[38;5;129;01mor\u001b[39;00m \u001b[38;5;28mself\u001b[39m\u001b[38;5;241m.\u001b[39m_forward_hooks \u001b[38;5;129;01mor\u001b[39;00m \u001b[38;5;28mself\u001b[39m\u001b[38;5;241m.\u001b[39m_forward_pre_hooks\n\u001b[0;32m   1525\u001b[0m         \u001b[38;5;129;01mor\u001b[39;00m _global_backward_pre_hooks \u001b[38;5;129;01mor\u001b[39;00m _global_backward_hooks\n\u001b[0;32m   1526\u001b[0m         \u001b[38;5;129;01mor\u001b[39;00m _global_forward_hooks \u001b[38;5;129;01mor\u001b[39;00m _global_forward_pre_hooks):\n\u001b[1;32m-> 1527\u001b[0m     \u001b[38;5;28;01mreturn\u001b[39;00m forward_call(\u001b[38;5;241m*\u001b[39margs, \u001b[38;5;241m*\u001b[39m\u001b[38;5;241m*\u001b[39mkwargs)\n\u001b[0;32m   1529\u001b[0m \u001b[38;5;28;01mtry\u001b[39;00m:\n\u001b[0;32m   1530\u001b[0m     result \u001b[38;5;241m=\u001b[39m \u001b[38;5;28;01mNone\u001b[39;00m\n",
      "File \u001b[1;32mC:\\APPS\\Anaconda3\\envs\\visdl\\lib\\site-packages\\torch\\nn\\modules\\conv.py:460\u001b[0m, in \u001b[0;36mConv2d.forward\u001b[1;34m(self, input)\u001b[0m\n\u001b[0;32m    459\u001b[0m \u001b[38;5;28;01mdef\u001b[39;00m \u001b[38;5;21mforward\u001b[39m(\u001b[38;5;28mself\u001b[39m, \u001b[38;5;28minput\u001b[39m: Tensor) \u001b[38;5;241m-\u001b[39m\u001b[38;5;241m>\u001b[39m Tensor:\n\u001b[1;32m--> 460\u001b[0m     \u001b[38;5;28;01mreturn\u001b[39;00m \u001b[38;5;28;43mself\u001b[39;49m\u001b[38;5;241;43m.\u001b[39;49m\u001b[43m_conv_forward\u001b[49m\u001b[43m(\u001b[49m\u001b[38;5;28;43minput\u001b[39;49m\u001b[43m,\u001b[49m\u001b[43m \u001b[49m\u001b[38;5;28;43mself\u001b[39;49m\u001b[38;5;241;43m.\u001b[39;49m\u001b[43mweight\u001b[49m\u001b[43m,\u001b[49m\u001b[43m \u001b[49m\u001b[38;5;28;43mself\u001b[39;49m\u001b[38;5;241;43m.\u001b[39;49m\u001b[43mbias\u001b[49m\u001b[43m)\u001b[49m\n",
      "File \u001b[1;32mC:\\APPS\\Anaconda3\\envs\\visdl\\lib\\site-packages\\torch\\nn\\modules\\conv.py:456\u001b[0m, in \u001b[0;36mConv2d._conv_forward\u001b[1;34m(self, input, weight, bias)\u001b[0m\n\u001b[0;32m    452\u001b[0m \u001b[38;5;28;01mif\u001b[39;00m \u001b[38;5;28mself\u001b[39m\u001b[38;5;241m.\u001b[39mpadding_mode \u001b[38;5;241m!=\u001b[39m \u001b[38;5;124m'\u001b[39m\u001b[38;5;124mzeros\u001b[39m\u001b[38;5;124m'\u001b[39m:\n\u001b[0;32m    453\u001b[0m     \u001b[38;5;28;01mreturn\u001b[39;00m F\u001b[38;5;241m.\u001b[39mconv2d(F\u001b[38;5;241m.\u001b[39mpad(\u001b[38;5;28minput\u001b[39m, \u001b[38;5;28mself\u001b[39m\u001b[38;5;241m.\u001b[39m_reversed_padding_repeated_twice, mode\u001b[38;5;241m=\u001b[39m\u001b[38;5;28mself\u001b[39m\u001b[38;5;241m.\u001b[39mpadding_mode),\n\u001b[0;32m    454\u001b[0m                     weight, bias, \u001b[38;5;28mself\u001b[39m\u001b[38;5;241m.\u001b[39mstride,\n\u001b[0;32m    455\u001b[0m                     _pair(\u001b[38;5;241m0\u001b[39m), \u001b[38;5;28mself\u001b[39m\u001b[38;5;241m.\u001b[39mdilation, \u001b[38;5;28mself\u001b[39m\u001b[38;5;241m.\u001b[39mgroups)\n\u001b[1;32m--> 456\u001b[0m \u001b[38;5;28;01mreturn\u001b[39;00m \u001b[43mF\u001b[49m\u001b[38;5;241;43m.\u001b[39;49m\u001b[43mconv2d\u001b[49m\u001b[43m(\u001b[49m\u001b[38;5;28;43minput\u001b[39;49m\u001b[43m,\u001b[49m\u001b[43m \u001b[49m\u001b[43mweight\u001b[49m\u001b[43m,\u001b[49m\u001b[43m \u001b[49m\u001b[43mbias\u001b[49m\u001b[43m,\u001b[49m\u001b[43m \u001b[49m\u001b[38;5;28;43mself\u001b[39;49m\u001b[38;5;241;43m.\u001b[39;49m\u001b[43mstride\u001b[49m\u001b[43m,\u001b[49m\n\u001b[0;32m    457\u001b[0m \u001b[43m                \u001b[49m\u001b[38;5;28;43mself\u001b[39;49m\u001b[38;5;241;43m.\u001b[39;49m\u001b[43mpadding\u001b[49m\u001b[43m,\u001b[49m\u001b[43m \u001b[49m\u001b[38;5;28;43mself\u001b[39;49m\u001b[38;5;241;43m.\u001b[39;49m\u001b[43mdilation\u001b[49m\u001b[43m,\u001b[49m\u001b[43m \u001b[49m\u001b[38;5;28;43mself\u001b[39;49m\u001b[38;5;241;43m.\u001b[39;49m\u001b[43mgroups\u001b[49m\u001b[43m)\u001b[49m\n",
      "\u001b[1;31mRuntimeError\u001b[0m: Given groups=1, weight of size [32, 1, 3, 3], expected input[128, 3, 32, 32] to have 1 channels, but got 3 channels instead"
     ]
    }
   ],
   "source": [
    "epochs = 5\n",
    "for epoch in range(1, epochs + 1):\n",
    "    train(cnn, dl_train, optimizer, epoch, log_interval=100)\n",
    "    test(cnn, dl_test)    \n",
    "    scheduler.step()"
   ]
  },
  {
   "cell_type": "markdown",
   "metadata": {},
   "source": [
    "This will not work. You should see the following error message\n",
    "\n",
    "```\n",
    "Given groups=1, weight of size [32, 1, 3, 3], expected input[128, 3, 32, 32] to have 1 channels, but got 3 channels instead\n",
    "```\n",
    "\n",
    "This error is telling us that something is not right in the definition of our model. Copy the CNN class from above and make changes, so the training works."
   ]
  },
  {
   "cell_type": "code",
   "execution_count": 44,
   "metadata": {},
   "outputs": [],
   "source": [
    "#########################################################################\n",
    "# TODO: Adapt the definition from the CNN class above to work on CIFAR.\n",
    "# You can copy and run the following prompt for evaluation:\n",
    "# CNN()(torch.randn(1,3,32,32)).shape\n",
    "# It should print 'torch.Size([1, 10])'\n",
    "# Hint: You need to change 2 things. \n",
    "#########################################################################\n",
    "\n",
    "class CNN(nn.Module):\n",
    "    def __init__(self):\n",
    "        super(CNN, self).__init__()\n",
    "        \n",
    "        self.model = nn.Sequential(\n",
    "            nn.Conv2d(in_channels=3, out_channels=32, kernel_size=3, stride=1, padding=0), # 3 input channels\n",
    "            nn.ReLU(),\n",
    "            nn.Conv2d(in_channels=32, out_channels=64, kernel_size=3, stride=1, padding=0),\n",
    "            nn.ReLU(),\n",
    "            nn.MaxPool2d(kernel_size=2, stride=2, padding=0),\n",
    "            nn.Flatten(),\n",
    "            nn.Dropout(p=0.25),\n",
    "            nn.Linear(12544, 128), # change since conv ouput changed\n",
    "            nn.ReLU(),\n",
    "            nn.Dropout(p=0.5),\n",
    "            nn.Linear(128,10)\n",
    "        )\n",
    "        \n",
    "    def forward(self, x):\n",
    "        return self.model(x)"
   ]
  },
  {
   "cell_type": "code",
   "execution_count": 45,
   "metadata": {},
   "outputs": [
    {
     "data": {
      "text/plain": [
       "torch.Size([1, 10])"
      ]
     },
     "execution_count": 45,
     "metadata": {},
     "output_type": "execute_result"
    }
   ],
   "source": [
    "CNN()(torch.randn(1,3,32,32)).shape"
   ]
  },
  {
   "cell_type": "code",
   "execution_count": null,
   "metadata": {},
   "outputs": [],
   "source": []
  },
  {
   "cell_type": "markdown",
   "metadata": {},
   "source": [
    "Let's try again"
   ]
  },
  {
   "cell_type": "code",
   "execution_count": 46,
   "metadata": {
    "scrolled": true
   },
   "outputs": [
    {
     "name": "stdout",
     "output_type": "stream",
     "text": [
      "Train Epoch: 1 [0/50000 (0%)]\tLoss: 2.310962\n",
      "Train Epoch: 1 [12800/50000 (26%)]\tLoss: 2.227585\n",
      "Train Epoch: 1 [25600/50000 (51%)]\tLoss: 2.082448\n",
      "Train Epoch: 1 [38400/50000 (77%)]\tLoss: 2.032011\n",
      "\n",
      "Train set: Average loss: 2.0502, Accuracy: 11057/50000 (22.1%)\n",
      "\n",
      "\n",
      "Test set: Average loss: 1.8857, Accuracy: 3348/10000 (33.480%)\n",
      "\n",
      "Train Epoch: 2 [0/50000 (0%)]\tLoss: 2.019196\n",
      "Train Epoch: 2 [12800/50000 (26%)]\tLoss: 2.061940\n",
      "Train Epoch: 2 [25600/50000 (51%)]\tLoss: 1.916672\n",
      "Train Epoch: 2 [38400/50000 (77%)]\tLoss: 1.862209\n",
      "\n",
      "Train set: Average loss: 1.6967, Accuracy: 15883/50000 (31.8%)\n",
      "\n",
      "\n",
      "Test set: Average loss: 1.7121, Accuracy: 3988/10000 (39.880%)\n",
      "\n",
      "Train Epoch: 3 [0/50000 (0%)]\tLoss: 1.876565\n",
      "Train Epoch: 3 [12800/50000 (26%)]\tLoss: 1.676244\n",
      "Train Epoch: 3 [25600/50000 (51%)]\tLoss: 1.908148\n",
      "Train Epoch: 3 [38400/50000 (77%)]\tLoss: 1.622743\n",
      "\n",
      "Train set: Average loss: 1.6008, Accuracy: 18105/50000 (36.2%)\n",
      "\n",
      "\n",
      "Test set: Average loss: 1.5763, Accuracy: 4472/10000 (44.720%)\n",
      "\n",
      "Train Epoch: 4 [0/50000 (0%)]\tLoss: 1.715800\n",
      "Train Epoch: 4 [12800/50000 (26%)]\tLoss: 1.690841\n",
      "Train Epoch: 4 [25600/50000 (51%)]\tLoss: 1.624305\n",
      "Train Epoch: 4 [38400/50000 (77%)]\tLoss: 1.688380\n",
      "\n",
      "Train set: Average loss: 1.5872, Accuracy: 19817/50000 (39.6%)\n",
      "\n",
      "\n",
      "Test set: Average loss: 1.4846, Accuracy: 4697/10000 (46.970%)\n",
      "\n",
      "Train Epoch: 5 [0/50000 (0%)]\tLoss: 1.497745\n",
      "Train Epoch: 5 [12800/50000 (26%)]\tLoss: 1.575556\n",
      "Train Epoch: 5 [25600/50000 (51%)]\tLoss: 1.528014\n",
      "Train Epoch: 5 [38400/50000 (77%)]\tLoss: 1.512001\n",
      "\n",
      "Train set: Average loss: 1.3633, Accuracy: 21090/50000 (42.2%)\n",
      "\n",
      "\n",
      "Test set: Average loss: 1.4131, Accuracy: 4923/10000 (49.230%)\n",
      "\n",
      "Train Epoch: 6 [0/50000 (0%)]\tLoss: 1.571686\n",
      "Train Epoch: 6 [12800/50000 (26%)]\tLoss: 1.571334\n",
      "Train Epoch: 6 [25600/50000 (51%)]\tLoss: 1.476855\n",
      "Train Epoch: 6 [38400/50000 (77%)]\tLoss: 1.615319\n",
      "\n",
      "Train set: Average loss: 1.5902, Accuracy: 21936/50000 (43.9%)\n",
      "\n",
      "\n",
      "Test set: Average loss: 1.3760, Accuracy: 5074/10000 (50.740%)\n",
      "\n",
      "Train Epoch: 7 [0/50000 (0%)]\tLoss: 1.571863\n",
      "Train Epoch: 7 [12800/50000 (26%)]\tLoss: 1.457623\n",
      "Train Epoch: 7 [25600/50000 (51%)]\tLoss: 1.587569\n",
      "Train Epoch: 7 [38400/50000 (77%)]\tLoss: 1.522881\n",
      "\n",
      "Train set: Average loss: 1.3781, Accuracy: 22546/50000 (45.1%)\n",
      "\n",
      "\n",
      "Test set: Average loss: 1.3403, Accuracy: 5218/10000 (52.180%)\n",
      "\n",
      "Train Epoch: 8 [0/50000 (0%)]\tLoss: 1.499427\n",
      "Train Epoch: 8 [12800/50000 (26%)]\tLoss: 1.453300\n",
      "Train Epoch: 8 [25600/50000 (51%)]\tLoss: 1.597775\n",
      "Train Epoch: 8 [38400/50000 (77%)]\tLoss: 1.508467\n",
      "\n",
      "Train set: Average loss: 1.3464, Accuracy: 23293/50000 (46.6%)\n",
      "\n",
      "\n",
      "Test set: Average loss: 1.3078, Accuracy: 5380/10000 (53.800%)\n",
      "\n",
      "Train Epoch: 9 [0/50000 (0%)]\tLoss: 1.557651\n",
      "Train Epoch: 9 [12800/50000 (26%)]\tLoss: 1.491643\n",
      "Train Epoch: 9 [25600/50000 (51%)]\tLoss: 1.385352\n",
      "Train Epoch: 9 [38400/50000 (77%)]\tLoss: 1.476298\n",
      "\n",
      "Train set: Average loss: 1.5271, Accuracy: 23555/50000 (47.1%)\n",
      "\n",
      "\n",
      "Test set: Average loss: 1.2747, Accuracy: 5511/10000 (55.110%)\n",
      "\n",
      "Train Epoch: 10 [0/50000 (0%)]\tLoss: 1.448282\n",
      "Train Epoch: 10 [12800/50000 (26%)]\tLoss: 1.382433\n",
      "Train Epoch: 10 [25600/50000 (51%)]\tLoss: 1.391129\n",
      "Train Epoch: 10 [38400/50000 (77%)]\tLoss: 1.448022\n",
      "\n",
      "Train set: Average loss: 1.3324, Accuracy: 24312/50000 (48.6%)\n",
      "\n",
      "\n",
      "Test set: Average loss: 1.2520, Accuracy: 5596/10000 (55.960%)\n",
      "\n"
     ]
    }
   ],
   "source": [
    "cnn = CNN()\n",
    "optimizer = optim.SGD(cnn.parameters(), lr=0.001, momentum=0.9, weight_decay=5e-4)\n",
    "scheduler = torch.optim.lr_scheduler.CosineAnnealingLR(optimizer, T_max=200)\n",
    "\n",
    "epochs = 10\n",
    "for epoch in range(1, epochs + 1):\n",
    "    train(cnn, dl_train, optimizer, epoch, log_interval=100)\n",
    "    test(cnn, dl_test)    \n",
    "    scheduler.step()"
   ]
  },
  {
   "cell_type": "markdown",
   "metadata": {},
   "source": [
    "This should give 40 - 50 % - and if you are not already on Colab it will give you a stressed out laptop. The performance is a lot better than random, but we can definitely do better."
   ]
  },
  {
   "cell_type": "markdown",
   "metadata": {},
   "source": [
    "### Have fun with GPUs\n",
    "You can already call it a day until this point because we won't grade the rest of the excecise. You can have more fun with the rest :)\n"
   ]
  },
  {
   "cell_type": "markdown",
   "metadata": {},
   "source": [
    "\n",
    "If you didn't already, move to colab. To use a GPU, follow on the collaboratory menu tabs, \"Runtime\" => \"Change runtime type\" and set it to GPU. Then run the same training loop but now on GPU. \n",
    "\n",
    "It as easy as:"
   ]
  },
  {
   "cell_type": "code",
   "execution_count": null,
   "metadata": {},
   "outputs": [],
   "source": [
    "device = 'cuda'\n",
    "if device == 'cuda': torch.backends.cudnn.benchmark = True # additional speed up\n",
    "\n",
    "cnn = CNN()\n",
    "optimizer = optim.SGD(cnn.parameters(), lr=0.1, momentum=0.9, weight_decay=5e-4)\n",
    "scheduler = torch.optim.lr_scheduler.CosineAnnealingLR(optimizer, T_max=200)\n",
    "cnn = cnn.to(device)\n",
    "\n",
    "epochs = 10\n",
    "for epoch in range(1, epochs + 1):\n",
    "    train(cnn, dl_train, optimizer, epoch, log_interval=100, device=device)\n",
    "    test(cnn, dl_test, device=device)    \n",
    "    scheduler.step()"
   ]
  },
  {
   "cell_type": "markdown",
   "metadata": {},
   "source": [
    "This should be way faster now. But the true advantage of the GPU is that we can use much bigger models now and still train them in a reasonable amount of time. PyTorch is again very handy. The torchvision library comes with varies state-of-the-art model architectures, some of which you have seen in the lecture."
   ]
  },
  {
   "cell_type": "code",
   "execution_count": null,
   "metadata": {},
   "outputs": [],
   "source": [
    "from torchvision.models import resnet18"
   ]
  },
  {
   "cell_type": "code",
   "execution_count": null,
   "metadata": {
    "scrolled": true
   },
   "outputs": [],
   "source": [
    "cnn = resnet18()\n",
    "print(cnn)"
   ]
  },
  {
   "cell_type": "markdown",
   "metadata": {},
   "source": [
    "Looks scary! But the only thing you need to change to make it work on CIFAR is the last layer.\n",
    "Currently the last layer is:\n",
    "```\n",
    "  (fc): Linear(in_features=512, out_features=1000, bias=True)\n",
    "```\n",
    "out_features is the number of classes. This models are developed for Imagenet, a dataset with 1000 classes. So this part of the model you need to adapt. Additionally, you need to add a log-softmax layer again, as we us negative log-likelihood as the training criterion. "
   ]
  },
  {
   "cell_type": "code",
   "execution_count": null,
   "metadata": {},
   "outputs": [],
   "source": [
    "#########################################################################\n",
    "# TODO: Adapt the Resnet to work on CIFAR\n",
    "#########################################################################\n"
   ]
  },
  {
   "cell_type": "code",
   "execution_count": null,
   "metadata": {},
   "outputs": [],
   "source": [
    "# This should print 'torch.Size([16, 10])'\n",
    "cnn(torch.randn(16,3,32,32)).shape"
   ]
  },
  {
   "cell_type": "code",
   "execution_count": null,
   "metadata": {},
   "outputs": [],
   "source": [
    "device = 'cuda'\n",
    "if device == 'cuda': torch.backends.cudnn.benchmark = True # this gives us additional speed up\n",
    "\n",
    "optimizer = optim.SGD(cnn.parameters(), lr=0.1, momentum=0.9, weight_decay=5e-4)\n",
    "scheduler = torch.optim.lr_scheduler.CosineAnnealingLR(optimizer, T_max=200)\n",
    "cnn = cnn.to(device)\n",
    "\n",
    "epochs = 50\n",
    "for epoch in range(1, epochs + 1):\n",
    "    train(cnn, dl_train, optimizer, epoch, log_interval=100, device=device)\n",
    "    test(cnn, dl_test, device=device)    \n",
    "    scheduler.step()"
   ]
  },
  {
   "cell_type": "markdown",
   "metadata": {},
   "source": [
    "This should get us well above 75%, the best we got was ~ 80%.\n",
    "\n",
    "Now, use different torchvision architectures, different optimizers (Adam is always a good choice), data augmentation techniques, and hyperparameter search to achieve a test accuracy of >90 %"
   ]
  },
  {
   "cell_type": "code",
   "execution_count": null,
   "metadata": {},
   "outputs": [],
   "source": []
  }
 ],
 "metadata": {
  "kernelspec": {
   "display_name": "Python 3 (ipykernel)",
   "language": "python",
   "name": "python3"
  },
  "language_info": {
   "codemirror_mode": {
    "name": "ipython",
    "version": 3
   },
   "file_extension": ".py",
   "mimetype": "text/x-python",
   "name": "python",
   "nbconvert_exporter": "python",
   "pygments_lexer": "ipython3",
   "version": "3.9.18"
  },
  "vscode": {
   "interpreter": {
    "hash": "d268b61a0efacafa8645774cb6d0204c9f01d7563ef03f7672146d044e8f345c"
   }
  }
 },
 "nbformat": 4,
 "nbformat_minor": 4
}
